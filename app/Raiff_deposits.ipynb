{
 "cells": [
  {
   "cell_type": "markdown",
   "source": [
    "# Решение задачи прогнозирования открытия вклада\n",
    "\n",
    "* Загрузка данных и их анализ\n",
    "* Обучение и оценка качества модели\n",
    "  + обучение модели\n",
    "  + оценка качества модели\n",
    "* Интерпретация результатов модели\n",
    "* Сохранение результатов"
   ],
   "metadata": {
    "id": "z79gbIw0bWJZ",
    "pycharm": {
     "name": "#%% md\n"
    }
   }
  },
  {
   "cell_type": "markdown",
   "source": [
    "Задача - по различным характеристикам спрогнозировать целевую переменную - открыл ли клиент вклад на предложенных ему условиях или нет."
   ],
   "metadata": {
    "id": "9VDkBu75nCLq",
    "pycharm": {
     "name": "#%% md\n"
    }
   }
  },
  {
   "cell_type": "markdown",
   "source": [
    "## <font color='green'>1. Загрузка данных и их первичный анализ</font>"
   ],
   "metadata": {
    "id": "cgXJLC1Yjpnm",
    "pycharm": {
     "name": "#%% md\n"
    }
   }
  },
  {
   "cell_type": "code",
   "source": [
    "import pandas as pd\n",
    "from matplotlib import pyplot as plt\n",
    "import numpy as np\n",
    "import warnings\n",
    "warnings.filterwarnings(\"ignore\")"
   ],
   "metadata": {
    "id": "7efd5Dz0jBYo",
    "executionInfo": {
     "status": "ok",
     "timestamp": 1677494687133,
     "user_tz": -180,
     "elapsed": 4877,
     "user": {
      "displayName": "Мария Казырид",
      "userId": "12212496271090834493"
     }
    },
    "pycharm": {
     "name": "#%%\n"
    }
   },
   "execution_count": 46,
   "outputs": []
  },
  {
   "cell_type": "markdown",
   "source": [
    "Описание данных клиентов:\n",
    "* deposit, (yes/no). Открыл ли клиент срочный депозит?\n",
    "* age, numerical. Количество полных лет.\n",
    "* job, categorical. Тип занимаемой должности ('admin.','blue-collar','entrepreneur','housemaid','management','retired','self-employed','services','student','technician','unemployed','unknown').\n",
    "* marital, categorical. Cемейное положение ('divorced','married','single','unknown'; note: 'divorced' means divorced or widowed).\n",
    "* education, categorical. Образование ('secondary','tertiary','primary','unknown').\n",
    "* default, categorical. Имеется ли любой вид кредитования? ('no','yes','unknown').\n",
    "* housing, categorical. Имеется ли ипотека? ('no','yes','unknown').\n",
    "* loan, categorical. Имеется ли персональный кредит? ('no','yes','unknown')\n",
    "* contact, categorical. Вид контакта с клиентом ('cellular','telephone','unknown').\n",
    "* month, categorical. В каком месяце было сделано предыдущее предложение ('jan', 'feb', 'mar', ..., 'nov', 'dec').\n",
    "* day, categorical. День месяца в которое было предыдущее предложение (от 1 до 31)\n",
    "* duration, numerical. Продолжительность предыдущего общения в секундах. Important note: this attribute highly affects the output target (e.g., if duration=0 then y='no'). Yet, the duration is not known before a call is performed. Also, after the end of the call y is obviously known. Thus, this input should only be included for benchmark purposes and should be discarded if the intention is to have a realistic predictive model.\n",
    "* campaign, numerical. Количество контактов по этой маркетинговой кампании с этим клиентов (includes last contact).\n",
    "* pdays, numerical. Количество дней, прошедших с предыдущего предложения (число; -1 означает, что раньше не предлагали).\n",
    "* previous, numerical. Количество контактов с этим клиентом в другие маркетинговые кампании.\n",
    "* poutcome, categorical. Результат предыдущего предложения ('failure','other','success','unknown').\n",
    "* balance, numerical. Закодированное название личной числовой характеристики клиента. (Кажется, это просто баланс на счете)\n",
    "\n",
    "\n"
   ],
   "metadata": {
    "id": "SW_Rpf6HRZH0",
    "pycharm": {
     "name": "#%% md\n"
    }
   }
  },
  {
   "cell_type": "code",
   "execution_count": 3,
   "outputs": [
    {
     "data": {
      "text/plain": "       age  balance  campaign   contact  day default deposit  duration  \\\n0       59     2343         1   unknown    5      no     yes      1042   \n1       56       45         1   unknown    5      no     yes      1467   \n2       41     1270         1   unknown    5      no     yes      1389   \n3       55     2476         1   unknown    5      no     yes       579   \n4       54      184         2   unknown    5      no     yes       673   \n...    ...      ...       ...       ...  ...     ...     ...       ...   \n11157   33        1         1  cellular   20      no      no       257   \n11158   39      733         4   unknown   16      no      no        83   \n11159   32       29         2  cellular   19      no      no       156   \n11160   43        0         2  cellular    8      no      no         9   \n11161   34        0         1  cellular    9      no      no       628   \n\n       education housing          job loan  marital month  pdays poutcome  \\\n0      secondary     yes       admin.   no  married   may     -1  unknown   \n1      secondary      no       admin.   no  married   may     -1  unknown   \n2      secondary     yes   technician   no  married   may     -1  unknown   \n3      secondary     yes     services   no  married   may     -1  unknown   \n4       tertiary      no       admin.   no  married   may     -1  unknown   \n...          ...     ...          ...  ...      ...   ...    ...      ...   \n11157    primary     yes  blue-collar   no   single   apr     -1  unknown   \n11158  secondary      no     services   no  married   jun     -1  unknown   \n11159  secondary      no   technician   no   single   aug     -1  unknown   \n11160  secondary      no   technician  yes  married   may    172  failure   \n11161  secondary      no   technician   no  married   jul     -1  unknown   \n\n       previous  \n0             0  \n1             0  \n2             0  \n3             0  \n4             0  \n...         ...  \n11157         0  \n11158         0  \n11159         0  \n11160         5  \n11161         0  \n\n[11162 rows x 17 columns]",
      "text/html": "<div>\n<style scoped>\n    .dataframe tbody tr th:only-of-type {\n        vertical-align: middle;\n    }\n\n    .dataframe tbody tr th {\n        vertical-align: top;\n    }\n\n    .dataframe thead th {\n        text-align: right;\n    }\n</style>\n<table border=\"1\" class=\"dataframe\">\n  <thead>\n    <tr style=\"text-align: right;\">\n      <th></th>\n      <th>age</th>\n      <th>balance</th>\n      <th>campaign</th>\n      <th>contact</th>\n      <th>day</th>\n      <th>default</th>\n      <th>deposit</th>\n      <th>duration</th>\n      <th>education</th>\n      <th>housing</th>\n      <th>job</th>\n      <th>loan</th>\n      <th>marital</th>\n      <th>month</th>\n      <th>pdays</th>\n      <th>poutcome</th>\n      <th>previous</th>\n    </tr>\n  </thead>\n  <tbody>\n    <tr>\n      <th>0</th>\n      <td>59</td>\n      <td>2343</td>\n      <td>1</td>\n      <td>unknown</td>\n      <td>5</td>\n      <td>no</td>\n      <td>yes</td>\n      <td>1042</td>\n      <td>secondary</td>\n      <td>yes</td>\n      <td>admin.</td>\n      <td>no</td>\n      <td>married</td>\n      <td>may</td>\n      <td>-1</td>\n      <td>unknown</td>\n      <td>0</td>\n    </tr>\n    <tr>\n      <th>1</th>\n      <td>56</td>\n      <td>45</td>\n      <td>1</td>\n      <td>unknown</td>\n      <td>5</td>\n      <td>no</td>\n      <td>yes</td>\n      <td>1467</td>\n      <td>secondary</td>\n      <td>no</td>\n      <td>admin.</td>\n      <td>no</td>\n      <td>married</td>\n      <td>may</td>\n      <td>-1</td>\n      <td>unknown</td>\n      <td>0</td>\n    </tr>\n    <tr>\n      <th>2</th>\n      <td>41</td>\n      <td>1270</td>\n      <td>1</td>\n      <td>unknown</td>\n      <td>5</td>\n      <td>no</td>\n      <td>yes</td>\n      <td>1389</td>\n      <td>secondary</td>\n      <td>yes</td>\n      <td>technician</td>\n      <td>no</td>\n      <td>married</td>\n      <td>may</td>\n      <td>-1</td>\n      <td>unknown</td>\n      <td>0</td>\n    </tr>\n    <tr>\n      <th>3</th>\n      <td>55</td>\n      <td>2476</td>\n      <td>1</td>\n      <td>unknown</td>\n      <td>5</td>\n      <td>no</td>\n      <td>yes</td>\n      <td>579</td>\n      <td>secondary</td>\n      <td>yes</td>\n      <td>services</td>\n      <td>no</td>\n      <td>married</td>\n      <td>may</td>\n      <td>-1</td>\n      <td>unknown</td>\n      <td>0</td>\n    </tr>\n    <tr>\n      <th>4</th>\n      <td>54</td>\n      <td>184</td>\n      <td>2</td>\n      <td>unknown</td>\n      <td>5</td>\n      <td>no</td>\n      <td>yes</td>\n      <td>673</td>\n      <td>tertiary</td>\n      <td>no</td>\n      <td>admin.</td>\n      <td>no</td>\n      <td>married</td>\n      <td>may</td>\n      <td>-1</td>\n      <td>unknown</td>\n      <td>0</td>\n    </tr>\n    <tr>\n      <th>...</th>\n      <td>...</td>\n      <td>...</td>\n      <td>...</td>\n      <td>...</td>\n      <td>...</td>\n      <td>...</td>\n      <td>...</td>\n      <td>...</td>\n      <td>...</td>\n      <td>...</td>\n      <td>...</td>\n      <td>...</td>\n      <td>...</td>\n      <td>...</td>\n      <td>...</td>\n      <td>...</td>\n      <td>...</td>\n    </tr>\n    <tr>\n      <th>11157</th>\n      <td>33</td>\n      <td>1</td>\n      <td>1</td>\n      <td>cellular</td>\n      <td>20</td>\n      <td>no</td>\n      <td>no</td>\n      <td>257</td>\n      <td>primary</td>\n      <td>yes</td>\n      <td>blue-collar</td>\n      <td>no</td>\n      <td>single</td>\n      <td>apr</td>\n      <td>-1</td>\n      <td>unknown</td>\n      <td>0</td>\n    </tr>\n    <tr>\n      <th>11158</th>\n      <td>39</td>\n      <td>733</td>\n      <td>4</td>\n      <td>unknown</td>\n      <td>16</td>\n      <td>no</td>\n      <td>no</td>\n      <td>83</td>\n      <td>secondary</td>\n      <td>no</td>\n      <td>services</td>\n      <td>no</td>\n      <td>married</td>\n      <td>jun</td>\n      <td>-1</td>\n      <td>unknown</td>\n      <td>0</td>\n    </tr>\n    <tr>\n      <th>11159</th>\n      <td>32</td>\n      <td>29</td>\n      <td>2</td>\n      <td>cellular</td>\n      <td>19</td>\n      <td>no</td>\n      <td>no</td>\n      <td>156</td>\n      <td>secondary</td>\n      <td>no</td>\n      <td>technician</td>\n      <td>no</td>\n      <td>single</td>\n      <td>aug</td>\n      <td>-1</td>\n      <td>unknown</td>\n      <td>0</td>\n    </tr>\n    <tr>\n      <th>11160</th>\n      <td>43</td>\n      <td>0</td>\n      <td>2</td>\n      <td>cellular</td>\n      <td>8</td>\n      <td>no</td>\n      <td>no</td>\n      <td>9</td>\n      <td>secondary</td>\n      <td>no</td>\n      <td>technician</td>\n      <td>yes</td>\n      <td>married</td>\n      <td>may</td>\n      <td>172</td>\n      <td>failure</td>\n      <td>5</td>\n    </tr>\n    <tr>\n      <th>11161</th>\n      <td>34</td>\n      <td>0</td>\n      <td>1</td>\n      <td>cellular</td>\n      <td>9</td>\n      <td>no</td>\n      <td>no</td>\n      <td>628</td>\n      <td>secondary</td>\n      <td>no</td>\n      <td>technician</td>\n      <td>no</td>\n      <td>married</td>\n      <td>jul</td>\n      <td>-1</td>\n      <td>unknown</td>\n      <td>0</td>\n    </tr>\n  </tbody>\n</table>\n<p>11162 rows × 17 columns</p>\n</div>"
     },
     "execution_count": 3,
     "metadata": {},
     "output_type": "execute_result"
    }
   ],
   "source": [
    "data = pd.read_csv('deposit.csv')\n",
    "data = data.reindex(sorted(data.columns), axis=1)\n",
    "data"
   ],
   "metadata": {
    "collapsed": false,
    "pycharm": {
     "name": "#%%\n"
    }
   }
  },
  {
   "cell_type": "code",
   "source": [
    "data.head()"
   ],
   "metadata": {
    "id": "3WWFMf7BRYFq",
    "executionInfo": {
     "status": "ok",
     "timestamp": 1677494689949,
     "user_tz": -180,
     "elapsed": 15,
     "user": {
      "displayName": "Мария Казырид",
      "userId": "12212496271090834493"
     }
    },
    "colab": {
     "base_uri": "https://localhost:8080/",
     "height": 0
    },
    "outputId": "62dbf5ca-799f-41de-9f98-e3d406eee9cf",
    "pycharm": {
     "name": "#%%\n"
    }
   },
   "execution_count": 4,
   "outputs": [
    {
     "data": {
      "text/plain": "   age  balance  campaign  contact  day default deposit  duration  education  \\\n0   59     2343         1  unknown    5      no     yes      1042  secondary   \n1   56       45         1  unknown    5      no     yes      1467  secondary   \n2   41     1270         1  unknown    5      no     yes      1389  secondary   \n3   55     2476         1  unknown    5      no     yes       579  secondary   \n4   54      184         2  unknown    5      no     yes       673   tertiary   \n\n  housing         job loan  marital month  pdays poutcome  previous  \n0     yes      admin.   no  married   may     -1  unknown         0  \n1      no      admin.   no  married   may     -1  unknown         0  \n2     yes  technician   no  married   may     -1  unknown         0  \n3     yes    services   no  married   may     -1  unknown         0  \n4      no      admin.   no  married   may     -1  unknown         0  ",
      "text/html": "<div>\n<style scoped>\n    .dataframe tbody tr th:only-of-type {\n        vertical-align: middle;\n    }\n\n    .dataframe tbody tr th {\n        vertical-align: top;\n    }\n\n    .dataframe thead th {\n        text-align: right;\n    }\n</style>\n<table border=\"1\" class=\"dataframe\">\n  <thead>\n    <tr style=\"text-align: right;\">\n      <th></th>\n      <th>age</th>\n      <th>balance</th>\n      <th>campaign</th>\n      <th>contact</th>\n      <th>day</th>\n      <th>default</th>\n      <th>deposit</th>\n      <th>duration</th>\n      <th>education</th>\n      <th>housing</th>\n      <th>job</th>\n      <th>loan</th>\n      <th>marital</th>\n      <th>month</th>\n      <th>pdays</th>\n      <th>poutcome</th>\n      <th>previous</th>\n    </tr>\n  </thead>\n  <tbody>\n    <tr>\n      <th>0</th>\n      <td>59</td>\n      <td>2343</td>\n      <td>1</td>\n      <td>unknown</td>\n      <td>5</td>\n      <td>no</td>\n      <td>yes</td>\n      <td>1042</td>\n      <td>secondary</td>\n      <td>yes</td>\n      <td>admin.</td>\n      <td>no</td>\n      <td>married</td>\n      <td>may</td>\n      <td>-1</td>\n      <td>unknown</td>\n      <td>0</td>\n    </tr>\n    <tr>\n      <th>1</th>\n      <td>56</td>\n      <td>45</td>\n      <td>1</td>\n      <td>unknown</td>\n      <td>5</td>\n      <td>no</td>\n      <td>yes</td>\n      <td>1467</td>\n      <td>secondary</td>\n      <td>no</td>\n      <td>admin.</td>\n      <td>no</td>\n      <td>married</td>\n      <td>may</td>\n      <td>-1</td>\n      <td>unknown</td>\n      <td>0</td>\n    </tr>\n    <tr>\n      <th>2</th>\n      <td>41</td>\n      <td>1270</td>\n      <td>1</td>\n      <td>unknown</td>\n      <td>5</td>\n      <td>no</td>\n      <td>yes</td>\n      <td>1389</td>\n      <td>secondary</td>\n      <td>yes</td>\n      <td>technician</td>\n      <td>no</td>\n      <td>married</td>\n      <td>may</td>\n      <td>-1</td>\n      <td>unknown</td>\n      <td>0</td>\n    </tr>\n    <tr>\n      <th>3</th>\n      <td>55</td>\n      <td>2476</td>\n      <td>1</td>\n      <td>unknown</td>\n      <td>5</td>\n      <td>no</td>\n      <td>yes</td>\n      <td>579</td>\n      <td>secondary</td>\n      <td>yes</td>\n      <td>services</td>\n      <td>no</td>\n      <td>married</td>\n      <td>may</td>\n      <td>-1</td>\n      <td>unknown</td>\n      <td>0</td>\n    </tr>\n    <tr>\n      <th>4</th>\n      <td>54</td>\n      <td>184</td>\n      <td>2</td>\n      <td>unknown</td>\n      <td>5</td>\n      <td>no</td>\n      <td>yes</td>\n      <td>673</td>\n      <td>tertiary</td>\n      <td>no</td>\n      <td>admin.</td>\n      <td>no</td>\n      <td>married</td>\n      <td>may</td>\n      <td>-1</td>\n      <td>unknown</td>\n      <td>0</td>\n    </tr>\n  </tbody>\n</table>\n</div>"
     },
     "execution_count": 4,
     "metadata": {},
     "output_type": "execute_result"
    }
   ]
  },
  {
   "cell_type": "code",
   "source": [
    "data.shape"
   ],
   "metadata": {
    "id": "aX7cYQzN0k_Z",
    "executionInfo": {
     "status": "ok",
     "timestamp": 1677494689949,
     "user_tz": -180,
     "elapsed": 12,
     "user": {
      "displayName": "Мария Казырид",
      "userId": "12212496271090834493"
     }
    },
    "colab": {
     "base_uri": "https://localhost:8080/"
    },
    "outputId": "130b6bef-040a-408f-96dc-2bd64f9d4dcb",
    "pycharm": {
     "name": "#%%\n"
    }
   },
   "execution_count": 5,
   "outputs": [
    {
     "data": {
      "text/plain": "(11162, 17)"
     },
     "execution_count": 5,
     "metadata": {},
     "output_type": "execute_result"
    }
   ]
  },
  {
   "cell_type": "code",
   "source": [
    "data.drop_duplicates()"
   ],
   "metadata": {
    "colab": {
     "base_uri": "https://localhost:8080/",
     "height": 0
    },
    "id": "0nI8gowk12_y",
    "executionInfo": {
     "status": "ok",
     "timestamp": 1677494689950,
     "user_tz": -180,
     "elapsed": 11,
     "user": {
      "displayName": "Мария Казырид",
      "userId": "12212496271090834493"
     }
    },
    "outputId": "18135c3a-dff0-4188-f9d6-109be2f7ab44",
    "pycharm": {
     "name": "#%%\n"
    }
   },
   "execution_count": 6,
   "outputs": [
    {
     "data": {
      "text/plain": "       age  balance  campaign   contact  day default deposit  duration  \\\n0       59     2343         1   unknown    5      no     yes      1042   \n1       56       45         1   unknown    5      no     yes      1467   \n2       41     1270         1   unknown    5      no     yes      1389   \n3       55     2476         1   unknown    5      no     yes       579   \n4       54      184         2   unknown    5      no     yes       673   \n...    ...      ...       ...       ...  ...     ...     ...       ...   \n11157   33        1         1  cellular   20      no      no       257   \n11158   39      733         4   unknown   16      no      no        83   \n11159   32       29         2  cellular   19      no      no       156   \n11160   43        0         2  cellular    8      no      no         9   \n11161   34        0         1  cellular    9      no      no       628   \n\n       education housing          job loan  marital month  pdays poutcome  \\\n0      secondary     yes       admin.   no  married   may     -1  unknown   \n1      secondary      no       admin.   no  married   may     -1  unknown   \n2      secondary     yes   technician   no  married   may     -1  unknown   \n3      secondary     yes     services   no  married   may     -1  unknown   \n4       tertiary      no       admin.   no  married   may     -1  unknown   \n...          ...     ...          ...  ...      ...   ...    ...      ...   \n11157    primary     yes  blue-collar   no   single   apr     -1  unknown   \n11158  secondary      no     services   no  married   jun     -1  unknown   \n11159  secondary      no   technician   no   single   aug     -1  unknown   \n11160  secondary      no   technician  yes  married   may    172  failure   \n11161  secondary      no   technician   no  married   jul     -1  unknown   \n\n       previous  \n0             0  \n1             0  \n2             0  \n3             0  \n4             0  \n...         ...  \n11157         0  \n11158         0  \n11159         0  \n11160         5  \n11161         0  \n\n[11162 rows x 17 columns]",
      "text/html": "<div>\n<style scoped>\n    .dataframe tbody tr th:only-of-type {\n        vertical-align: middle;\n    }\n\n    .dataframe tbody tr th {\n        vertical-align: top;\n    }\n\n    .dataframe thead th {\n        text-align: right;\n    }\n</style>\n<table border=\"1\" class=\"dataframe\">\n  <thead>\n    <tr style=\"text-align: right;\">\n      <th></th>\n      <th>age</th>\n      <th>balance</th>\n      <th>campaign</th>\n      <th>contact</th>\n      <th>day</th>\n      <th>default</th>\n      <th>deposit</th>\n      <th>duration</th>\n      <th>education</th>\n      <th>housing</th>\n      <th>job</th>\n      <th>loan</th>\n      <th>marital</th>\n      <th>month</th>\n      <th>pdays</th>\n      <th>poutcome</th>\n      <th>previous</th>\n    </tr>\n  </thead>\n  <tbody>\n    <tr>\n      <th>0</th>\n      <td>59</td>\n      <td>2343</td>\n      <td>1</td>\n      <td>unknown</td>\n      <td>5</td>\n      <td>no</td>\n      <td>yes</td>\n      <td>1042</td>\n      <td>secondary</td>\n      <td>yes</td>\n      <td>admin.</td>\n      <td>no</td>\n      <td>married</td>\n      <td>may</td>\n      <td>-1</td>\n      <td>unknown</td>\n      <td>0</td>\n    </tr>\n    <tr>\n      <th>1</th>\n      <td>56</td>\n      <td>45</td>\n      <td>1</td>\n      <td>unknown</td>\n      <td>5</td>\n      <td>no</td>\n      <td>yes</td>\n      <td>1467</td>\n      <td>secondary</td>\n      <td>no</td>\n      <td>admin.</td>\n      <td>no</td>\n      <td>married</td>\n      <td>may</td>\n      <td>-1</td>\n      <td>unknown</td>\n      <td>0</td>\n    </tr>\n    <tr>\n      <th>2</th>\n      <td>41</td>\n      <td>1270</td>\n      <td>1</td>\n      <td>unknown</td>\n      <td>5</td>\n      <td>no</td>\n      <td>yes</td>\n      <td>1389</td>\n      <td>secondary</td>\n      <td>yes</td>\n      <td>technician</td>\n      <td>no</td>\n      <td>married</td>\n      <td>may</td>\n      <td>-1</td>\n      <td>unknown</td>\n      <td>0</td>\n    </tr>\n    <tr>\n      <th>3</th>\n      <td>55</td>\n      <td>2476</td>\n      <td>1</td>\n      <td>unknown</td>\n      <td>5</td>\n      <td>no</td>\n      <td>yes</td>\n      <td>579</td>\n      <td>secondary</td>\n      <td>yes</td>\n      <td>services</td>\n      <td>no</td>\n      <td>married</td>\n      <td>may</td>\n      <td>-1</td>\n      <td>unknown</td>\n      <td>0</td>\n    </tr>\n    <tr>\n      <th>4</th>\n      <td>54</td>\n      <td>184</td>\n      <td>2</td>\n      <td>unknown</td>\n      <td>5</td>\n      <td>no</td>\n      <td>yes</td>\n      <td>673</td>\n      <td>tertiary</td>\n      <td>no</td>\n      <td>admin.</td>\n      <td>no</td>\n      <td>married</td>\n      <td>may</td>\n      <td>-1</td>\n      <td>unknown</td>\n      <td>0</td>\n    </tr>\n    <tr>\n      <th>...</th>\n      <td>...</td>\n      <td>...</td>\n      <td>...</td>\n      <td>...</td>\n      <td>...</td>\n      <td>...</td>\n      <td>...</td>\n      <td>...</td>\n      <td>...</td>\n      <td>...</td>\n      <td>...</td>\n      <td>...</td>\n      <td>...</td>\n      <td>...</td>\n      <td>...</td>\n      <td>...</td>\n      <td>...</td>\n    </tr>\n    <tr>\n      <th>11157</th>\n      <td>33</td>\n      <td>1</td>\n      <td>1</td>\n      <td>cellular</td>\n      <td>20</td>\n      <td>no</td>\n      <td>no</td>\n      <td>257</td>\n      <td>primary</td>\n      <td>yes</td>\n      <td>blue-collar</td>\n      <td>no</td>\n      <td>single</td>\n      <td>apr</td>\n      <td>-1</td>\n      <td>unknown</td>\n      <td>0</td>\n    </tr>\n    <tr>\n      <th>11158</th>\n      <td>39</td>\n      <td>733</td>\n      <td>4</td>\n      <td>unknown</td>\n      <td>16</td>\n      <td>no</td>\n      <td>no</td>\n      <td>83</td>\n      <td>secondary</td>\n      <td>no</td>\n      <td>services</td>\n      <td>no</td>\n      <td>married</td>\n      <td>jun</td>\n      <td>-1</td>\n      <td>unknown</td>\n      <td>0</td>\n    </tr>\n    <tr>\n      <th>11159</th>\n      <td>32</td>\n      <td>29</td>\n      <td>2</td>\n      <td>cellular</td>\n      <td>19</td>\n      <td>no</td>\n      <td>no</td>\n      <td>156</td>\n      <td>secondary</td>\n      <td>no</td>\n      <td>technician</td>\n      <td>no</td>\n      <td>single</td>\n      <td>aug</td>\n      <td>-1</td>\n      <td>unknown</td>\n      <td>0</td>\n    </tr>\n    <tr>\n      <th>11160</th>\n      <td>43</td>\n      <td>0</td>\n      <td>2</td>\n      <td>cellular</td>\n      <td>8</td>\n      <td>no</td>\n      <td>no</td>\n      <td>9</td>\n      <td>secondary</td>\n      <td>no</td>\n      <td>technician</td>\n      <td>yes</td>\n      <td>married</td>\n      <td>may</td>\n      <td>172</td>\n      <td>failure</td>\n      <td>5</td>\n    </tr>\n    <tr>\n      <th>11161</th>\n      <td>34</td>\n      <td>0</td>\n      <td>1</td>\n      <td>cellular</td>\n      <td>9</td>\n      <td>no</td>\n      <td>no</td>\n      <td>628</td>\n      <td>secondary</td>\n      <td>no</td>\n      <td>technician</td>\n      <td>no</td>\n      <td>married</td>\n      <td>jul</td>\n      <td>-1</td>\n      <td>unknown</td>\n      <td>0</td>\n    </tr>\n  </tbody>\n</table>\n<p>11162 rows × 17 columns</p>\n</div>"
     },
     "execution_count": 6,
     "metadata": {},
     "output_type": "execute_result"
    }
   ]
  },
  {
   "cell_type": "code",
   "source": [
    "data.dtypes"
   ],
   "metadata": {
    "id": "1FjpaGIa0mjt",
    "executionInfo": {
     "status": "ok",
     "timestamp": 1677494689950,
     "user_tz": -180,
     "elapsed": 10,
     "user": {
      "displayName": "Мария Казырид",
      "userId": "12212496271090834493"
     }
    },
    "colab": {
     "base_uri": "https://localhost:8080/"
    },
    "outputId": "d8fdaa18-7d85-4021-84ae-68730bda8226",
    "pycharm": {
     "name": "#%%\n"
    }
   },
   "execution_count": 7,
   "outputs": [
    {
     "data": {
      "text/plain": "age           int64\nbalance       int64\ncampaign      int64\ncontact      object\nday           int64\ndefault      object\ndeposit      object\nduration      int64\neducation    object\nhousing      object\njob          object\nloan         object\nmarital      object\nmonth        object\npdays         int64\npoutcome     object\nprevious      int64\ndtype: object"
     },
     "execution_count": 7,
     "metadata": {},
     "output_type": "execute_result"
    }
   ]
  },
  {
   "cell_type": "markdown",
   "source": [
    "## Сохранение данных"
   ],
   "metadata": {
    "id": "0ALQi-Vf2rYb",
    "pycharm": {
     "name": "#%% md\n"
    }
   }
  },
  {
   "cell_type": "code",
   "source": [
    "data.to_csv(\"bank_deposits.csv\", index=False)"
   ],
   "metadata": {
    "id": "nAFYRh072trA",
    "pycharm": {
     "name": "#%%\n"
    }
   },
   "execution_count": null,
   "outputs": []
  },
  {
   "cell_type": "markdown",
   "source": [
    "# Разведочный анализ данных"
   ],
   "metadata": {
    "id": "9u5kjESXjg-s",
    "pycharm": {
     "name": "#%% md\n"
    }
   }
  },
  {
   "cell_type": "markdown",
   "source": [
    "## 1. Оценка качества данных\n",
    "* пропущенные значения\n",
    "* ошибочные значения"
   ],
   "metadata": {
    "id": "ORzwrTOrltqs",
    "pycharm": {
     "name": "#%% md\n"
    }
   }
  },
  {
   "cell_type": "code",
   "source": [
    "len(data)"
   ],
   "metadata": {
    "id": "NgePYC_PkkxM",
    "executionInfo": {
     "status": "ok",
     "timestamp": 1677494698280,
     "user_tz": -180,
     "elapsed": 289,
     "user": {
      "displayName": "Мария Казырид",
      "userId": "12212496271090834493"
     }
    },
    "colab": {
     "base_uri": "https://localhost:8080/"
    },
    "outputId": "ba660122-419d-4d69-e36a-5a8919d8565e",
    "pycharm": {
     "name": "#%%\n"
    }
   },
   "execution_count": 8,
   "outputs": [
    {
     "data": {
      "text/plain": "11162"
     },
     "execution_count": 8,
     "metadata": {},
     "output_type": "execute_result"
    }
   ]
  },
  {
   "cell_type": "markdown",
   "source": [
    "Посмотрим, есть ли в данных пропущенные значения."
   ],
   "metadata": {
    "id": "Eib6Vj3eUOWi",
    "pycharm": {
     "name": "#%% md\n"
    }
   }
  },
  {
   "cell_type": "code",
   "source": [
    "data.isna().sum()"
   ],
   "metadata": {
    "id": "rM92inoDURTx",
    "executionInfo": {
     "status": "ok",
     "timestamp": 1677494698960,
     "user_tz": -180,
     "elapsed": 3,
     "user": {
      "displayName": "Мария Казырид",
      "userId": "12212496271090834493"
     }
    },
    "colab": {
     "base_uri": "https://localhost:8080/"
    },
    "outputId": "4063b218-50c8-40c1-ac79-b2de4e77f24f",
    "pycharm": {
     "name": "#%%\n"
    }
   },
   "execution_count": 9,
   "outputs": [
    {
     "data": {
      "text/plain": "age          0\nbalance      0\ncampaign     0\ncontact      0\nday          0\ndefault      0\ndeposit      0\nduration     0\neducation    0\nhousing      0\njob          0\nloan         0\nmarital      0\nmonth        0\npdays        0\npoutcome     0\nprevious     0\ndtype: int64"
     },
     "execution_count": 9,
     "metadata": {},
     "output_type": "execute_result"
    }
   ]
  },
  {
   "cell_type": "markdown",
   "source": [
    "## Ошибочные значения"
   ],
   "metadata": {
    "id": "rzypjl5l3Q57",
    "pycharm": {
     "name": "#%% md\n"
    }
   }
  },
  {
   "cell_type": "markdown",
   "source": [
    "Проверка значений столбцов"
   ],
   "metadata": {
    "id": "ebpU4gvGCcYe",
    "pycharm": {
     "name": "#%% md\n"
    }
   }
  },
  {
   "cell_type": "code",
   "source": [
    "data['age'].value_counts()"
   ],
   "metadata": {
    "id": "pNb1Br9I1CMz",
    "colab": {
     "base_uri": "https://localhost:8080/"
    },
    "executionInfo": {
     "status": "ok",
     "timestamp": 1677494701325,
     "user_tz": -180,
     "elapsed": 18,
     "user": {
      "displayName": "Мария Казырид",
      "userId": "12212496271090834493"
     }
    },
    "outputId": "609568fa-39dc-4594-c42e-7a0e5b979e4f",
    "pycharm": {
     "name": "#%%\n"
    }
   },
   "execution_count": 10,
   "outputs": [
    {
     "data": {
      "text/plain": "31    496\n32    477\n34    466\n33    464\n35    461\n     ... \n92      2\n93      2\n88      2\n95      1\n89      1\nName: age, Length: 76, dtype: int64"
     },
     "execution_count": 10,
     "metadata": {},
     "output_type": "execute_result"
    }
   ]
  },
  {
   "cell_type": "code",
   "source": [
    "data['job'].value_counts()"
   ],
   "metadata": {
    "colab": {
     "base_uri": "https://localhost:8080/"
    },
    "id": "1MRuTZZnqHuc",
    "executionInfo": {
     "status": "ok",
     "timestamp": 1677494701325,
     "user_tz": -180,
     "elapsed": 17,
     "user": {
      "displayName": "Мария Казырид",
      "userId": "12212496271090834493"
     }
    },
    "outputId": "be75e3c3-5428-4981-e89d-a8356b73bfb8",
    "pycharm": {
     "name": "#%%\n"
    }
   },
   "execution_count": 11,
   "outputs": [
    {
     "data": {
      "text/plain": "management       2566\nblue-collar      1944\ntechnician       1823\nadmin.           1334\nservices          923\nretired           778\nself-employed     405\nstudent           360\nunemployed        357\nentrepreneur      328\nhousemaid         274\nunknown            70\nName: job, dtype: int64"
     },
     "execution_count": 11,
     "metadata": {},
     "output_type": "execute_result"
    }
   ]
  },
  {
   "cell_type": "code",
   "source": [
    "data['marital'].value_counts()"
   ],
   "metadata": {
    "colab": {
     "base_uri": "https://localhost:8080/"
    },
    "id": "zb2nHpUxqhrw",
    "executionInfo": {
     "status": "ok",
     "timestamp": 1677494701326,
     "user_tz": -180,
     "elapsed": 17,
     "user": {
      "displayName": "Мария Казырид",
      "userId": "12212496271090834493"
     }
    },
    "outputId": "90da5970-97df-4de8-dac8-c20a859b4ce9",
    "pycharm": {
     "name": "#%%\n"
    }
   },
   "execution_count": 12,
   "outputs": [
    {
     "data": {
      "text/plain": "married     6351\nsingle      3518\ndivorced    1293\nName: marital, dtype: int64"
     },
     "execution_count": 12,
     "metadata": {},
     "output_type": "execute_result"
    }
   ]
  },
  {
   "cell_type": "code",
   "source": [
    "data['education'].value_counts()"
   ],
   "metadata": {
    "colab": {
     "base_uri": "https://localhost:8080/"
    },
    "id": "jo03qG3PqoTu",
    "executionInfo": {
     "status": "ok",
     "timestamp": 1677494701326,
     "user_tz": -180,
     "elapsed": 16,
     "user": {
      "displayName": "Мария Казырид",
      "userId": "12212496271090834493"
     }
    },
    "outputId": "9bee78b5-4903-481f-d607-04cb1e634691",
    "pycharm": {
     "name": "#%%\n"
    }
   },
   "execution_count": 13,
   "outputs": [
    {
     "data": {
      "text/plain": "secondary    5476\ntertiary     3689\nprimary      1500\nunknown       497\nName: education, dtype: int64"
     },
     "execution_count": 13,
     "metadata": {},
     "output_type": "execute_result"
    }
   ]
  },
  {
   "cell_type": "code",
   "source": [
    "data['default'].value_counts()"
   ],
   "metadata": {
    "colab": {
     "base_uri": "https://localhost:8080/"
    },
    "id": "Nq4TDPb0rJ8H",
    "executionInfo": {
     "status": "ok",
     "timestamp": 1677494701327,
     "user_tz": -180,
     "elapsed": 16,
     "user": {
      "displayName": "Мария Казырид",
      "userId": "12212496271090834493"
     }
    },
    "outputId": "201c1024-2046-4c00-ca16-ae00a1231fc8",
    "pycharm": {
     "name": "#%%\n"
    }
   },
   "execution_count": 14,
   "outputs": [
    {
     "data": {
      "text/plain": "no     10994\nyes      168\nName: default, dtype: int64"
     },
     "execution_count": 14,
     "metadata": {},
     "output_type": "execute_result"
    }
   ]
  },
  {
   "cell_type": "code",
   "source": [
    "data['default'] = data['default'].replace('no', '')\n",
    "data['default'] = data['default'].replace('yes', '1')"
   ],
   "metadata": {
    "id": "JyZEzP5_Xz0g",
    "executionInfo": {
     "status": "ok",
     "timestamp": 1677494701327,
     "user_tz": -180,
     "elapsed": 15,
     "user": {
      "displayName": "Мария Казырид",
      "userId": "12212496271090834493"
     }
    },
    "pycharm": {
     "name": "#%%\n"
    }
   },
   "execution_count": 15,
   "outputs": []
  },
  {
   "cell_type": "code",
   "source": [
    "data['default'] = data['default'].astype('bool')"
   ],
   "metadata": {
    "id": "kGLcrF-XX-Pr",
    "executionInfo": {
     "status": "ok",
     "timestamp": 1677494701328,
     "user_tz": -180,
     "elapsed": 15,
     "user": {
      "displayName": "Мария Казырид",
      "userId": "12212496271090834493"
     }
    },
    "pycharm": {
     "name": "#%%\n"
    }
   },
   "execution_count": 16,
   "outputs": []
  },
  {
   "cell_type": "code",
   "source": [
    "data['default'].value_counts()"
   ],
   "metadata": {
    "colab": {
     "base_uri": "https://localhost:8080/"
    },
    "id": "7J-UB8rfbrqn",
    "executionInfo": {
     "status": "ok",
     "timestamp": 1677494701328,
     "user_tz": -180,
     "elapsed": 15,
     "user": {
      "displayName": "Мария Казырид",
      "userId": "12212496271090834493"
     }
    },
    "outputId": "698cb81f-677b-4d57-f21a-088de0c7cba2",
    "pycharm": {
     "name": "#%%\n"
    }
   },
   "execution_count": 17,
   "outputs": [
    {
     "data": {
      "text/plain": "False    10994\nTrue       168\nName: default, dtype: int64"
     },
     "execution_count": 17,
     "metadata": {},
     "output_type": "execute_result"
    }
   ]
  },
  {
   "cell_type": "code",
   "source": [
    "data['balance'].value_counts()"
   ],
   "metadata": {
    "colab": {
     "base_uri": "https://localhost:8080/"
    },
    "id": "WNyGWk8ArT6_",
    "executionInfo": {
     "status": "ok",
     "timestamp": 1677494701329,
     "user_tz": -180,
     "elapsed": 14,
     "user": {
      "displayName": "Мария Казырид",
      "userId": "12212496271090834493"
     }
    },
    "outputId": "62d16923-6abc-4d3e-e0c5-245bd8ee85d7",
    "pycharm": {
     "name": "#%%\n"
    }
   },
   "execution_count": 18,
   "outputs": [
    {
     "data": {
      "text/plain": " 0       774\n 1        39\n 3        35\n 2        34\n 4        29\n        ... \n 5517      1\n 8332      1\n 4859      1\n-267       1\n-134       1\nName: balance, Length: 3805, dtype: int64"
     },
     "execution_count": 18,
     "metadata": {},
     "output_type": "execute_result"
    }
   ]
  },
  {
   "cell_type": "code",
   "source": [
    "data['housing'].value_counts()"
   ],
   "metadata": {
    "colab": {
     "base_uri": "https://localhost:8080/"
    },
    "id": "-Tho1c_dtLvv",
    "executionInfo": {
     "status": "ok",
     "timestamp": 1677494701329,
     "user_tz": -180,
     "elapsed": 13,
     "user": {
      "displayName": "Мария Казырид",
      "userId": "12212496271090834493"
     }
    },
    "outputId": "27efedab-28f4-48b0-930d-1d7848ea822f",
    "pycharm": {
     "name": "#%%\n"
    }
   },
   "execution_count": 19,
   "outputs": [
    {
     "data": {
      "text/plain": "no     5881\nyes    5281\nName: housing, dtype: int64"
     },
     "execution_count": 19,
     "metadata": {},
     "output_type": "execute_result"
    }
   ]
  },
  {
   "cell_type": "code",
   "source": [
    "data['housing'] = data['housing'].replace('no', '')\n",
    "data['housing'] = data['housing'].replace('yes', '1')"
   ],
   "metadata": {
    "id": "DZQpcoLQYXpK",
    "executionInfo": {
     "status": "ok",
     "timestamp": 1677494701329,
     "user_tz": -180,
     "elapsed": 12,
     "user": {
      "displayName": "Мария Казырид",
      "userId": "12212496271090834493"
     }
    },
    "pycharm": {
     "name": "#%%\n"
    }
   },
   "execution_count": 20,
   "outputs": []
  },
  {
   "cell_type": "code",
   "source": [
    "data['housing'] = data['housing'].astype('bool')"
   ],
   "metadata": {
    "id": "GKzb9RBnYeHI",
    "executionInfo": {
     "status": "ok",
     "timestamp": 1677494701330,
     "user_tz": -180,
     "elapsed": 13,
     "user": {
      "displayName": "Мария Казырид",
      "userId": "12212496271090834493"
     }
    },
    "pycharm": {
     "name": "#%%\n"
    }
   },
   "execution_count": 21,
   "outputs": []
  },
  {
   "cell_type": "code",
   "source": [
    "data['housing'].value_counts()"
   ],
   "metadata": {
    "colab": {
     "base_uri": "https://localhost:8080/"
    },
    "id": "dmvybzz5bwJl",
    "executionInfo": {
     "status": "ok",
     "timestamp": 1677494701330,
     "user_tz": -180,
     "elapsed": 13,
     "user": {
      "displayName": "Мария Казырид",
      "userId": "12212496271090834493"
     }
    },
    "outputId": "1756c8cd-9f79-4b52-ee47-25b81018cb58",
    "pycharm": {
     "name": "#%%\n"
    }
   },
   "execution_count": 22,
   "outputs": [
    {
     "data": {
      "text/plain": "False    5881\nTrue     5281\nName: housing, dtype: int64"
     },
     "execution_count": 22,
     "metadata": {},
     "output_type": "execute_result"
    }
   ]
  },
  {
   "cell_type": "code",
   "source": [
    "data['loan'].value_counts()"
   ],
   "metadata": {
    "colab": {
     "base_uri": "https://localhost:8080/"
    },
    "id": "ZRr3entmtSQg",
    "executionInfo": {
     "status": "ok",
     "timestamp": 1677494701330,
     "user_tz": -180,
     "elapsed": 12,
     "user": {
      "displayName": "Мария Казырид",
      "userId": "12212496271090834493"
     }
    },
    "outputId": "d36346a1-fb26-4cec-f65e-7e021179612c",
    "pycharm": {
     "name": "#%%\n"
    }
   },
   "execution_count": 23,
   "outputs": [
    {
     "data": {
      "text/plain": "no     9702\nyes    1460\nName: loan, dtype: int64"
     },
     "execution_count": 23,
     "metadata": {},
     "output_type": "execute_result"
    }
   ]
  },
  {
   "cell_type": "code",
   "source": [
    "data['loan'] = data['loan'].replace('no', '')\n",
    "data['loan'] = data['loan'].replace('yes', '1')"
   ],
   "metadata": {
    "id": "CPOEiWTIa5pX",
    "executionInfo": {
     "status": "ok",
     "timestamp": 1677494701331,
     "user_tz": -180,
     "elapsed": 12,
     "user": {
      "displayName": "Мария Казырид",
      "userId": "12212496271090834493"
     }
    },
    "pycharm": {
     "name": "#%%\n"
    }
   },
   "execution_count": 24,
   "outputs": []
  },
  {
   "cell_type": "code",
   "source": [
    "data['loan'] = data['loan'].astype('bool')"
   ],
   "metadata": {
    "id": "Tb-WatTia-s5",
    "executionInfo": {
     "status": "ok",
     "timestamp": 1677494701331,
     "user_tz": -180,
     "elapsed": 12,
     "user": {
      "displayName": "Мария Казырид",
      "userId": "12212496271090834493"
     }
    },
    "pycharm": {
     "name": "#%%\n"
    }
   },
   "execution_count": 25,
   "outputs": []
  },
  {
   "cell_type": "code",
   "source": [
    "data['loan'].value_counts()"
   ],
   "metadata": {
    "colab": {
     "base_uri": "https://localhost:8080/"
    },
    "id": "WQd1GJRkb0sm",
    "executionInfo": {
     "status": "ok",
     "timestamp": 1677494701727,
     "user_tz": -180,
     "elapsed": 407,
     "user": {
      "displayName": "Мария Казырид",
      "userId": "12212496271090834493"
     }
    },
    "outputId": "daf099e9-1f38-4e1f-97aa-d136f7a51c00",
    "pycharm": {
     "name": "#%%\n"
    }
   },
   "execution_count": 26,
   "outputs": [
    {
     "data": {
      "text/plain": "False    9702\nTrue     1460\nName: loan, dtype: int64"
     },
     "execution_count": 26,
     "metadata": {},
     "output_type": "execute_result"
    }
   ]
  },
  {
   "cell_type": "code",
   "source": [
    "data['contact'].value_counts()"
   ],
   "metadata": {
    "colab": {
     "base_uri": "https://localhost:8080/"
    },
    "id": "AaPFzm8auagh",
    "executionInfo": {
     "status": "ok",
     "timestamp": 1677494701727,
     "user_tz": -180,
     "elapsed": 10,
     "user": {
      "displayName": "Мария Казырид",
      "userId": "12212496271090834493"
     }
    },
    "outputId": "c6eee566-b7b0-4f15-8f94-4561db4eb036",
    "pycharm": {
     "name": "#%%\n"
    }
   },
   "execution_count": 27,
   "outputs": [
    {
     "data": {
      "text/plain": "cellular     8042\nunknown      2346\ntelephone     774\nName: contact, dtype: int64"
     },
     "execution_count": 27,
     "metadata": {},
     "output_type": "execute_result"
    }
   ]
  },
  {
   "cell_type": "code",
   "source": [
    "data['day'].value_counts() "
   ],
   "metadata": {
    "colab": {
     "base_uri": "https://localhost:8080/"
    },
    "id": "qznMLX6RuqKE",
    "executionInfo": {
     "status": "ok",
     "timestamp": 1677494701728,
     "user_tz": -180,
     "elapsed": 10,
     "user": {
      "displayName": "Мария Казырид",
      "userId": "12212496271090834493"
     }
    },
    "outputId": "cb2fad53-cc10-44a5-edbe-18ae5eea7ecb",
    "pycharm": {
     "name": "#%%\n"
    }
   },
   "execution_count": 28,
   "outputs": [
    {
     "data": {
      "text/plain": "20    570\n18    548\n30    478\n5     477\n15    466\n14    463\n13    453\n21    452\n6     447\n12    445\n8     419\n17    411\n28    410\n4     402\n29    388\n19    384\n7     382\n11    373\n16    369\n9     364\n2     334\n3     306\n27    284\n22    269\n26    252\n23    245\n25    224\n10    163\n31    140\n24    122\n1     122\nName: day, dtype: int64"
     },
     "execution_count": 28,
     "metadata": {},
     "output_type": "execute_result"
    }
   ]
  },
  {
   "cell_type": "code",
   "source": [
    "data['month'].value_counts() "
   ],
   "metadata": {
    "colab": {
     "base_uri": "https://localhost:8080/"
    },
    "id": "CT135YRGuwuY",
    "executionInfo": {
     "status": "ok",
     "timestamp": 1677494701728,
     "user_tz": -180,
     "elapsed": 9,
     "user": {
      "displayName": "Мария Казырид",
      "userId": "12212496271090834493"
     }
    },
    "outputId": "9c7855fb-2e69-4acb-af2a-b7a78f2217dc",
    "pycharm": {
     "name": "#%%\n"
    }
   },
   "execution_count": 29,
   "outputs": [
    {
     "data": {
      "text/plain": "may    2824\naug    1519\njul    1514\njun    1222\nnov     943\napr     923\nfeb     776\noct     392\njan     344\nsep     319\nmar     276\ndec     110\nName: month, dtype: int64"
     },
     "execution_count": 29,
     "metadata": {},
     "output_type": "execute_result"
    }
   ]
  },
  {
   "cell_type": "code",
   "source": [
    "data['duration'].value_counts() "
   ],
   "metadata": {
    "colab": {
     "base_uri": "https://localhost:8080/"
    },
    "id": "z4QQ4uD8u2y7",
    "executionInfo": {
     "status": "ok",
     "timestamp": 1677494701728,
     "user_tz": -180,
     "elapsed": 9,
     "user": {
      "displayName": "Мария Казырид",
      "userId": "12212496271090834493"
     }
    },
    "outputId": "be8ce745-d6d8-4e8a-e932-de7fa12c5a7c",
    "pycharm": {
     "name": "#%%\n"
    }
   },
   "execution_count": 30,
   "outputs": [
    {
     "data": {
      "text/plain": "97      39\n161     38\n158     37\n119     37\n150     37\n        ..\n915      1\n2029     1\n1499     1\n1399     1\n1812     1\nName: duration, Length: 1428, dtype: int64"
     },
     "execution_count": 30,
     "metadata": {},
     "output_type": "execute_result"
    }
   ]
  },
  {
   "cell_type": "code",
   "source": [
    "data['campaign'].value_counts() "
   ],
   "metadata": {
    "colab": {
     "base_uri": "https://localhost:8080/"
    },
    "id": "IPS8GRs4u-LD",
    "executionInfo": {
     "status": "ok",
     "timestamp": 1677494701729,
     "user_tz": -180,
     "elapsed": 9,
     "user": {
      "displayName": "Мария Казырид",
      "userId": "12212496271090834493"
     }
    },
    "outputId": "756df183-70cd-40bc-d3cd-4b0f3eee91b1",
    "pycharm": {
     "name": "#%%\n"
    }
   },
   "execution_count": 31,
   "outputs": [
    {
     "data": {
      "text/plain": "1     4798\n2     3028\n3     1321\n4      771\n5      378\n6      265\n7      139\n8      128\n9       72\n10      52\n11      40\n13      30\n12      29\n14      15\n17      14\n15      13\n16       9\n18       8\n21       8\n20       5\n19       5\n24       5\n22       4\n30       4\n23       3\n25       3\n26       3\n32       2\n43       2\n29       2\n33       1\n28       1\n41       1\n27       1\n63       1\n31       1\nName: campaign, dtype: int64"
     },
     "execution_count": 31,
     "metadata": {},
     "output_type": "execute_result"
    }
   ]
  },
  {
   "cell_type": "code",
   "source": [
    "data['pdays'].value_counts()"
   ],
   "metadata": {
    "colab": {
     "base_uri": "https://localhost:8080/"
    },
    "id": "9iJXP5dLvFwe",
    "executionInfo": {
     "status": "ok",
     "timestamp": 1677494701729,
     "user_tz": -180,
     "elapsed": 9,
     "user": {
      "displayName": "Мария Казырид",
      "userId": "12212496271090834493"
     }
    },
    "outputId": "d4e31959-5d96-4ffa-b4e0-e44ca53e85ec",
    "pycharm": {
     "name": "#%%\n"
    }
   },
   "execution_count": 32,
   "outputs": [
    {
     "data": {
      "text/plain": "-1      8324\n 92      106\n 182      89\n 91       84\n 181      81\n        ... \n 437       1\n 728       1\n 518       1\n 828       1\n 118       1\nName: pdays, Length: 472, dtype: int64"
     },
     "execution_count": 32,
     "metadata": {},
     "output_type": "execute_result"
    }
   ]
  },
  {
   "cell_type": "code",
   "source": [
    "data['previous'].value_counts()"
   ],
   "metadata": {
    "colab": {
     "base_uri": "https://localhost:8080/"
    },
    "id": "pPHtIUtPvTtn",
    "executionInfo": {
     "status": "ok",
     "timestamp": 1677494701729,
     "user_tz": -180,
     "elapsed": 8,
     "user": {
      "displayName": "Мария Казырид",
      "userId": "12212496271090834493"
     }
    },
    "outputId": "b493918f-8f30-4678-9507-36db6a6af083",
    "pycharm": {
     "name": "#%%\n"
    }
   },
   "execution_count": 33,
   "outputs": [
    {
     "data": {
      "text/plain": "0     8324\n1      887\n2      693\n3      435\n4      244\n5      165\n6      117\n7       77\n8       60\n9       34\n10      30\n11      23\n12      16\n13      11\n17      11\n14       6\n15       5\n19       4\n16       2\n20       2\n27       2\n23       2\n40       1\n41       1\n28       1\n18       1\n58       1\n55       1\n26       1\n21       1\n22       1\n30       1\n29       1\n37       1\nName: previous, dtype: int64"
     },
     "execution_count": 33,
     "metadata": {},
     "output_type": "execute_result"
    }
   ]
  },
  {
   "cell_type": "code",
   "source": [
    "data['poutcome'].value_counts()"
   ],
   "metadata": {
    "colab": {
     "base_uri": "https://localhost:8080/"
    },
    "id": "iCeqwP3nvahX",
    "executionInfo": {
     "status": "ok",
     "timestamp": 1677494701729,
     "user_tz": -180,
     "elapsed": 8,
     "user": {
      "displayName": "Мария Казырид",
      "userId": "12212496271090834493"
     }
    },
    "outputId": "2fb9e99a-8be0-445f-f2fa-a9491d6b0bae",
    "pycharm": {
     "name": "#%%\n"
    }
   },
   "execution_count": 34,
   "outputs": [
    {
     "data": {
      "text/plain": "unknown    8326\nfailure    1228\nsuccess    1071\nother       537\nName: poutcome, dtype: int64"
     },
     "execution_count": 34,
     "metadata": {},
     "output_type": "execute_result"
    }
   ]
  },
  {
   "cell_type": "code",
   "source": [
    "data['deposit'].value_counts()"
   ],
   "metadata": {
    "colab": {
     "base_uri": "https://localhost:8080/"
    },
    "id": "VWjZYA4_vngr",
    "executionInfo": {
     "status": "ok",
     "timestamp": 1677494701730,
     "user_tz": -180,
     "elapsed": 8,
     "user": {
      "displayName": "Мария Казырид",
      "userId": "12212496271090834493"
     }
    },
    "outputId": "6cb163c3-5cdc-40be-9ec8-38c116d124ca",
    "pycharm": {
     "name": "#%%\n"
    }
   },
   "execution_count": 35,
   "outputs": [
    {
     "data": {
      "text/plain": "no     5873\nyes    5289\nName: deposit, dtype: int64"
     },
     "execution_count": 35,
     "metadata": {},
     "output_type": "execute_result"
    }
   ]
  },
  {
   "cell_type": "code",
   "source": [
    "data['deposit'] = data['deposit'].replace('no', '')\n",
    "data['deposit'] = data['deposit'].replace('yes', '1')"
   ],
   "metadata": {
    "id": "19iZavm2yDdY",
    "executionInfo": {
     "status": "ok",
     "timestamp": 1677494701730,
     "user_tz": -180,
     "elapsed": 8,
     "user": {
      "displayName": "Мария Казырид",
      "userId": "12212496271090834493"
     }
    },
    "pycharm": {
     "name": "#%%\n"
    }
   },
   "execution_count": 36,
   "outputs": []
  },
  {
   "cell_type": "code",
   "source": [
    "data['deposit'] = data['deposit'].astype('bool')"
   ],
   "metadata": {
    "id": "pL8OV1De0iOL",
    "executionInfo": {
     "status": "ok",
     "timestamp": 1677494701730,
     "user_tz": -180,
     "elapsed": 7,
     "user": {
      "displayName": "Мария Казырид",
      "userId": "12212496271090834493"
     }
    },
    "pycharm": {
     "name": "#%%\n"
    }
   },
   "execution_count": 37,
   "outputs": []
  },
  {
   "cell_type": "code",
   "source": [
    "data['deposit'].value_counts()"
   ],
   "metadata": {
    "colab": {
     "base_uri": "https://localhost:8080/"
    },
    "id": "t49QguGrb9cn",
    "executionInfo": {
     "status": "ok",
     "timestamp": 1677494701730,
     "user_tz": -180,
     "elapsed": 7,
     "user": {
      "displayName": "Мария Казырид",
      "userId": "12212496271090834493"
     }
    },
    "outputId": "8b3906a6-e332-4485-e862-587026b32c8f",
    "pycharm": {
     "name": "#%%\n"
    }
   },
   "execution_count": 38,
   "outputs": [
    {
     "data": {
      "text/plain": "False    5873\nTrue     5289\nName: deposit, dtype: int64"
     },
     "execution_count": 38,
     "metadata": {},
     "output_type": "execute_result"
    }
   ]
  },
  {
   "cell_type": "code",
   "source": [
    "data.dtypes"
   ],
   "metadata": {
    "colab": {
     "base_uri": "https://localhost:8080/"
    },
    "id": "BASiWivQySId",
    "executionInfo": {
     "status": "ok",
     "timestamp": 1677494701731,
     "user_tz": -180,
     "elapsed": 8,
     "user": {
      "displayName": "Мария Казырид",
      "userId": "12212496271090834493"
     }
    },
    "outputId": "b7b13ab6-11b5-4fe3-9710-e8005a5537ff",
    "pycharm": {
     "name": "#%%\n"
    }
   },
   "execution_count": 39,
   "outputs": [
    {
     "data": {
      "text/plain": "age           int64\nbalance       int64\ncampaign      int64\ncontact      object\nday           int64\ndefault        bool\ndeposit        bool\nduration      int64\neducation    object\nhousing        bool\njob          object\nloan           bool\nmarital      object\nmonth        object\npdays         int64\npoutcome     object\nprevious      int64\ndtype: object"
     },
     "execution_count": 39,
     "metadata": {},
     "output_type": "execute_result"
    }
   ]
  },
  {
   "cell_type": "markdown",
   "source": [
    "## Основные числовые характеристики"
   ],
   "metadata": {
    "id": "2nouWWLZl6oA",
    "pycharm": {
     "name": "#%% md\n"
    }
   }
  },
  {
   "cell_type": "code",
   "source": [
    "data['deposit'].value_counts()"
   ],
   "metadata": {
    "id": "EuBlDOeX5JM5",
    "colab": {
     "base_uri": "https://localhost:8080/"
    },
    "executionInfo": {
     "status": "ok",
     "timestamp": 1677494703825,
     "user_tz": -180,
     "elapsed": 13,
     "user": {
      "displayName": "Мария Казырид",
      "userId": "12212496271090834493"
     }
    },
    "outputId": "47a5e710-3a89-42d4-e69d-663afaf956a6",
    "pycharm": {
     "name": "#%%\n"
    }
   },
   "execution_count": 40,
   "outputs": [
    {
     "data": {
      "text/plain": "False    5873\nTrue     5289\nName: deposit, dtype: int64"
     },
     "execution_count": 40,
     "metadata": {},
     "output_type": "execute_result"
    }
   ]
  },
  {
   "cell_type": "code",
   "source": [
    "data.describe()"
   ],
   "metadata": {
    "id": "B5qadSUDl-vu",
    "colab": {
     "base_uri": "https://localhost:8080/",
     "height": 0
    },
    "executionInfo": {
     "status": "ok",
     "timestamp": 1677494703826,
     "user_tz": -180,
     "elapsed": 12,
     "user": {
      "displayName": "Мария Казырид",
      "userId": "12212496271090834493"
     }
    },
    "outputId": "1bd712b0-0986-4b6c-9159-ddf58a8f5263",
    "pycharm": {
     "name": "#%%\n"
    }
   },
   "execution_count": 41,
   "outputs": [
    {
     "data": {
      "text/plain": "                age       balance      campaign           day      duration  \\\ncount  11162.000000  11162.000000  11162.000000  11162.000000  11162.000000   \nmean      41.231948   1528.538524      2.508421     15.658036    371.993818   \nstd       11.913369   3225.413326      2.722077      8.420740    347.128386   \nmin       18.000000  -6847.000000      1.000000      1.000000      2.000000   \n25%       32.000000    122.000000      1.000000      8.000000    138.000000   \n50%       39.000000    550.000000      2.000000     15.000000    255.000000   \n75%       49.000000   1708.000000      3.000000     22.000000    496.000000   \nmax       95.000000  81204.000000     63.000000     31.000000   3881.000000   \n\n              pdays      previous  \ncount  11162.000000  11162.000000  \nmean      51.330407      0.832557  \nstd      108.758282      2.292007  \nmin       -1.000000      0.000000  \n25%       -1.000000      0.000000  \n50%       -1.000000      0.000000  \n75%       20.750000      1.000000  \nmax      854.000000     58.000000  ",
      "text/html": "<div>\n<style scoped>\n    .dataframe tbody tr th:only-of-type {\n        vertical-align: middle;\n    }\n\n    .dataframe tbody tr th {\n        vertical-align: top;\n    }\n\n    .dataframe thead th {\n        text-align: right;\n    }\n</style>\n<table border=\"1\" class=\"dataframe\">\n  <thead>\n    <tr style=\"text-align: right;\">\n      <th></th>\n      <th>age</th>\n      <th>balance</th>\n      <th>campaign</th>\n      <th>day</th>\n      <th>duration</th>\n      <th>pdays</th>\n      <th>previous</th>\n    </tr>\n  </thead>\n  <tbody>\n    <tr>\n      <th>count</th>\n      <td>11162.000000</td>\n      <td>11162.000000</td>\n      <td>11162.000000</td>\n      <td>11162.000000</td>\n      <td>11162.000000</td>\n      <td>11162.000000</td>\n      <td>11162.000000</td>\n    </tr>\n    <tr>\n      <th>mean</th>\n      <td>41.231948</td>\n      <td>1528.538524</td>\n      <td>2.508421</td>\n      <td>15.658036</td>\n      <td>371.993818</td>\n      <td>51.330407</td>\n      <td>0.832557</td>\n    </tr>\n    <tr>\n      <th>std</th>\n      <td>11.913369</td>\n      <td>3225.413326</td>\n      <td>2.722077</td>\n      <td>8.420740</td>\n      <td>347.128386</td>\n      <td>108.758282</td>\n      <td>2.292007</td>\n    </tr>\n    <tr>\n      <th>min</th>\n      <td>18.000000</td>\n      <td>-6847.000000</td>\n      <td>1.000000</td>\n      <td>1.000000</td>\n      <td>2.000000</td>\n      <td>-1.000000</td>\n      <td>0.000000</td>\n    </tr>\n    <tr>\n      <th>25%</th>\n      <td>32.000000</td>\n      <td>122.000000</td>\n      <td>1.000000</td>\n      <td>8.000000</td>\n      <td>138.000000</td>\n      <td>-1.000000</td>\n      <td>0.000000</td>\n    </tr>\n    <tr>\n      <th>50%</th>\n      <td>39.000000</td>\n      <td>550.000000</td>\n      <td>2.000000</td>\n      <td>15.000000</td>\n      <td>255.000000</td>\n      <td>-1.000000</td>\n      <td>0.000000</td>\n    </tr>\n    <tr>\n      <th>75%</th>\n      <td>49.000000</td>\n      <td>1708.000000</td>\n      <td>3.000000</td>\n      <td>22.000000</td>\n      <td>496.000000</td>\n      <td>20.750000</td>\n      <td>1.000000</td>\n    </tr>\n    <tr>\n      <th>max</th>\n      <td>95.000000</td>\n      <td>81204.000000</td>\n      <td>63.000000</td>\n      <td>31.000000</td>\n      <td>3881.000000</td>\n      <td>854.000000</td>\n      <td>58.000000</td>\n    </tr>\n  </tbody>\n</table>\n</div>"
     },
     "execution_count": 41,
     "metadata": {},
     "output_type": "execute_result"
    }
   ]
  },
  {
   "cell_type": "code",
   "source": [
    "data.describe(include='object') # категориальные колонки"
   ],
   "metadata": {
    "id": "oQYBiBdQxzqU",
    "colab": {
     "base_uri": "https://localhost:8080/",
     "height": 0
    },
    "executionInfo": {
     "status": "ok",
     "timestamp": 1677494703827,
     "user_tz": -180,
     "elapsed": 11,
     "user": {
      "displayName": "Мария Казырид",
      "userId": "12212496271090834493"
     }
    },
    "outputId": "0200cd57-408a-4f94-fa05-9e46a55af0df",
    "pycharm": {
     "name": "#%%\n"
    }
   },
   "execution_count": 42,
   "outputs": [
    {
     "data": {
      "text/plain": "         contact  education         job  marital  month poutcome\ncount      11162      11162       11162    11162  11162    11162\nunique         3          4          12        3     12        4\ntop     cellular  secondary  management  married    may  unknown\nfreq        8042       5476        2566     6351   2824     8326",
      "text/html": "<div>\n<style scoped>\n    .dataframe tbody tr th:only-of-type {\n        vertical-align: middle;\n    }\n\n    .dataframe tbody tr th {\n        vertical-align: top;\n    }\n\n    .dataframe thead th {\n        text-align: right;\n    }\n</style>\n<table border=\"1\" class=\"dataframe\">\n  <thead>\n    <tr style=\"text-align: right;\">\n      <th></th>\n      <th>contact</th>\n      <th>education</th>\n      <th>job</th>\n      <th>marital</th>\n      <th>month</th>\n      <th>poutcome</th>\n    </tr>\n  </thead>\n  <tbody>\n    <tr>\n      <th>count</th>\n      <td>11162</td>\n      <td>11162</td>\n      <td>11162</td>\n      <td>11162</td>\n      <td>11162</td>\n      <td>11162</td>\n    </tr>\n    <tr>\n      <th>unique</th>\n      <td>3</td>\n      <td>4</td>\n      <td>12</td>\n      <td>3</td>\n      <td>12</td>\n      <td>4</td>\n    </tr>\n    <tr>\n      <th>top</th>\n      <td>cellular</td>\n      <td>secondary</td>\n      <td>management</td>\n      <td>married</td>\n      <td>may</td>\n      <td>unknown</td>\n    </tr>\n    <tr>\n      <th>freq</th>\n      <td>8042</td>\n      <td>5476</td>\n      <td>2566</td>\n      <td>6351</td>\n      <td>2824</td>\n      <td>8326</td>\n    </tr>\n  </tbody>\n</table>\n</div>"
     },
     "execution_count": 42,
     "metadata": {},
     "output_type": "execute_result"
    }
   ]
  },
  {
   "cell_type": "code",
   "source": [
    "corr = data.corr()\n",
    "corr.style.background_gradient(cmap='coolwarm')"
   ],
   "metadata": {
    "id": "ba6wxZGjx50Y",
    "colab": {
     "base_uri": "https://localhost:8080/",
     "height": 0
    },
    "executionInfo": {
     "status": "ok",
     "timestamp": 1677494704419,
     "user_tz": -180,
     "elapsed": 601,
     "user": {
      "displayName": "Мария Казырид",
      "userId": "12212496271090834493"
     }
    },
    "outputId": "e067cf86-c648-4aa2-8f88-753c90205d6a",
    "pycharm": {
     "name": "#%%\n"
    }
   },
   "execution_count": 43,
   "outputs": [
    {
     "data": {
      "text/plain": "<pandas.io.formats.style.Styler at 0x1d7128d2e90>",
      "text/html": "<style type=\"text/css\">\n#T_82056_row0_col0, #T_82056_row1_col1, #T_82056_row2_col2, #T_82056_row3_col3, #T_82056_row4_col4, #T_82056_row5_col5, #T_82056_row6_col6, #T_82056_row7_col7, #T_82056_row8_col8, #T_82056_row9_col9, #T_82056_row10_col10 {\n  background-color: #b40426;\n  color: #f1f1f1;\n}\n#T_82056_row0_col1 {\n  background-color: #7597f6;\n  color: #f1f1f1;\n}\n#T_82056_row0_col2, #T_82056_row1_col9, #T_82056_row10_col1 {\n  background-color: #5b7ae5;\n  color: #f1f1f1;\n}\n#T_82056_row0_col3, #T_82056_row0_col8, #T_82056_row3_col4, #T_82056_row7_col6, #T_82056_row9_col8 {\n  background-color: #506bda;\n  color: #f1f1f1;\n}\n#T_82056_row0_col4 {\n  background-color: #485fd1;\n  color: #f1f1f1;\n}\n#T_82056_row0_col5, #T_82056_row2_col3, #T_82056_row6_col7 {\n  background-color: #7a9df8;\n  color: #f1f1f1;\n}\n#T_82056_row0_col6 {\n  background-color: #465ecf;\n  color: #f1f1f1;\n}\n#T_82056_row0_col7, #T_82056_row4_col6, #T_82056_row6_col10 {\n  background-color: #4358cb;\n  color: #f1f1f1;\n}\n#T_82056_row0_col9, #T_82056_row9_col1 {\n  background-color: #5875e1;\n  color: #f1f1f1;\n}\n#T_82056_row0_col10, #T_82056_row6_col2, #T_82056_row8_col5 {\n  background-color: #516ddb;\n  color: #f1f1f1;\n}\n#T_82056_row1_col0 {\n  background-color: #89acfd;\n  color: #000000;\n}\n#T_82056_row1_col2, #T_82056_row6_col1, #T_82056_row6_col8 {\n  background-color: #5977e3;\n  color: #f1f1f1;\n}\n#T_82056_row1_col3, #T_82056_row10_col8 {\n  background-color: #536edd;\n  color: #f1f1f1;\n}\n#T_82056_row1_col4, #T_82056_row2_col6, #T_82056_row2_col9, #T_82056_row3_col10, #T_82056_row5_col2, #T_82056_row5_col7, #T_82056_row5_col8, #T_82056_row7_col0, #T_82056_row7_col5, #T_82056_row8_col1, #T_82056_row9_col3 {\n  background-color: #3b4cc0;\n  color: #f1f1f1;\n}\n#T_82056_row1_col5, #T_82056_row3_col2 {\n  background-color: #88abfd;\n  color: #000000;\n}\n#T_82056_row1_col6, #T_82056_row4_col9 {\n  background-color: #4c66d6;\n  color: #f1f1f1;\n}\n#T_82056_row1_col7 {\n  background-color: #5a78e4;\n  color: #f1f1f1;\n}\n#T_82056_row1_col8, #T_82056_row3_col6, #T_82056_row3_col9, #T_82056_row4_col1, #T_82056_row4_col10, #T_82056_row9_col2, #T_82056_row9_col4 {\n  background-color: #4055c8;\n  color: #f1f1f1;\n}\n#T_82056_row1_col10 {\n  background-color: #5470de;\n  color: #f1f1f1;\n}\n#T_82056_row2_col0 {\n  background-color: #6687ed;\n  color: #f1f1f1;\n}\n#T_82056_row2_col1, #T_82056_row2_col5, #T_82056_row8_col9 {\n  background-color: #4e68d8;\n  color: #f1f1f1;\n}\n#T_82056_row2_col4, #T_82056_row3_col1, #T_82056_row4_col3, #T_82056_row8_col3 {\n  background-color: #5572df;\n  color: #f1f1f1;\n}\n#T_82056_row2_col7, #T_82056_row5_col0 {\n  background-color: #7295f4;\n  color: #f1f1f1;\n}\n#T_82056_row2_col8, #T_82056_row8_col4 {\n  background-color: #6384eb;\n  color: #f1f1f1;\n}\n#T_82056_row2_col10 {\n  background-color: #3d50c3;\n  color: #f1f1f1;\n}\n#T_82056_row3_col0, #T_82056_row4_col2, #T_82056_row6_col0, #T_82056_row8_col2 {\n  background-color: #6788ee;\n  color: #f1f1f1;\n}\n#T_82056_row3_col5 {\n  background-color: #6180e9;\n  color: #f1f1f1;\n}\n#T_82056_row3_col7 {\n  background-color: #6c8ff1;\n  color: #f1f1f1;\n}\n#T_82056_row3_col8 {\n  background-color: #5e7de7;\n  color: #f1f1f1;\n}\n#T_82056_row4_col0, #T_82056_row4_col5 {\n  background-color: #6485ec;\n  color: #f1f1f1;\n}\n#T_82056_row4_col7 {\n  background-color: #7396f5;\n  color: #f1f1f1;\n}\n#T_82056_row4_col8, #T_82056_row7_col8, #T_82056_row10_col7 {\n  background-color: #7093f3;\n  color: #f1f1f1;\n}\n#T_82056_row5_col1 {\n  background-color: #6b8df0;\n  color: #f1f1f1;\n}\n#T_82056_row5_col3, #T_82056_row5_col4, #T_82056_row10_col3 {\n  background-color: #3f53c6;\n  color: #f1f1f1;\n}\n#T_82056_row5_col6 {\n  background-color: #d6dce4;\n  color: #000000;\n}\n#T_82056_row5_col9, #T_82056_row8_col7 {\n  background-color: #86a9fc;\n  color: #f1f1f1;\n}\n#T_82056_row5_col10 {\n  background-color: #779af7;\n  color: #f1f1f1;\n}\n#T_82056_row6_col3 {\n  background-color: #4a63d3;\n  color: #f1f1f1;\n}\n#T_82056_row6_col4 {\n  background-color: #4961d2;\n  color: #f1f1f1;\n}\n#T_82056_row6_col5 {\n  background-color: #e8d6cc;\n  color: #000000;\n}\n#T_82056_row6_col9, #T_82056_row7_col4, #T_82056_row10_col2 {\n  background-color: #4f69d9;\n  color: #f1f1f1;\n}\n#T_82056_row7_col1 {\n  background-color: #3c4ec2;\n  color: #f1f1f1;\n}\n#T_82056_row7_col2, #T_82056_row8_col0 {\n  background-color: #5f7fe8;\n  color: #f1f1f1;\n}\n#T_82056_row7_col3, #T_82056_row7_col10 {\n  background-color: #4b64d5;\n  color: #f1f1f1;\n}\n#T_82056_row7_col9 {\n  background-color: #6a8bef;\n  color: #f1f1f1;\n}\n#T_82056_row8_col6 {\n  background-color: #455cce;\n  color: #f1f1f1;\n}\n#T_82056_row8_col10 {\n  background-color: #445acc;\n  color: #f1f1f1;\n}\n#T_82056_row9_col0 {\n  background-color: #688aef;\n  color: #f1f1f1;\n}\n#T_82056_row9_col5 {\n  background-color: #9dbdff;\n  color: #000000;\n}\n#T_82056_row9_col6, #T_82056_row10_col6 {\n  background-color: #3e51c5;\n  color: #f1f1f1;\n}\n#T_82056_row9_col7 {\n  background-color: #84a7fc;\n  color: #f1f1f1;\n}\n#T_82056_row9_col10 {\n  background-color: #e5d8d1;\n  color: #000000;\n}\n#T_82056_row10_col0 {\n  background-color: #6e90f2;\n  color: #f1f1f1;\n}\n#T_82056_row10_col4 {\n  background-color: #4257c9;\n  color: #f1f1f1;\n}\n#T_82056_row10_col5 {\n  background-color: #9abbff;\n  color: #000000;\n}\n#T_82056_row10_col9 {\n  background-color: #ead5c9;\n  color: #000000;\n}\n</style>\n<table id=\"T_82056\">\n  <thead>\n    <tr>\n      <th class=\"blank level0\" >&nbsp;</th>\n      <th id=\"T_82056_level0_col0\" class=\"col_heading level0 col0\" >age</th>\n      <th id=\"T_82056_level0_col1\" class=\"col_heading level0 col1\" >balance</th>\n      <th id=\"T_82056_level0_col2\" class=\"col_heading level0 col2\" >campaign</th>\n      <th id=\"T_82056_level0_col3\" class=\"col_heading level0 col3\" >day</th>\n      <th id=\"T_82056_level0_col4\" class=\"col_heading level0 col4\" >default</th>\n      <th id=\"T_82056_level0_col5\" class=\"col_heading level0 col5\" >deposit</th>\n      <th id=\"T_82056_level0_col6\" class=\"col_heading level0 col6\" >duration</th>\n      <th id=\"T_82056_level0_col7\" class=\"col_heading level0 col7\" >housing</th>\n      <th id=\"T_82056_level0_col8\" class=\"col_heading level0 col8\" >loan</th>\n      <th id=\"T_82056_level0_col9\" class=\"col_heading level0 col9\" >pdays</th>\n      <th id=\"T_82056_level0_col10\" class=\"col_heading level0 col10\" >previous</th>\n    </tr>\n  </thead>\n  <tbody>\n    <tr>\n      <th id=\"T_82056_level0_row0\" class=\"row_heading level0 row0\" >age</th>\n      <td id=\"T_82056_row0_col0\" class=\"data row0 col0\" >1.000000</td>\n      <td id=\"T_82056_row0_col1\" class=\"data row0 col1\" >0.112300</td>\n      <td id=\"T_82056_row0_col2\" class=\"data row0 col2\" >-0.005278</td>\n      <td id=\"T_82056_row0_col3\" class=\"data row0 col3\" >-0.000762</td>\n      <td id=\"T_82056_row0_col4\" class=\"data row0 col4\" >-0.011425</td>\n      <td id=\"T_82056_row0_col5\" class=\"data row0 col5\" >0.034901</td>\n      <td id=\"T_82056_row0_col6\" class=\"data row0 col6\" >0.000189</td>\n      <td id=\"T_82056_row0_col7\" class=\"data row0 col7\" >-0.168700</td>\n      <td id=\"T_82056_row0_col8\" class=\"data row0 col8\" >-0.031418</td>\n      <td id=\"T_82056_row0_col9\" class=\"data row0 col9\" >0.002774</td>\n      <td id=\"T_82056_row0_col10\" class=\"data row0 col10\" >0.020169</td>\n    </tr>\n    <tr>\n      <th id=\"T_82056_level0_row1\" class=\"row_heading level0 row1\" >balance</th>\n      <td id=\"T_82056_row1_col0\" class=\"data row1 col0\" >0.112300</td>\n      <td id=\"T_82056_row1_col1\" class=\"data row1 col1\" >1.000000</td>\n      <td id=\"T_82056_row1_col2\" class=\"data row1 col2\" >-0.013894</td>\n      <td id=\"T_82056_row1_col3\" class=\"data row1 col3\" >0.010467</td>\n      <td id=\"T_82056_row1_col4\" class=\"data row1 col4\" >-0.060954</td>\n      <td id=\"T_82056_row1_col5\" class=\"data row1 col5\" >0.081129</td>\n      <td id=\"T_82056_row1_col6\" class=\"data row1 col6\" >0.022436</td>\n      <td id=\"T_82056_row1_col7\" class=\"data row1 col7\" >-0.077092</td>\n      <td id=\"T_82056_row1_col8\" class=\"data row1 col8\" >-0.084589</td>\n      <td id=\"T_82056_row1_col9\" class=\"data row1 col9\" >0.017411</td>\n      <td id=\"T_82056_row1_col10\" class=\"data row1 col10\" >0.030805</td>\n    </tr>\n    <tr>\n      <th id=\"T_82056_level0_row2\" class=\"row_heading level0 row2\" >campaign</th>\n      <td id=\"T_82056_row2_col0\" class=\"data row2 col0\" >-0.005278</td>\n      <td id=\"T_82056_row2_col1\" class=\"data row2 col1\" >-0.013894</td>\n      <td id=\"T_82056_row2_col2\" class=\"data row2 col2\" >1.000000</td>\n      <td id=\"T_82056_row2_col3\" class=\"data row2 col3\" >0.137007</td>\n      <td id=\"T_82056_row2_col4\" class=\"data row2 col4\" >0.030975</td>\n      <td id=\"T_82056_row2_col5\" class=\"data row2 col5\" >-0.128081</td>\n      <td id=\"T_82056_row2_col6\" class=\"data row2 col6\" >-0.041557</td>\n      <td id=\"T_82056_row2_col7\" class=\"data row2 col7\" >0.006660</td>\n      <td id=\"T_82056_row2_col8\" class=\"data row2 col8\" >0.034722</td>\n      <td id=\"T_82056_row2_col9\" class=\"data row2 col9\" >-0.102726</td>\n      <td id=\"T_82056_row2_col10\" class=\"data row2 col10\" >-0.049699</td>\n    </tr>\n    <tr>\n      <th id=\"T_82056_level0_row3\" class=\"row_heading level0 row3\" >day</th>\n      <td id=\"T_82056_row3_col0\" class=\"data row3 col0\" >-0.000762</td>\n      <td id=\"T_82056_row3_col1\" class=\"data row3 col1\" >0.010467</td>\n      <td id=\"T_82056_row3_col2\" class=\"data row3 col2\" >0.137007</td>\n      <td id=\"T_82056_row3_col3\" class=\"data row3 col3\" >1.000000</td>\n      <td id=\"T_82056_row3_col4\" class=\"data row3 col4\" >0.017342</td>\n      <td id=\"T_82056_row3_col5\" class=\"data row3 col5\" >-0.056326</td>\n      <td id=\"T_82056_row3_col6\" class=\"data row3 col6\" >-0.018511</td>\n      <td id=\"T_82056_row3_col7\" class=\"data row3 col7\" >-0.014770</td>\n      <td id=\"T_82056_row3_col8\" class=\"data row3 col8\" >0.017269</td>\n      <td id=\"T_82056_row3_col9\" class=\"data row3 col9\" >-0.077232</td>\n      <td id=\"T_82056_row3_col10\" class=\"data row3 col10\" >-0.058981</td>\n    </tr>\n    <tr>\n      <th id=\"T_82056_level0_row4\" class=\"row_heading level0 row4\" >default</th>\n      <td id=\"T_82056_row4_col0\" class=\"data row4 col0\" >-0.011425</td>\n      <td id=\"T_82056_row4_col1\" class=\"data row4 col1\" >-0.060954</td>\n      <td id=\"T_82056_row4_col2\" class=\"data row4 col2\" >0.030975</td>\n      <td id=\"T_82056_row4_col3\" class=\"data row4 col3\" >0.017342</td>\n      <td id=\"T_82056_row4_col4\" class=\"data row4 col4\" >1.000000</td>\n      <td id=\"T_82056_row4_col5\" class=\"data row4 col5\" >-0.040680</td>\n      <td id=\"T_82056_row4_col6\" class=\"data row4 col6\" >-0.009760</td>\n      <td id=\"T_82056_row4_col7\" class=\"data row4 col7\" >0.011076</td>\n      <td id=\"T_82056_row4_col8\" class=\"data row4 col8\" >0.076434</td>\n      <td id=\"T_82056_row4_col9\" class=\"data row4 col9\" >-0.036282</td>\n      <td id=\"T_82056_row4_col10\" class=\"data row4 col10\" >-0.035273</td>\n    </tr>\n    <tr>\n      <th id=\"T_82056_level0_row5\" class=\"row_heading level0 row5\" >deposit</th>\n      <td id=\"T_82056_row5_col0\" class=\"data row5 col0\" >0.034901</td>\n      <td id=\"T_82056_row5_col1\" class=\"data row5 col1\" >0.081129</td>\n      <td id=\"T_82056_row5_col2\" class=\"data row5 col2\" >-0.128081</td>\n      <td id=\"T_82056_row5_col3\" class=\"data row5 col3\" >-0.056326</td>\n      <td id=\"T_82056_row5_col4\" class=\"data row5 col4\" >-0.040680</td>\n      <td id=\"T_82056_row5_col5\" class=\"data row5 col5\" >1.000000</td>\n      <td id=\"T_82056_row5_col6\" class=\"data row5 col6\" >0.451919</td>\n      <td id=\"T_82056_row5_col7\" class=\"data row5 col7\" >-0.203888</td>\n      <td id=\"T_82056_row5_col8\" class=\"data row5 col8\" >-0.110580</td>\n      <td id=\"T_82056_row5_col9\" class=\"data row5 col9\" >0.151593</td>\n      <td id=\"T_82056_row5_col10\" class=\"data row5 col10\" >0.139867</td>\n    </tr>\n    <tr>\n      <th id=\"T_82056_level0_row6\" class=\"row_heading level0 row6\" >duration</th>\n      <td id=\"T_82056_row6_col0\" class=\"data row6 col0\" >0.000189</td>\n      <td id=\"T_82056_row6_col1\" class=\"data row6 col1\" >0.022436</td>\n      <td id=\"T_82056_row6_col2\" class=\"data row6 col2\" >-0.041557</td>\n      <td id=\"T_82056_row6_col3\" class=\"data row6 col3\" >-0.018511</td>\n      <td id=\"T_82056_row6_col4\" class=\"data row6 col4\" >-0.009760</td>\n      <td id=\"T_82056_row6_col5\" class=\"data row6 col5\" >0.451919</td>\n      <td id=\"T_82056_row6_col6\" class=\"data row6 col6\" >1.000000</td>\n      <td id=\"T_82056_row6_col7\" class=\"data row6 col7\" >0.035051</td>\n      <td id=\"T_82056_row6_col8\" class=\"data row6 col8\" >-0.001914</td>\n      <td id=\"T_82056_row6_col9\" class=\"data row6 col9\" >-0.027392</td>\n      <td id=\"T_82056_row6_col10\" class=\"data row6 col10\" >-0.026716</td>\n    </tr>\n    <tr>\n      <th id=\"T_82056_level0_row7\" class=\"row_heading level0 row7\" >housing</th>\n      <td id=\"T_82056_row7_col0\" class=\"data row7 col0\" >-0.168700</td>\n      <td id=\"T_82056_row7_col1\" class=\"data row7 col1\" >-0.077092</td>\n      <td id=\"T_82056_row7_col2\" class=\"data row7 col2\" >0.006660</td>\n      <td id=\"T_82056_row7_col3\" class=\"data row7 col3\" >-0.014770</td>\n      <td id=\"T_82056_row7_col4\" class=\"data row7 col4\" >0.011076</td>\n      <td id=\"T_82056_row7_col5\" class=\"data row7 col5\" >-0.203888</td>\n      <td id=\"T_82056_row7_col6\" class=\"data row7 col6\" >0.035051</td>\n      <td id=\"T_82056_row7_col7\" class=\"data row7 col7\" >1.000000</td>\n      <td id=\"T_82056_row7_col8\" class=\"data row7 col8\" >0.076761</td>\n      <td id=\"T_82056_row7_col9\" class=\"data row7 col9\" >0.064497</td>\n      <td id=\"T_82056_row7_col10\" class=\"data row7 col10\" >-0.000840</td>\n    </tr>\n    <tr>\n      <th id=\"T_82056_level0_row8\" class=\"row_heading level0 row8\" >loan</th>\n      <td id=\"T_82056_row8_col0\" class=\"data row8 col0\" >-0.031418</td>\n      <td id=\"T_82056_row8_col1\" class=\"data row8 col1\" >-0.084589</td>\n      <td id=\"T_82056_row8_col2\" class=\"data row8 col2\" >0.034722</td>\n      <td id=\"T_82056_row8_col3\" class=\"data row8 col3\" >0.017269</td>\n      <td id=\"T_82056_row8_col4\" class=\"data row8 col4\" >0.076434</td>\n      <td id=\"T_82056_row8_col5\" class=\"data row8 col5\" >-0.110580</td>\n      <td id=\"T_82056_row8_col6\" class=\"data row8 col6\" >-0.001914</td>\n      <td id=\"T_82056_row8_col7\" class=\"data row8 col7\" >0.076761</td>\n      <td id=\"T_82056_row8_col8\" class=\"data row8 col8\" >1.000000</td>\n      <td id=\"T_82056_row8_col9\" class=\"data row8 col9\" >-0.030416</td>\n      <td id=\"T_82056_row8_col10\" class=\"data row8 col10\" >-0.022668</td>\n    </tr>\n    <tr>\n      <th id=\"T_82056_level0_row9\" class=\"row_heading level0 row9\" >pdays</th>\n      <td id=\"T_82056_row9_col0\" class=\"data row9 col0\" >0.002774</td>\n      <td id=\"T_82056_row9_col1\" class=\"data row9 col1\" >0.017411</td>\n      <td id=\"T_82056_row9_col2\" class=\"data row9 col2\" >-0.102726</td>\n      <td id=\"T_82056_row9_col3\" class=\"data row9 col3\" >-0.077232</td>\n      <td id=\"T_82056_row9_col4\" class=\"data row9 col4\" >-0.036282</td>\n      <td id=\"T_82056_row9_col5\" class=\"data row9 col5\" >0.151593</td>\n      <td id=\"T_82056_row9_col6\" class=\"data row9 col6\" >-0.027392</td>\n      <td id=\"T_82056_row9_col7\" class=\"data row9 col7\" >0.064497</td>\n      <td id=\"T_82056_row9_col8\" class=\"data row9 col8\" >-0.030416</td>\n      <td id=\"T_82056_row9_col9\" class=\"data row9 col9\" >1.000000</td>\n      <td id=\"T_82056_row9_col10\" class=\"data row9 col10\" >0.507272</td>\n    </tr>\n    <tr>\n      <th id=\"T_82056_level0_row10\" class=\"row_heading level0 row10\" >previous</th>\n      <td id=\"T_82056_row10_col0\" class=\"data row10 col0\" >0.020169</td>\n      <td id=\"T_82056_row10_col1\" class=\"data row10 col1\" >0.030805</td>\n      <td id=\"T_82056_row10_col2\" class=\"data row10 col2\" >-0.049699</td>\n      <td id=\"T_82056_row10_col3\" class=\"data row10 col3\" >-0.058981</td>\n      <td id=\"T_82056_row10_col4\" class=\"data row10 col4\" >-0.035273</td>\n      <td id=\"T_82056_row10_col5\" class=\"data row10 col5\" >0.139867</td>\n      <td id=\"T_82056_row10_col6\" class=\"data row10 col6\" >-0.026716</td>\n      <td id=\"T_82056_row10_col7\" class=\"data row10 col7\" >-0.000840</td>\n      <td id=\"T_82056_row10_col8\" class=\"data row10 col8\" >-0.022668</td>\n      <td id=\"T_82056_row10_col9\" class=\"data row10 col9\" >0.507272</td>\n      <td id=\"T_82056_row10_col10\" class=\"data row10 col10\" >1.000000</td>\n    </tr>\n  </tbody>\n</table>\n"
     },
     "execution_count": 43,
     "metadata": {},
     "output_type": "execute_result"
    }
   ]
  },
  {
   "cell_type": "markdown",
   "source": [
    "## Визуализация данных"
   ],
   "metadata": {
    "id": "Ec9XDcmPl_Pt",
    "pycharm": {
     "name": "#%% md\n"
    }
   }
  },
  {
   "cell_type": "code",
   "source": [
    "plt.scatter(data['previous'], data['deposit'] + np.random.uniform(-0.4, 0.4, len(data['deposit'])), c=data['deposit'])\n",
    "plt.title('Deposit')\n",
    "plt.xlabel('previous')\n",
    "plt.ylabel('deposit Y/N')"
   ],
   "metadata": {
    "colab": {
     "base_uri": "https://localhost:8080/",
     "height": 0
    },
    "id": "-mnsx7ZhxECI",
    "executionInfo": {
     "status": "ok",
     "timestamp": 1677494709421,
     "user_tz": -180,
     "elapsed": 3151,
     "user": {
      "displayName": "Мария Казырид",
      "userId": "12212496271090834493"
     }
    },
    "outputId": "2d081a59-0d83-46a1-8e4d-6865fd43e06f",
    "pycharm": {
     "name": "#%%\n"
    }
   },
   "execution_count": 45,
   "outputs": [
    {
     "data": {
      "text/plain": "Text(0, 0.5, 'deposit Y/N')"
     },
     "execution_count": 45,
     "metadata": {},
     "output_type": "execute_result"
    },
    {
     "data": {
      "text/plain": "<Figure size 640x480 with 1 Axes>",
      "image/png": "[encoded data removed]"
     },
     "metadata": {},
     "output_type": "display_data"
    }
   ]
  },
  {
   "cell_type": "code",
   "source": [
    "data.groupby('deposit')['previous'].mean()"
   ],
   "metadata": {
    "id": "MoGJ4MbW1d4S",
    "colab": {
     "base_uri": "https://localhost:8080/"
    },
    "executionInfo": {
     "status": "ok",
     "timestamp": 1677494709422,
     "user_tz": -180,
     "elapsed": 8,
     "user": {
      "displayName": "Мария Казырид",
      "userId": "12212496271090834493"
     }
    },
    "outputId": "4e65d1f9-d702-47d5-b290-ff552f43b37a",
    "pycharm": {
     "name": "#%%\n"
    }
   },
   "execution_count": 553,
   "outputs": [
    {
     "output_type": "execute_result",
     "data": {
      "text/plain": [
       "deposit\n",
       "False    0.528350\n",
       "True     1.170354\n",
       "Name: previous, dtype: float64"
      ]
     },
     "metadata": {},
     "execution_count": 553
    }
   ]
  },
  {
   "cell_type": "code",
   "source": [
    "plt.scatter(data['duration'], data['deposit']+ np.random.uniform(-0.4, 0.4, len(data['deposit'])), c=data['deposit'])\n",
    "plt.title('Deposit duration')\n",
    "plt.xlabel('duration')\n",
    "plt.ylabel('deposit Y/N')"
   ],
   "metadata": {
    "id": "rU1lz1hh2RCr",
    "colab": {
     "base_uri": "https://localhost:8080/",
     "height": 0
    },
    "executionInfo": {
     "status": "ok",
     "timestamp": 1677494710861,
     "user_tz": -180,
     "elapsed": 1446,
     "user": {
      "displayName": "Мария Казырид",
      "userId": "12212496271090834493"
     }
    },
    "outputId": "2b254165-b9d3-4512-97b9-ea1ad30e5e91",
    "pycharm": {
     "name": "#%%\n"
    }
   },
   "execution_count": 47,
   "outputs": [
    {
     "data": {
      "text/plain": "Text(0, 0.5, 'deposit Y/N')"
     },
     "execution_count": 47,
     "metadata": {},
     "output_type": "execute_result"
    },
    {
     "data": {
      "text/plain": "<Figure size 640x480 with 1 Axes>",
      "image/png": "[encoded data removed]"
     },
     "metadata": {},
     "output_type": "display_data"
    }
   ]
  },
  {
   "cell_type": "code",
   "source": [
    "data.groupby('deposit')['duration'].mean()"
   ],
   "metadata": {
    "id": "zfkk5g352RH6",
    "colab": {
     "base_uri": "https://localhost:8080/"
    },
    "executionInfo": {
     "status": "ok",
     "timestamp": 1677494710862,
     "user_tz": -180,
     "elapsed": 6,
     "user": {
      "displayName": "Мария Казырид",
      "userId": "12212496271090834493"
     }
    },
    "outputId": "53efe28f-361f-458b-81ca-13240d5cb805",
    "pycharm": {
     "name": "#%%\n"
    }
   },
   "execution_count": 48,
   "outputs": [
    {
     "data": {
      "text/plain": "deposit\nFalse    223.130257\nTrue     537.294574\nName: duration, dtype: float64"
     },
     "execution_count": 48,
     "metadata": {},
     "output_type": "execute_result"
    }
   ]
  },
  {
   "cell_type": "markdown",
   "source": [
    "## <font color='green'>2.1. Обучение модели</font>\n",
    "\n"
   ],
   "metadata": {
    "id": "YKqPYfZ3N1Bp",
    "pycharm": {
     "name": "#%% md\n"
    }
   }
  },
  {
   "cell_type": "markdown",
   "source": [
    "Сформируем матрицу X объект-признак и вектор y целевой переменной."
   ],
   "metadata": {
    "id": "YXUwlNSx49ZS",
    "pycharm": {
     "name": "#%% md\n"
    }
   }
  },
  {
   "cell_type": "code",
   "source": [
    "X = data.drop('deposit', axis=1)\n",
    "y = data['deposit']"
   ],
   "metadata": {
    "id": "cgetIc6vRgMi",
    "executionInfo": {
     "status": "ok",
     "timestamp": 1677494723414,
     "user_tz": -180,
     "elapsed": 3,
     "user": {
      "displayName": "Мария Казырид",
      "userId": "12212496271090834493"
     }
    },
    "pycharm": {
     "name": "#%%\n"
    }
   },
   "execution_count": 49,
   "outputs": []
  },
  {
   "cell_type": "markdown",
   "metadata": {
    "id": "jk6JotAMhtwe",
    "pycharm": {
     "name": "#%% md\n"
    }
   },
   "source": [
    "Когда мы решаем задачу классификации, мы можем захотеть предсказывать не только классы, но и их вероятности. Для целей бизнеса, например, полезно знать, с какой вероятностью клиент вернет кредит (а не просто - вернет кредит или не вернет). Например, если клиент уйдет из банка с вероятностью 0.95, то это очень ненадежный клиент. А если с вероятностью 0.52  - этот клиент под вопросом. Но с точки зрения бинарной классификации для обоих клиентов модель предскажет, что они уйдут, так как стандартный порог перевода вероятности в классы - 0.5. \n",
    "\n",
    "* задача классификации, в которой модель предсказывает только классы - это **жесткая классификация**\n",
    "* если же классификатор предсказывает вероятности классов - это **мягкая классификация**"
   ]
  },
  {
   "cell_type": "markdown",
   "source": [
    "Давайте применим логистическую регрессию для определения возьмет ли клиент депозит или нет!\n",
    "\n",
    "Сначала выкинем нечисловые столбцы."
   ],
   "metadata": {
    "id": "kLfG720Fi4eh",
    "pycharm": {
     "name": "#%% md\n"
    }
   }
  },
  {
   "cell_type": "code",
   "source": [
    "X = X.drop(['job','marital','education','default','housing','loan','contact','month','poutcome'], axis=1)"
   ],
   "metadata": {
    "id": "eLjJi-Oi4Lir",
    "executionInfo": {
     "status": "ok",
     "timestamp": 1677494723907,
     "user_tz": -180,
     "elapsed": 7,
     "user": {
      "displayName": "Мария Казырид",
      "userId": "12212496271090834493"
     }
    },
    "pycharm": {
     "name": "#%%\n"
    }
   },
   "execution_count": 50,
   "outputs": []
  },
  {
   "cell_type": "markdown",
   "source": [
    "Мы разбиваем данные на train и test, чтобы:\n",
    "* на тренировочных данных обучить модель\n",
    "* на тестовых применить обученную модель и затем проверить качество модели"
   ],
   "metadata": {
    "id": "lgyjOFNwR1p4",
    "pycharm": {
     "name": "#%% md\n"
    }
   }
  },
  {
   "cell_type": "code",
   "execution_count": 52,
   "metadata": {
    "id": "O4IcPGEOhtwe",
    "executionInfo": {
     "status": "ok",
     "timestamp": 1677494723908,
     "user_tz": -180,
     "elapsed": 8,
     "user": {
      "displayName": "Мария Казырид",
      "userId": "12212496271090834493"
     }
    },
    "pycharm": {
     "name": "#%%\n"
    }
   },
   "outputs": [],
   "source": [
    "from sklearn.metrics import accuracy_score\n",
    "from sklearn.model_selection import train_test_split\n",
    "\n",
    "Xtrain, Xtest, ytrain, ytest = train_test_split(X, y, test_size=0.25, random_state=42)"
   ]
  },
  {
   "cell_type": "code",
   "source": [
    "X.head()\n"
   ],
   "metadata": {
    "id": "-_CoC8WwSK1d",
    "colab": {
     "base_uri": "https://localhost:8080/",
     "height": 0
    },
    "executionInfo": {
     "status": "ok",
     "timestamp": 1677494723908,
     "user_tz": -180,
     "elapsed": 7,
     "user": {
      "displayName": "Мария Казырид",
      "userId": "12212496271090834493"
     }
    },
    "outputId": "1da86ed8-de84-420b-e7ec-964530b67095",
    "pycharm": {
     "name": "#%%\n"
    }
   },
   "execution_count": 53,
   "outputs": [
    {
     "data": {
      "text/plain": "   age  balance  campaign  day  duration  pdays  previous\n0   59     2343         1    5      1042     -1         0\n1   56       45         1    5      1467     -1         0\n2   41     1270         1    5      1389     -1         0\n3   55     2476         1    5       579     -1         0\n4   54      184         2    5       673     -1         0",
      "text/html": "<div>\n<style scoped>\n    .dataframe tbody tr th:only-of-type {\n        vertical-align: middle;\n    }\n\n    .dataframe tbody tr th {\n        vertical-align: top;\n    }\n\n    .dataframe thead th {\n        text-align: right;\n    }\n</style>\n<table border=\"1\" class=\"dataframe\">\n  <thead>\n    <tr style=\"text-align: right;\">\n      <th></th>\n      <th>age</th>\n      <th>balance</th>\n      <th>campaign</th>\n      <th>day</th>\n      <th>duration</th>\n      <th>pdays</th>\n      <th>previous</th>\n    </tr>\n  </thead>\n  <tbody>\n    <tr>\n      <th>0</th>\n      <td>59</td>\n      <td>2343</td>\n      <td>1</td>\n      <td>5</td>\n      <td>1042</td>\n      <td>-1</td>\n      <td>0</td>\n    </tr>\n    <tr>\n      <th>1</th>\n      <td>56</td>\n      <td>45</td>\n      <td>1</td>\n      <td>5</td>\n      <td>1467</td>\n      <td>-1</td>\n      <td>0</td>\n    </tr>\n    <tr>\n      <th>2</th>\n      <td>41</td>\n      <td>1270</td>\n      <td>1</td>\n      <td>5</td>\n      <td>1389</td>\n      <td>-1</td>\n      <td>0</td>\n    </tr>\n    <tr>\n      <th>3</th>\n      <td>55</td>\n      <td>2476</td>\n      <td>1</td>\n      <td>5</td>\n      <td>579</td>\n      <td>-1</td>\n      <td>0</td>\n    </tr>\n    <tr>\n      <th>4</th>\n      <td>54</td>\n      <td>184</td>\n      <td>2</td>\n      <td>5</td>\n      <td>673</td>\n      <td>-1</td>\n      <td>0</td>\n    </tr>\n  </tbody>\n</table>\n</div>"
     },
     "execution_count": 53,
     "metadata": {},
     "output_type": "execute_result"
    }
   ]
  },
  {
   "cell_type": "markdown",
   "source": [
    "Для линейных моделей очень важно масштабирование признаков. Поэтому отмасштабируем признаки при помощи StandardScaler, обучив метод на тренировочных данных и применив его и к трейну, и к тесту."
   ],
   "metadata": {
    "id": "GbuDWle1z2Uh",
    "pycharm": {
     "name": "#%% md\n"
    }
   }
  },
  {
   "cell_type": "code",
   "source": [
    "import pandas as pd\n",
    "from sklearn.preprocessing import StandardScaler\n",
    "\n",
    "ss = StandardScaler()\n",
    "ss.fit(Xtrain)\n",
    "\n",
    "Xtrain = pd.DataFrame(ss.transform(Xtrain), columns=X.columns)\n",
    "Xtest = pd.DataFrame(ss.transform(Xtest), columns=X.columns)\n",
    "\n",
    "Xtrain.head()"
   ],
   "metadata": {
    "id": "69H1fh7VzaZf",
    "colab": {
     "base_uri": "https://localhost:8080/",
     "height": 0
    },
    "executionInfo": {
     "status": "ok",
     "timestamp": 1677494723909,
     "user_tz": -180,
     "elapsed": 8,
     "user": {
      "displayName": "Мария Казырид",
      "userId": "12212496271090834493"
     }
    },
    "outputId": "d4c1df5e-20d3-493e-cbec-07ca7b2b87f1",
    "pycharm": {
     "name": "#%%\n"
    }
   },
   "execution_count": 54,
   "outputs": [
    {
     "data": {
      "text/plain": "        age   balance  campaign       day  duration     pdays  previous\n0  1.581951  2.083507  1.662174  0.284318 -0.785527 -0.474357 -0.365571\n1  0.823300 -0.500178 -0.183877 -0.545702 -0.258692  1.979568  2.348973\n2 -1.115476 -0.812078 -0.183877 -1.138573  0.982105 -0.474357 -0.365571\n3 -0.946887  0.925652  0.554543  0.640040  0.561789 -0.474357 -0.365571\n4 -0.862592  0.321128 -0.553088 -0.071405 -0.342179  1.225928  0.991701",
      "text/html": "<div>\n<style scoped>\n    .dataframe tbody tr th:only-of-type {\n        vertical-align: middle;\n    }\n\n    .dataframe tbody tr th {\n        vertical-align: top;\n    }\n\n    .dataframe thead th {\n        text-align: right;\n    }\n</style>\n<table border=\"1\" class=\"dataframe\">\n  <thead>\n    <tr style=\"text-align: right;\">\n      <th></th>\n      <th>age</th>\n      <th>balance</th>\n      <th>campaign</th>\n      <th>day</th>\n      <th>duration</th>\n      <th>pdays</th>\n      <th>previous</th>\n    </tr>\n  </thead>\n  <tbody>\n    <tr>\n      <th>0</th>\n      <td>1.581951</td>\n      <td>2.083507</td>\n      <td>1.662174</td>\n      <td>0.284318</td>\n      <td>-0.785527</td>\n      <td>-0.474357</td>\n      <td>-0.365571</td>\n    </tr>\n    <tr>\n      <th>1</th>\n      <td>0.823300</td>\n      <td>-0.500178</td>\n      <td>-0.183877</td>\n      <td>-0.545702</td>\n      <td>-0.258692</td>\n      <td>1.979568</td>\n      <td>2.348973</td>\n    </tr>\n    <tr>\n      <th>2</th>\n      <td>-1.115476</td>\n      <td>-0.812078</td>\n      <td>-0.183877</td>\n      <td>-1.138573</td>\n      <td>0.982105</td>\n      <td>-0.474357</td>\n      <td>-0.365571</td>\n    </tr>\n    <tr>\n      <th>3</th>\n      <td>-0.946887</td>\n      <td>0.925652</td>\n      <td>0.554543</td>\n      <td>0.640040</td>\n      <td>0.561789</td>\n      <td>-0.474357</td>\n      <td>-0.365571</td>\n    </tr>\n    <tr>\n      <th>4</th>\n      <td>-0.862592</td>\n      <td>0.321128</td>\n      <td>-0.553088</td>\n      <td>-0.071405</td>\n      <td>-0.342179</td>\n      <td>1.225928</td>\n      <td>0.991701</td>\n    </tr>\n  </tbody>\n</table>\n</div>"
     },
     "execution_count": 54,
     "metadata": {},
     "output_type": "execute_result"
    }
   ]
  },
  {
   "cell_type": "markdown",
   "metadata": {
    "id": "jjPL8ZlJhtwf",
    "pycharm": {
     "name": "#%% md\n"
    }
   },
   "source": [
    "Обучим логистическую регрессию на train и сделаем предсказание на новых для нее данных (test)."
   ]
  },
  {
   "cell_type": "code",
   "execution_count": 55,
   "metadata": {
    "colab": {
     "base_uri": "https://localhost:8080/"
    },
    "id": "mmOb1h0Chtwf",
    "outputId": "78fc9352-5548-42f0-c497-2c45f1462073",
    "executionInfo": {
     "status": "ok",
     "timestamp": 1677494724730,
     "user_tz": -180,
     "elapsed": 828,
     "user": {
      "displayName": "Мария Казырид",
      "userId": "12212496271090834493"
     }
    },
    "pycharm": {
     "name": "#%%\n"
    }
   },
   "outputs": [
    {
     "data": {
      "text/plain": "LogisticRegression()",
      "text/html": "<style>#sk-container-id-1 {color: black;background-color: white;}#sk-container-id-1 pre{padding: 0;}#sk-container-id-1 div.sk-toggleable {background-color: white;}#sk-container-id-1 label.sk-toggleable__label {cursor: pointer;display: block;width: 100%;margin-bottom: 0;padding: 0.3em;box-sizing: border-box;text-align: center;}#sk-container-id-1 label.sk-toggleable__label-arrow:before {content: \"▸\";float: left;margin-right: 0.25em;color: #696969;}#sk-container-id-1 label.sk-toggleable__label-arrow:hover:before {color: black;}#sk-container-id-1 div.sk-estimator:hover label.sk-toggleable__label-arrow:before {color: black;}#sk-container-id-1 div.sk-toggleable__content {max-height: 0;max-width: 0;overflow: hidden;text-align: left;background-color: #f0f8ff;}#sk-container-id-1 div.sk-toggleable__content pre {margin: 0.2em;color: black;border-radius: 0.25em;background-color: #f0f8ff;}#sk-container-id-1 input.sk-toggleable__control:checked~div.sk-toggleable__content {max-height: 200px;max-width: 100%;overflow: auto;}#sk-container-id-1 input.sk-toggleable__control:checked~label.sk-toggleable__label-arrow:before {content: \"▾\";}#sk-container-id-1 div.sk-estimator input.sk-toggleable__control:checked~label.sk-toggleable__label {background-color: #d4ebff;}#sk-container-id-1 div.sk-label input.sk-toggleable__control:checked~label.sk-toggleable__label {background-color: #d4ebff;}#sk-container-id-1 input.sk-hidden--visually {border: 0;clip: rect(1px 1px 1px 1px);clip: rect(1px, 1px, 1px, 1px);height: 1px;margin: -1px;overflow: hidden;padding: 0;position: absolute;width: 1px;}#sk-container-id-1 div.sk-estimator {font-family: monospace;background-color: #f0f8ff;border: 1px dotted black;border-radius: 0.25em;box-sizing: border-box;margin-bottom: 0.5em;}#sk-container-id-1 div.sk-estimator:hover {background-color: #d4ebff;}#sk-container-id-1 div.sk-parallel-item::after {content: \"\";width: 100%;border-bottom: 1px solid gray;flex-grow: 1;}#sk-container-id-1 div.sk-label:hover label.sk-toggleable__label {background-color: #d4ebff;}#sk-container-id-1 div.sk-serial::before {content: \"\";position: absolute;border-left: 1px solid gray;box-sizing: border-box;top: 0;bottom: 0;left: 50%;z-index: 0;}#sk-container-id-1 div.sk-serial {display: flex;flex-direction: column;align-items: center;background-color: white;padding-right: 0.2em;padding-left: 0.2em;position: relative;}#sk-container-id-1 div.sk-item {position: relative;z-index: 1;}#sk-container-id-1 div.sk-parallel {display: flex;align-items: stretch;justify-content: center;background-color: white;position: relative;}#sk-container-id-1 div.sk-item::before, #sk-container-id-1 div.sk-parallel-item::before {content: \"\";position: absolute;border-left: 1px solid gray;box-sizing: border-box;top: 0;bottom: 0;left: 50%;z-index: -1;}#sk-container-id-1 div.sk-parallel-item {display: flex;flex-direction: column;z-index: 1;position: relative;background-color: white;}#sk-container-id-1 div.sk-parallel-item:first-child::after {align-self: flex-end;width: 50%;}#sk-container-id-1 div.sk-parallel-item:last-child::after {align-self: flex-start;width: 50%;}#sk-container-id-1 div.sk-parallel-item:only-child::after {width: 0;}#sk-container-id-1 div.sk-dashed-wrapped {border: 1px dashed gray;margin: 0 0.4em 0.5em 0.4em;box-sizing: border-box;padding-bottom: 0.4em;background-color: white;}#sk-container-id-1 div.sk-label label {font-family: monospace;font-weight: bold;display: inline-block;line-height: 1.2em;}#sk-container-id-1 div.sk-label-container {text-align: center;}#sk-container-id-1 div.sk-container {/* jupyter's `normalize.less` sets `[hidden] { display: none; }` but bootstrap.min.css set `[hidden] { display: none !important; }` so we also need the `!important` here to be able to override the default hidden behavior on the sphinx rendered scikit-learn.org. See: https://github.com/scikit-learn/scikit-learn/issues/21755 */display: inline-block !important;position: relative;}#sk-container-id-1 div.sk-text-repr-fallback {display: none;}</style><div id=\"sk-container-id-1\" class=\"sk-top-container\"><div class=\"sk-text-repr-fallback\"><pre>LogisticRegression()</pre><b>In a Jupyter environment, please rerun this cell to show the HTML representation or trust the notebook. <br />On GitHub, the HTML representation is unable to render, please try loading this page with nbviewer.org.</b></div><div class=\"sk-container\" hidden><div class=\"sk-item\"><div class=\"sk-estimator sk-toggleable\"><input class=\"sk-toggleable__control sk-hidden--visually\" id=\"sk-estimator-id-1\" type=\"checkbox\" checked><label for=\"sk-estimator-id-1\" class=\"sk-toggleable__label sk-toggleable__label-arrow\">LogisticRegression</label><div class=\"sk-toggleable__content\"><pre>LogisticRegression()</pre></div></div></div></div></div>"
     },
     "execution_count": 55,
     "metadata": {},
     "output_type": "execute_result"
    }
   ],
   "source": [
    "from sklearn.linear_model import LogisticRegression\n",
    "\n",
    "model = LogisticRegression() # объявление модели\n",
    "model.fit(Xtrain, ytrain) # обучение модели"
   ]
  },
  {
   "cell_type": "code",
   "source": [
    "pred_test = model.predict(Xtest) # предсказание классов"
   ],
   "metadata": {
    "id": "zsk3tPv5ia4F",
    "executionInfo": {
     "status": "ok",
     "timestamp": 1677494724730,
     "user_tz": -180,
     "elapsed": 5,
     "user": {
      "displayName": "Мария Казырид",
      "userId": "12212496271090834493"
     }
    },
    "pycharm": {
     "name": "#%%\n"
    }
   },
   "execution_count": 56,
   "outputs": []
  },
  {
   "cell_type": "markdown",
   "source": [
    "Посмотрим на предсказания модели и оценим ее качество."
   ],
   "metadata": {
    "id": "90VpLk2MjSUn",
    "pycharm": {
     "name": "#%% md\n"
    }
   }
  },
  {
   "cell_type": "code",
   "source": [
    "pred_test[:5]"
   ],
   "metadata": {
    "id": "QCnk94hwjUy7",
    "colab": {
     "base_uri": "https://localhost:8080/"
    },
    "executionInfo": {
     "status": "ok",
     "timestamp": 1677494724730,
     "user_tz": -180,
     "elapsed": 5,
     "user": {
      "displayName": "Мария Казырид",
      "userId": "12212496271090834493"
     }
    },
    "outputId": "da364d1f-af59-48fd-adb4-924cceb5c47a",
    "pycharm": {
     "name": "#%%\n"
    }
   },
   "execution_count": 57,
   "outputs": [
    {
     "data": {
      "text/plain": "array([False,  True,  True,  True, False])"
     },
     "execution_count": 57,
     "metadata": {},
     "output_type": "execute_result"
    }
   ]
  },
  {
   "cell_type": "code",
   "source": [
    "accuracy_score(ytest, pred_test)"
   ],
   "metadata": {
    "id": "cVaD2VwskQGY",
    "colab": {
     "base_uri": "https://localhost:8080/"
    },
    "executionInfo": {
     "status": "ok",
     "timestamp": 1677494724731,
     "user_tz": -180,
     "elapsed": 5,
     "user": {
      "displayName": "Мария Казырид",
      "userId": "12212496271090834493"
     }
    },
    "outputId": "90a02cad-4d0f-4ba5-e9b7-be298a1c7e5c",
    "pycharm": {
     "name": "#%%\n"
    }
   },
   "execution_count": 58,
   "outputs": [
    {
     "data": {
      "text/plain": "0.7384450017914725"
     },
     "execution_count": 58,
     "metadata": {},
     "output_type": "execute_result"
    }
   ]
  },
  {
   "cell_type": "markdown",
   "source": [
    "Проверим, сбалансирована ли выборка."
   ],
   "metadata": {
    "id": "LzXLHJNGmNg6",
    "pycharm": {
     "name": "#%% md\n"
    }
   }
  },
  {
   "cell_type": "code",
   "source": [
    "y.value_counts()"
   ],
   "metadata": {
    "id": "NB4xFH1LiiSh",
    "colab": {
     "base_uri": "https://localhost:8080/"
    },
    "executionInfo": {
     "status": "ok",
     "timestamp": 1677494724731,
     "user_tz": -180,
     "elapsed": 5,
     "user": {
      "displayName": "Мария Казырид",
      "userId": "12212496271090834493"
     }
    },
    "outputId": "249d42c0-94d4-4845-97c0-fa2931c89c11",
    "pycharm": {
     "name": "#%%\n"
    }
   },
   "execution_count": 59,
   "outputs": [
    {
     "data": {
      "text/plain": "False    5873\nTrue     5289\nName: deposit, dtype: int64"
     },
     "execution_count": 59,
     "metadata": {},
     "output_type": "execute_result"
    }
   ]
  },
  {
   "cell_type": "code",
   "source": [
    "pred_test[:20]"
   ],
   "metadata": {
    "id": "P-tUWOp9P99-",
    "colab": {
     "base_uri": "https://localhost:8080/"
    },
    "executionInfo": {
     "status": "ok",
     "timestamp": 1677494724731,
     "user_tz": -180,
     "elapsed": 4,
     "user": {
      "displayName": "Мария Казырид",
      "userId": "12212496271090834493"
     }
    },
    "outputId": "9dcfc1e8-bf64-41d0-d007-acf7588b05a7",
    "pycharm": {
     "name": "#%%\n"
    }
   },
   "execution_count": 60,
   "outputs": [
    {
     "data": {
      "text/plain": "array([False,  True,  True,  True, False,  True, False, False, False,\n        True,  True, False, False,  True,  True, False, False,  True,\n       False, False])"
     },
     "execution_count": 60,
     "metadata": {},
     "output_type": "execute_result"
    }
   ]
  },
  {
   "cell_type": "markdown",
   "source": [
    "## <font color='green'>2.2. Валидация модели</font>\n",
    "\n",
    "Для оценки качества модели используются различные метрики качества. Давайте посмотрим, какие метрики полезно считать в задаче классификации, кроме accuracy.\n",
    "\n",
    "<font color='blue'>Для оценки качества моделей бинарной классификации полезно смотреть на **матрицу ошибок** (confusion matrix):</font>"
   ],
   "metadata": {
    "id": "0WKy0qt2QHw-",
    "pycharm": {
     "name": "#%% md\n"
    }
   }
  },
  {
   "cell_type": "code",
   "source": [
    "from sklearn.metrics import confusion_matrix\n",
    "\n",
    "confusion_matrix(ytest, pred_test)"
   ],
   "metadata": {
    "id": "P3XkIHpJQJjv",
    "colab": {
     "base_uri": "https://localhost:8080/"
    },
    "executionInfo": {
     "status": "ok",
     "timestamp": 1677494729518,
     "user_tz": -180,
     "elapsed": 588,
     "user": {
      "displayName": "Мария Казырид",
      "userId": "12212496271090834493"
     }
    },
    "outputId": "27ec3b50-28a3-4775-ee01-8591f79a913d",
    "pycharm": {
     "name": "#%%\n"
    }
   },
   "execution_count": 61,
   "outputs": [
    {
     "data": {
      "text/plain": "array([[1178,  272],\n       [ 458,  883]], dtype=int64)"
     },
     "execution_count": 61,
     "metadata": {},
     "output_type": "execute_result"
    }
   ]
  },
  {
   "cell_type": "code",
   "source": [
    "ytest.value_counts()"
   ],
   "metadata": {
    "id": "cKHWNikM50Ys",
    "colab": {
     "base_uri": "https://localhost:8080/"
    },
    "executionInfo": {
     "status": "ok",
     "timestamp": 1677494729518,
     "user_tz": -180,
     "elapsed": 11,
     "user": {
      "displayName": "Мария Казырид",
      "userId": "12212496271090834493"
     }
    },
    "outputId": "a20b583e-6c2c-4925-b6ed-88d16bdb4d6a",
    "pycharm": {
     "name": "#%%\n"
    }
   },
   "execution_count": 62,
   "outputs": [
    {
     "data": {
      "text/plain": "False    1450\nTrue     1341\nName: deposit, dtype: int64"
     },
     "execution_count": 62,
     "metadata": {},
     "output_type": "execute_result"
    }
   ]
  },
  {
   "cell_type": "markdown",
   "source": [
    "<font color='blue'>Также можно посмотреть на метрику **recall (полнота)** - она показывает, какую долю клиентов c депозитами (объектов положительного класса) нашла модель.</font>"
   ],
   "metadata": {
    "id": "xeBZEYHnPW34",
    "pycharm": {
     "name": "#%% md\n"
    }
   }
  },
  {
   "cell_type": "code",
   "source": [
    "from sklearn.metrics import recall_score\n",
    "\n",
    "recall_score(ytest, pred_test)"
   ],
   "metadata": {
    "id": "rs1crUP3Qvsh",
    "colab": {
     "base_uri": "https://localhost:8080/"
    },
    "executionInfo": {
     "status": "ok",
     "timestamp": 1677494729519,
     "user_tz": -180,
     "elapsed": 10,
     "user": {
      "displayName": "Мария Казырид",
      "userId": "12212496271090834493"
     }
    },
    "outputId": "3aee3b8f-483d-43c3-f96f-dcb85814ef3e",
    "pycharm": {
     "name": "#%%\n"
    }
   },
   "execution_count": 63,
   "outputs": [
    {
     "data": {
      "text/plain": "0.6584638329604773"
     },
     "execution_count": 63,
     "metadata": {},
     "output_type": "execute_result"
    }
   ]
  },
  {
   "cell_type": "code",
   "source": [
    "from sklearn.metrics import precision_score\n",
    "\n",
    "precision_score(ytest, pred_test)"
   ],
   "metadata": {
    "colab": {
     "base_uri": "https://localhost:8080/"
    },
    "id": "l4H5i0c2Abc8",
    "executionInfo": {
     "status": "ok",
     "timestamp": 1677494729519,
     "user_tz": -180,
     "elapsed": 9,
     "user": {
      "displayName": "Мария Казырид",
      "userId": "12212496271090834493"
     }
    },
    "outputId": "2c63b60d-9f30-47e6-83b7-4d63e9833f1e",
    "pycharm": {
     "name": "#%%\n"
    }
   },
   "execution_count": 64,
   "outputs": [
    {
     "data": {
      "text/plain": "0.7645021645021645"
     },
     "execution_count": 64,
     "metadata": {},
     "output_type": "execute_result"
    }
   ]
  },
  {
   "cell_type": "code",
   "source": [
    "probs = model.predict_proba(Xtest)\n",
    "\n",
    "probs[:10]"
   ],
   "metadata": {
    "id": "t7ASlwolO09n",
    "colab": {
     "base_uri": "https://localhost:8080/"
    },
    "executionInfo": {
     "status": "ok",
     "timestamp": 1677494729520,
     "user_tz": -180,
     "elapsed": 9,
     "user": {
      "displayName": "Мария Казырид",
      "userId": "12212496271090834493"
     }
    },
    "outputId": "4e15a3de-597f-4745-a9d7-4833abf09de0",
    "pycharm": {
     "name": "#%%\n"
    }
   },
   "execution_count": 65,
   "outputs": [
    {
     "data": {
      "text/plain": "array([[0.67830071, 0.32169929],\n       [0.03537984, 0.96462016],\n       [0.21309925, 0.78690075],\n       [0.10379471, 0.89620529],\n       [0.83351689, 0.16648311],\n       [0.48136114, 0.51863886],\n       [0.50257942, 0.49742058],\n       [0.62936942, 0.37063058],\n       [0.56027527, 0.43972473],\n       [0.26056253, 0.73943747]])"
     },
     "execution_count": 65,
     "metadata": {},
     "output_type": "execute_result"
    }
   ]
  },
  {
   "cell_type": "markdown",
   "source": [
    "<font color='blue'>Попробуем изменить **порог для перевода вероятности в классы** со стандартного 0.5 на порог поменьше.</blue>"
   ],
   "metadata": {
    "id": "MHF1dXxLQQlB",
    "pycharm": {
     "name": "#%% md\n"
    }
   }
  },
  {
   "cell_type": "code",
   "source": [
    "probs_deposit = probs[:,1]\n",
    "\n",
    "classes = probs_deposit > 0.4"
   ],
   "metadata": {
    "id": "JoDNJgZ_O609",
    "executionInfo": {
     "status": "ok",
     "timestamp": 1677494729520,
     "user_tz": -180,
     "elapsed": 9,
     "user": {
      "displayName": "Мария Казырид",
      "userId": "12212496271090834493"
     }
    },
    "pycharm": {
     "name": "#%%\n"
    }
   },
   "execution_count": 67,
   "outputs": []
  },
  {
   "cell_type": "code",
   "source": [
    "confusion_matrix(ytest, classes)"
   ],
   "metadata": {
    "id": "EPmRIHIGO_I9",
    "colab": {
     "base_uri": "https://localhost:8080/"
    },
    "executionInfo": {
     "status": "ok",
     "timestamp": 1677494729520,
     "user_tz": -180,
     "elapsed": 8,
     "user": {
      "displayName": "Мария Казырид",
      "userId": "12212496271090834493"
     }
    },
    "outputId": "297363d1-e313-4893-df77-09208e3b207d",
    "pycharm": {
     "name": "#%%\n"
    }
   },
   "execution_count": 68,
   "outputs": [
    {
     "data": {
      "text/plain": "array([[1022,  428],\n       [ 311, 1030]], dtype=int64)"
     },
     "execution_count": 68,
     "metadata": {},
     "output_type": "execute_result"
    }
   ]
  },
  {
   "cell_type": "code",
   "source": [
    "ytest.value_counts()"
   ],
   "metadata": {
    "id": "AaduyCsc6Di_",
    "colab": {
     "base_uri": "https://localhost:8080/"
    },
    "executionInfo": {
     "status": "ok",
     "timestamp": 1677494729521,
     "user_tz": -180,
     "elapsed": 9,
     "user": {
      "displayName": "Мария Казырид",
      "userId": "12212496271090834493"
     }
    },
    "outputId": "0f43a6d4-f565-4808-bced-e544db20f2f6",
    "pycharm": {
     "name": "#%%\n"
    }
   },
   "execution_count": 69,
   "outputs": [
    {
     "data": {
      "text/plain": "False    1450\nTrue     1341\nName: deposit, dtype: int64"
     },
     "execution_count": 69,
     "metadata": {},
     "output_type": "execute_result"
    }
   ]
  },
  {
   "cell_type": "code",
   "source": [
    "recall_score(ytest, classes)"
   ],
   "metadata": {
    "id": "uBPFvMlGQ11c",
    "colab": {
     "base_uri": "https://localhost:8080/"
    },
    "executionInfo": {
     "status": "ok",
     "timestamp": 1677494729521,
     "user_tz": -180,
     "elapsed": 8,
     "user": {
      "displayName": "Мария Казырид",
      "userId": "12212496271090834493"
     }
    },
    "outputId": "51e1ea3c-c876-4788-ae38-fa467946751b",
    "pycharm": {
     "name": "#%%\n"
    }
   },
   "execution_count": 70,
   "outputs": [
    {
     "data": {
      "text/plain": "0.7680835197613721"
     },
     "execution_count": 70,
     "metadata": {},
     "output_type": "execute_result"
    }
   ]
  },
  {
   "cell_type": "code",
   "source": [
    "precision_score(ytest, classes)"
   ],
   "metadata": {
    "colab": {
     "base_uri": "https://localhost:8080/"
    },
    "id": "L0Z46mLCFPK7",
    "executionInfo": {
     "status": "ok",
     "timestamp": 1677494729522,
     "user_tz": -180,
     "elapsed": 8,
     "user": {
      "displayName": "Мария Казырид",
      "userId": "12212496271090834493"
     }
    },
    "outputId": "95dd428d-5e93-4d2a-f03b-6034ec218d86",
    "pycharm": {
     "name": "#%%\n"
    }
   },
   "execution_count": 71,
   "outputs": [
    {
     "data": {
      "text/plain": "0.7064471879286695"
     },
     "execution_count": 71,
     "metadata": {},
     "output_type": "execute_result"
    }
   ]
  },
  {
   "cell_type": "markdown",
   "source": [
    "## <font color='green'>3. Интерпретация модели</font>\n",
    "\n",
    "После обучения модели можно посмотреть на её веса, то есть на коэффициенты при признаках, найденные моделью."
   ],
   "metadata": {
    "id": "N0qYwySGh9p_",
    "pycharm": {
     "name": "#%% md\n"
    }
   }
  },
  {
   "cell_type": "code",
   "source": [
    "model.coef_, model.intercept_"
   ],
   "metadata": {
    "colab": {
     "base_uri": "https://localhost:8080/"
    },
    "id": "MbBhMrg9h_5o",
    "outputId": "3948dc9c-c434-4201-fbd2-d8eb2fa73078",
    "executionInfo": {
     "status": "ok",
     "timestamp": 1677494732295,
     "user_tz": -180,
     "elapsed": 3,
     "user": {
      "displayName": "Мария Казырид",
      "userId": "12212496271090834493"
     }
    },
    "pycharm": {
     "name": "#%%\n"
    }
   },
   "execution_count": 72,
   "outputs": [
    {
     "data": {
      "text/plain": "(array([[ 0.05867868,  0.15434186, -0.35814047, -0.04339455,  1.60024343,\n          0.22916524,  0.32045889]]),\n array([0.01797106]))"
     },
     "execution_count": 72,
     "metadata": {},
     "output_type": "execute_result"
    }
   ]
  },
  {
   "cell_type": "code",
   "source": [
    "import pandas as pd\n",
    "\n",
    "coef_table = pd.DataFrame({'features' : list(X.columns), 'weights' : list(model.coef_[0])})\n",
    "\n",
    "coef_table.sort_values(by='weights')"
   ],
   "metadata": {
    "colab": {
     "base_uri": "https://localhost:8080/",
     "height": 0
    },
    "id": "IaQlscwZiiUu",
    "outputId": "efd04c27-ceb4-4f77-ef06-8013c3ca1cb0",
    "executionInfo": {
     "status": "ok",
     "timestamp": 1677494732867,
     "user_tz": -180,
     "elapsed": 4,
     "user": {
      "displayName": "Мария Казырид",
      "userId": "12212496271090834493"
     }
    },
    "pycharm": {
     "name": "#%%\n"
    }
   },
   "execution_count": 73,
   "outputs": [
    {
     "data": {
      "text/plain": "   features   weights\n2  campaign -0.358140\n3       day -0.043395\n0       age  0.058679\n1   balance  0.154342\n5     pdays  0.229165\n6  previous  0.320459\n4  duration  1.600243",
      "text/html": "<div>\n<style scoped>\n    .dataframe tbody tr th:only-of-type {\n        vertical-align: middle;\n    }\n\n    .dataframe tbody tr th {\n        vertical-align: top;\n    }\n\n    .dataframe thead th {\n        text-align: right;\n    }\n</style>\n<table border=\"1\" class=\"dataframe\">\n  <thead>\n    <tr style=\"text-align: right;\">\n      <th></th>\n      <th>features</th>\n      <th>weights</th>\n    </tr>\n  </thead>\n  <tbody>\n    <tr>\n      <th>2</th>\n      <td>campaign</td>\n      <td>-0.358140</td>\n    </tr>\n    <tr>\n      <th>3</th>\n      <td>day</td>\n      <td>-0.043395</td>\n    </tr>\n    <tr>\n      <th>0</th>\n      <td>age</td>\n      <td>0.058679</td>\n    </tr>\n    <tr>\n      <th>1</th>\n      <td>balance</td>\n      <td>0.154342</td>\n    </tr>\n    <tr>\n      <th>5</th>\n      <td>pdays</td>\n      <td>0.229165</td>\n    </tr>\n    <tr>\n      <th>6</th>\n      <td>previous</td>\n      <td>0.320459</td>\n    </tr>\n    <tr>\n      <th>4</th>\n      <td>duration</td>\n      <td>1.600243</td>\n    </tr>\n  </tbody>\n</table>\n</div>"
     },
     "execution_count": 73,
     "metadata": {},
     "output_type": "execute_result"
    }
   ]
  },
  {
   "cell_type": "markdown",
   "source": [
    "Если вес у признака положительный, то признак вносит положительный вклад в ответ, то есть чем больше значение признака, тем больше это дает вклад в положительный класс объекта и наоборот."
   ],
   "metadata": {
    "id": "52qZjNAHix1M",
    "pycharm": {
     "name": "#%% md\n"
    }
   }
  },
  {
   "cell_type": "code",
   "source": [
    "from sklearn.neighbors import KNeighborsClassifier\n",
    "\n",
    "knn = KNeighborsClassifier()"
   ],
   "metadata": {
    "id": "TWDlWnKQa80N",
    "pycharm": {
     "name": "#%%\n"
    }
   },
   "execution_count": 74,
   "outputs": []
  },
  {
   "cell_type": "code",
   "source": [
    "knn.fit(Xtrain, ytrain)\n",
    "\n",
    "pred_test2 = knn.predict_proba(Xtest)[:,1]\n",
    "\n",
    "classes2 = pred_test2 > 0.3\n",
    "\n",
    "confusion_matrix(ytest, classes2)"
   ],
   "metadata": {
    "colab": {
     "base_uri": "https://localhost:8080/"
    },
    "id": "vaWYtxqJbOQ0",
    "outputId": "b96597d1-71c9-4305-e407-124f92b31045",
    "executionInfo": {
     "status": "ok",
     "timestamp": 1677489391238,
     "user_tz": -180,
     "elapsed": 269,
     "user": {
      "displayName": "Мария Казырид",
      "userId": "12212496271090834493"
     }
    },
    "pycharm": {
     "name": "#%%\n"
    }
   },
   "execution_count": 75,
   "outputs": [
    {
     "data": {
      "text/plain": "array([[ 912,  538],\n       [ 188, 1153]], dtype=int64)"
     },
     "execution_count": 75,
     "metadata": {},
     "output_type": "execute_result"
    }
   ]
  },
  {
   "cell_type": "code",
   "source": [
    "recall_score(ytest, classes2)"
   ],
   "metadata": {
    "id": "caQw-2Vk_69O",
    "colab": {
     "base_uri": "https://localhost:8080/"
    },
    "executionInfo": {
     "status": "ok",
     "timestamp": 1677489391239,
     "user_tz": -180,
     "elapsed": 3,
     "user": {
      "displayName": "Мария Казырид",
      "userId": "12212496271090834493"
     }
    },
    "outputId": "5e036bcc-71f7-4597-9371-a2f1dcb11c3e",
    "pycharm": {
     "name": "#%%\n"
    }
   },
   "execution_count": 76,
   "outputs": [
    {
     "data": {
      "text/plain": "0.8598061148396718"
     },
     "execution_count": 76,
     "metadata": {},
     "output_type": "execute_result"
    }
   ]
  },
  {
   "cell_type": "markdown",
   "source": [
    "## <font color='green'>4. Сохранение результатов экспериментов</font>\n",
    "\n",
    "Что сохраняем?\n",
    "\n",
    "* Предсказания модели\n",
    "* Эксперименты\n",
    "* Модель"
   ],
   "metadata": {
    "id": "_ezdQM9tTcW6",
    "pycharm": {
     "name": "#%% md\n"
    }
   }
  },
  {
   "cell_type": "markdown",
   "source": [
    "Сначала сохраним предсказания модели в файл:"
   ],
   "metadata": {
    "id": "ACp_KXUatce-",
    "pycharm": {
     "name": "#%% md\n"
    }
   }
  },
  {
   "cell_type": "code",
   "source": [
    "Xtest['predictions'] = probs_deposit\n",
    "\n",
    "Xtest.to_csv(\"PredictionsDeposit.csv\", index=False)"
   ],
   "metadata": {
    "id": "ouz9PHNZtLnb",
    "pycharm": {
     "name": "#%%\n"
    }
   },
   "execution_count": null,
   "outputs": []
  },
  {
   "cell_type": "markdown",
   "source": [
    "Теперь сохраним саму модель:"
   ],
   "metadata": {
    "id": "oC9ZLJi0tftb",
    "pycharm": {
     "name": "#%% md\n"
    }
   }
  },
  {
   "cell_type": "code",
   "source": [
    "import pickle \n",
    "\n",
    "with open('model.pickle', 'wb') as f:\n",
    "    pickle.dump(model, f)\n",
    "\n",
    "# а так модель можно загрузить из файла:  \n",
    "# with open('filename.pickle', 'rb') as f:\n",
    "#     model = pickle.load(f)"
   ],
   "metadata": {
    "id": "3HBU7ogWtfP6",
    "pycharm": {
     "name": "#%%\n"
    }
   },
   "execution_count": null,
   "outputs": []
  },
  {
   "cell_type": "markdown",
   "source": [],
   "metadata": {
    "id": "Jj9zwt5ds8Eh",
    "pycharm": {
     "name": "#%% md\n"
    }
   }
  },
  {
   "cell_type": "markdown",
   "source": [
    "## <font color='green'>5. Градиентный бустинг</font>\n",
    "\n",
    "Мы поработали с линейными моделями. Они весьма и весьма простые — предполагают независимость признаков и линейную связь между каждым признаком и целевой переменной. Конечно, в наших данных вряд ли всё так просто. Можно пытаться усложнять линейные модели: добавлять нелинейные признаки, переходить в новое признаковое пространство. Но это всё полумеры.\n",
    "\n",
    "Сейчас мы поработаем с градиентным бустингом — одним из самых мощных подходов для работы с табличными данными."
   ],
   "metadata": {
    "id": "uEfHkqnRJZZK",
    "pycharm": {
     "name": "#%% md\n"
    }
   }
  },
  {
   "cell_type": "markdown",
   "source": [
    "Пока не ушли далеко — посчитаем и запомним качество логистической регрессии."
   ],
   "metadata": {
    "id": "As0QncNzJbxo",
    "pycharm": {
     "name": "#%% md\n"
    }
   }
  },
  {
   "cell_type": "code",
   "source": [
    "from sklearn import metrics\n",
    "\n",
    "print(\"LR quality:\")\n",
    "print(\"precision: \", metrics.precision_score(ytest, classes))\n",
    "print(\"recall: \", metrics.recall_score(ytest, classes))\n",
    "print(\"auc-roc: \", metrics.roc_auc_score(ytest, probs[:, 1]))"
   ],
   "metadata": {
    "colab": {
     "base_uri": "https://localhost:8080/"
    },
    "id": "RyEjdXuSJeWb",
    "executionInfo": {
     "status": "ok",
     "timestamp": 1677494736283,
     "user_tz": -180,
     "elapsed": 4,
     "user": {
      "displayName": "Мария Казырид",
      "userId": "12212496271090834493"
     }
    },
    "outputId": "08131ae8-2f90-4556-c69d-1cba09060b8e",
    "pycharm": {
     "name": "#%%\n"
    }
   },
   "execution_count": 77,
   "outputs": [
    {
     "name": "stdout",
     "output_type": "stream",
     "text": [
      "LR quality:\n",
      "precision:  0.7064471879286695\n",
      "recall:  0.7680835197613721\n",
      "auc-roc:  0.820057599835429\n"
     ]
    }
   ]
  },
  {
   "cell_type": "markdown",
   "source": [
    "Есть много имплементаций градиентного бустинга. Мы будем пользоваться CatBoost — библиотекой от Яндекса, которая очень эффективно написана и широко используется в мире."
   ],
   "metadata": {
    "id": "qzeEmrDkJiHI",
    "pycharm": {
     "name": "#%% md\n"
    }
   }
  },
  {
   "cell_type": "code",
   "source": [
    "from catboost import CatBoostClassifier, Pool"
   ],
   "metadata": {
    "id": "Ar8ox6FTJm21",
    "executionInfo": {
     "status": "ok",
     "timestamp": 1677494746163,
     "user_tz": -180,
     "elapsed": 258,
     "user": {
      "displayName": "Мария Казырид",
      "userId": "12212496271090834493"
     }
    },
    "pycharm": {
     "name": "#%%\n"
    }
   },
   "execution_count": 78,
   "outputs": []
  },
  {
   "cell_type": "code",
   "source": [
    "train_set = Pool(Xtrain, ytrain)\n",
    "test_set = Pool(Xtest, ytest)"
   ],
   "metadata": {
    "id": "mlu4VEnmJoys",
    "executionInfo": {
     "status": "ok",
     "timestamp": 1677494748338,
     "user_tz": -180,
     "elapsed": 3,
     "user": {
      "displayName": "Мария Казырид",
      "userId": "12212496271090834493"
     }
    },
    "pycharm": {
     "name": "#%%\n"
    }
   },
   "execution_count": 79,
   "outputs": []
  },
  {
   "cell_type": "code",
   "source": [
    "gbm = CatBoostClassifier(iterations=500, #сколько деревьев\n",
    "                          depth=2, #глубина каждого дерева\n",
    "                          learning_rate=0.1,\n",
    "                          loss_function='Logloss',\n",
    "                          eval_metric='AUC',\n",
    "                          verbose=False)\n",
    "gbm.fit(train_set, eval_set=test_set)\n",
    "gbm_preds = gbm.predict_proba(Xtest)"
   ],
   "metadata": {
    "id": "AUxJkJTtJp53",
    "executionInfo": {
     "status": "ok",
     "timestamp": 1677494753250,
     "user_tz": -180,
     "elapsed": 3579,
     "user": {
      "displayName": "Мария Казырид",
      "userId": "12212496271090834493"
     }
    },
    "pycharm": {
     "name": "#%%\n"
    }
   },
   "execution_count": 80,
   "outputs": []
  },
  {
   "cell_type": "code",
   "source": [
    "eval_metrics = gbm.get_evals_result()\n",
    "plt.plot(eval_metrics['validation']['AUC'])\n",
    "plt.xlabel('n_trees')\n",
    "plt.ylabel('AUC')\n",
    "plt.grid()"
   ],
   "metadata": {
    "id": "NAAjvSpFJrfv",
    "colab": {
     "base_uri": "https://localhost:8080/",
     "height": 280
    },
    "executionInfo": {
     "status": "ok",
     "timestamp": 1677494754804,
     "user_tz": -180,
     "elapsed": 663,
     "user": {
      "displayName": "Мария Казырид",
      "userId": "12212496271090834493"
     }
    },
    "outputId": "d2063295-6b59-4330-d3bf-0944c4b757af",
    "pycharm": {
     "name": "#%%\n"
    }
   },
   "execution_count": 81,
   "outputs": [
    {
     "data": {
      "text/plain": "<Figure size 640x480 with 1 Axes>",
      "image/png": "[encoded data removed]"
     },
     "metadata": {},
     "output_type": "display_data"
    }
   ]
  },
  {
   "cell_type": "code",
   "source": [
    "gbm_classes = (gbm_preds[:, 1] > 0.35)\n",
    "print(\"precision: \", metrics.precision_score(ytest, gbm_classes))\n",
    "print(\"recall: \", metrics.recall_score(ytest, gbm_classes))\n",
    "print(\"auc-roc: \", metrics.roc_auc_score(ytest, gbm_preds[:, 1]))"
   ],
   "metadata": {
    "id": "aRaf3UMBJtIY",
    "colab": {
     "base_uri": "https://localhost:8080/"
    },
    "executionInfo": {
     "status": "ok",
     "timestamp": 1677494756888,
     "user_tz": -180,
     "elapsed": 360,
     "user": {
      "displayName": "Мария Казырид",
      "userId": "12212496271090834493"
     }
    },
    "outputId": "4a05424d-0be0-44c9-e58b-15ff585ad072",
    "pycharm": {
     "name": "#%%\n"
    }
   },
   "execution_count": 82,
   "outputs": [
    {
     "name": "stdout",
     "output_type": "stream",
     "text": [
      "precision:  0.7360594795539034\n",
      "recall:  0.8859060402684564\n",
      "auc-roc:  0.8796610866826096\n"
     ]
    }
   ]
  },
  {
   "cell_type": "code",
   "source": [
    "coef_table = pd.DataFrame({'features' : list(X.columns), 'importances' : list(gbm.get_feature_importance())})\n",
    "\n",
    "coef_table.sort_values(by='importances')"
   ],
   "metadata": {
    "id": "ljXfI8YoJu0I",
    "colab": {
     "base_uri": "https://localhost:8080/",
     "height": 269
    },
    "executionInfo": {
     "status": "ok",
     "timestamp": 1677494759224,
     "user_tz": -180,
     "elapsed": 267,
     "user": {
      "displayName": "Мария Казырид",
      "userId": "12212496271090834493"
     }
    },
    "outputId": "019ad4e9-4384-4cf1-922c-48af7d00a418",
    "pycharm": {
     "name": "#%%\n"
    }
   },
   "execution_count": 83,
   "outputs": [
    {
     "data": {
      "text/plain": "   features  importances\n2  campaign     3.315079\n6  previous     6.295920\n1   balance     6.518516\n3       day     7.566874\n0       age     8.869004\n5     pdays    14.847322\n4  duration    52.587284",
      "text/html": "<div>\n<style scoped>\n    .dataframe tbody tr th:only-of-type {\n        vertical-align: middle;\n    }\n\n    .dataframe tbody tr th {\n        vertical-align: top;\n    }\n\n    .dataframe thead th {\n        text-align: right;\n    }\n</style>\n<table border=\"1\" class=\"dataframe\">\n  <thead>\n    <tr style=\"text-align: right;\">\n      <th></th>\n      <th>features</th>\n      <th>importances</th>\n    </tr>\n  </thead>\n  <tbody>\n    <tr>\n      <th>2</th>\n      <td>campaign</td>\n      <td>3.315079</td>\n    </tr>\n    <tr>\n      <th>6</th>\n      <td>previous</td>\n      <td>6.295920</td>\n    </tr>\n    <tr>\n      <th>1</th>\n      <td>balance</td>\n      <td>6.518516</td>\n    </tr>\n    <tr>\n      <th>3</th>\n      <td>day</td>\n      <td>7.566874</td>\n    </tr>\n    <tr>\n      <th>0</th>\n      <td>age</td>\n      <td>8.869004</td>\n    </tr>\n    <tr>\n      <th>5</th>\n      <td>pdays</td>\n      <td>14.847322</td>\n    </tr>\n    <tr>\n      <th>4</th>\n      <td>duration</td>\n      <td>52.587284</td>\n    </tr>\n  </tbody>\n</table>\n</div>"
     },
     "execution_count": 83,
     "metadata": {},
     "output_type": "execute_result"
    }
   ]
  },
  {
   "cell_type": "markdown",
   "source": [
    "## <font color='green'>6. Обработка категориальных признаков</font>"
   ],
   "metadata": {
    "id": "eBiOpVHgJzI0",
    "pycharm": {
     "name": "#%% md\n"
    }
   }
  },
  {
   "cell_type": "markdown",
   "source": [
    "Выше мы удаляли все категориальные столбцы:\n",
    "\n",
    "`X = X.drop(['job','marital','education','default','housing','loan','contact','month','poutcome'], axis=1)`\n",
    "\n",
    "А вдруг там содержится много полезной информации? Попробуем её сохранить."
   ],
   "metadata": {
    "id": "MqjAlhlMJzvS",
    "pycharm": {
     "name": "#%% md\n"
    }
   }
  },
  {
   "cell_type": "code",
   "source": [
    "X_full = data.drop('deposit', axis=1)"
   ],
   "metadata": {
    "id": "8UdAKSSoeJod",
    "executionInfo": {
     "status": "ok",
     "timestamp": 1677494761892,
     "user_tz": -180,
     "elapsed": 2,
     "user": {
      "displayName": "Мария Казырид",
      "userId": "12212496271090834493"
     }
    },
    "pycharm": {
     "name": "#%%\n"
    }
   },
   "execution_count": 84,
   "outputs": []
  },
  {
   "cell_type": "code",
   "source": [
    "X_full.dtypes"
   ],
   "metadata": {
    "id": "XWtHYbjMeZHl",
    "colab": {
     "base_uri": "https://localhost:8080/"
    },
    "executionInfo": {
     "status": "ok",
     "timestamp": 1677494763112,
     "user_tz": -180,
     "elapsed": 2,
     "user": {
      "displayName": "Мария Казырид",
      "userId": "12212496271090834493"
     }
    },
    "outputId": "a067d2ea-5173-4008-929f-de6d17194a22",
    "pycharm": {
     "name": "#%%\n"
    }
   },
   "execution_count": 85,
   "outputs": [
    {
     "data": {
      "text/plain": "age           int64\nbalance       int64\ncampaign      int64\ncontact      object\nday           int64\ndefault        bool\nduration      int64\neducation    object\nhousing        bool\njob          object\nloan           bool\nmarital      object\nmonth        object\npdays         int64\npoutcome     object\nprevious      int64\ndtype: object"
     },
     "execution_count": 85,
     "metadata": {},
     "output_type": "execute_result"
    }
   ]
  },
  {
   "cell_type": "code",
   "source": [
    "Xtrain, Xtest, ytrain, ytest = train_test_split(X_full, y, test_size=0.25, random_state=42)"
   ],
   "metadata": {
    "id": "dU6z3eNDJ2sn",
    "executionInfo": {
     "status": "ok",
     "timestamp": 1677494764063,
     "user_tz": -180,
     "elapsed": 3,
     "user": {
      "displayName": "Мария Казырид",
      "userId": "12212496271090834493"
     }
    },
    "pycharm": {
     "name": "#%%\n"
    }
   },
   "execution_count": 86,
   "outputs": []
  },
  {
   "cell_type": "code",
   "source": [
    "from sklearn.preprocessing import OneHotEncoder\n",
    "from sklearn.compose import ColumnTransformer\n",
    "\n",
    "categorical = ['job','marital','education','contact','month','poutcome']\n",
    "numeric_features = X.columns\n",
    "\n",
    "column_transformer = ColumnTransformer([\n",
    "    ('ohe', OneHotEncoder(handle_unknown=\"ignore\"), categorical),\n",
    "    ('scaling', StandardScaler(), numeric_features)\n",
    "])\n",
    "\n",
    "X_transformed = column_transformer.fit_transform(Xtrain)\n",
    "X_test_transformed = column_transformer.transform(Xtest)"
   ],
   "metadata": {
    "id": "WpXmKpqGJ4HE",
    "executionInfo": {
     "status": "ok",
     "timestamp": 1677494765584,
     "user_tz": -180,
     "elapsed": 3,
     "user": {
      "displayName": "Мария Казырид",
      "userId": "12212496271090834493"
     }
    },
    "pycharm": {
     "name": "#%%\n"
    }
   },
   "execution_count": 87,
   "outputs": []
  },
  {
   "cell_type": "code",
   "source": [
    "X_transformed.shape"
   ],
   "metadata": {
    "id": "uqsppV5IJ5dH",
    "colab": {
     "base_uri": "https://localhost:8080/"
    },
    "executionInfo": {
     "status": "ok",
     "timestamp": 1677494766920,
     "user_tz": -180,
     "elapsed": 6,
     "user": {
      "displayName": "Мария Казырид",
      "userId": "12212496271090834493"
     }
    },
    "outputId": "353130ef-6fda-4127-daad-95d2a48c851f",
    "pycharm": {
     "name": "#%%\n"
    }
   },
   "execution_count": 88,
   "outputs": [
    {
     "data": {
      "text/plain": "(8371, 45)"
     },
     "execution_count": 88,
     "metadata": {},
     "output_type": "execute_result"
    }
   ]
  },
  {
   "cell_type": "code",
   "source": [
    "model = LogisticRegression()\n",
    "model.fit(X_transformed, ytrain)\n",
    "pred = model.predict_proba(X_test_transformed)"
   ],
   "metadata": {
    "id": "U1EaW-YrJ6nu",
    "executionInfo": {
     "status": "ok",
     "timestamp": 1677494768734,
     "user_tz": -180,
     "elapsed": 1,
     "user": {
      "displayName": "Мария Казырид",
      "userId": "12212496271090834493"
     }
    },
    "pycharm": {
     "name": "#%%\n"
    }
   },
   "execution_count": 89,
   "outputs": []
  },
  {
   "cell_type": "code",
   "source": [
    "classes = (pred[:, 1] > 0.45)\n",
    "print(\"precision: \", metrics.precision_score(ytest, classes))\n",
    "print(\"recall: \", metrics.recall_score(ytest, classes))\n",
    "print(\"auc-roc: \", metrics.roc_auc_score(ytest, pred[:, 1]))"
   ],
   "metadata": {
    "id": "DjpZUQGvJ8E2",
    "colab": {
     "base_uri": "https://localhost:8080/"
    },
    "executionInfo": {
     "status": "ok",
     "timestamp": 1677494769760,
     "user_tz": -180,
     "elapsed": 4,
     "user": {
      "displayName": "Мария Казырид",
      "userId": "12212496271090834493"
     }
    },
    "outputId": "7d58fed3-1c92-4d07-b2c5-252027324287",
    "pycharm": {
     "name": "#%%\n"
    }
   },
   "execution_count": 90,
   "outputs": [
    {
     "name": "stdout",
     "output_type": "stream",
     "text": [
      "precision:  0.8103448275862069\n",
      "recall:  0.8061148396718867\n",
      "auc-roc:  0.8987076036925609\n"
     ]
    }
   ]
  },
  {
   "cell_type": "code",
   "source": [
    "train_set = Pool(X_transformed, ytrain)\n",
    "test_set = Pool(X_test_transformed, ytest)\n",
    "gbm = CatBoostClassifier(iterations=800,\n",
    "                          depth=2,\n",
    "                          learning_rate=0.1,\n",
    "                          loss_function='Logloss',\n",
    "                          eval_metric='AUC',\n",
    "                          verbose=False)\n",
    "gbm.fit(train_set, eval_set=test_set)\n",
    "gbm_preds = gbm.predict_proba(test_set)\n",
    "gbm_classes = (gbm_preds[:, 1] > 0.3)\n",
    "print(\"precision: \", metrics.precision_score(ytest, gbm_classes))\n",
    "print(\"recall: \", metrics.recall_score(ytest, gbm_classes))\n",
    "print(\"auc-roc: \", metrics.roc_auc_score(ytest, gbm_preds[:, 1]))"
   ],
   "metadata": {
    "id": "QvStuz0pJ9T_",
    "colab": {
     "base_uri": "https://localhost:8080/"
    },
    "executionInfo": {
     "status": "ok",
     "timestamp": 1677494775362,
     "user_tz": -180,
     "elapsed": 3693,
     "user": {
      "displayName": "Мария Казырид",
      "userId": "12212496271090834493"
     }
    },
    "outputId": "0fa09c95-0aef-44da-999a-192d3a040a2d",
    "pycharm": {
     "name": "#%%\n"
    }
   },
   "execution_count": 91,
   "outputs": [
    {
     "name": "stdout",
     "output_type": "stream",
     "text": [
      "precision:  0.7759259259259259\n",
      "recall:  0.9373601789709173\n",
      "auc-roc:  0.9211874823214792\n"
     ]
    }
   ]
  },
  {
   "cell_type": "code",
   "source": [
    "eval_metrics = gbm.get_evals_result()\n",
    "plt.plot(eval_metrics['validation']['AUC'])\n",
    "plt.xlabel('n_trees')\n",
    "plt.ylabel('AUC')\n",
    "plt.grid()\n"
   ],
   "metadata": {
    "id": "M4pEYsttJ-9u",
    "colab": {
     "base_uri": "https://localhost:8080/",
     "height": 280
    },
    "executionInfo": {
     "status": "ok",
     "timestamp": 1677494779697,
     "user_tz": -180,
     "elapsed": 309,
     "user": {
      "displayName": "Мария Казырид",
      "userId": "12212496271090834493"
     }
    },
    "outputId": "0f3c8ae9-1621-42b1-f608-ee5186ba4e57",
    "pycharm": {
     "name": "#%%\n"
    }
   },
   "execution_count": 92,
   "outputs": [
    {
     "data": {
      "text/plain": "<Figure size 640x480 with 1 Axes>",
      "image/png": "[encoded data removed]"
     },
     "metadata": {},
     "output_type": "display_data"
    }
   ]
  }
 ],
 "metadata": {
  "kernelspec": {
   "display_name": "Python 3",
   "language": "python",
   "name": "python3"
  },
  "language_info": {
   "codemirror_mode": {
    "name": "ipython",
    "version": 3
   },
   "file_extension": ".py",
   "mimetype": "text/x-python",
   "name": "python",
   "nbconvert_exporter": "python",
   "pygments_lexer": "ipython3",
   "version": "3.7.6"
  },
  "colab": {
   "provenance": [
    {
     "file_id": "1biOylKyLTuH-vTfnFpTSJzpkIFtHb4ht",
     "timestamp": 1676874119426
    },
    {
     "file_id": "11GCoTwnFmJ7Rb767Yxx995EcVc-eFr_n",
     "timestamp": 1676365799335
    },
    {
     "file_id": "19IQkQ3IsmreLEIq-uxWz0YfGBJojrAvX",
     "timestamp": 1676108643485
    },
    {
     "file_id": "https://github.com/Murcha1990/churn_clients/blob/main/Raiff_demo_classification.ipynb",
     "timestamp": 1672144713151
    }
   ],
   "collapsed_sections": [
    "cgXJLC1Yjpnm",
    "ORzwrTOrltqs",
    "rzypjl5l3Q57",
    "2nouWWLZl6oA",
    "Ec9XDcmPl_Pt",
    "YKqPYfZ3N1Bp",
    "0WKy0qt2QHw-",
    "N0qYwySGh9p_",
    "c6GyG8VFjx1I",
    "_ezdQM9tTcW6"
   ]
  }
 },
 "nbformat": 4,
 "nbformat_minor": 0
}