{
 "cells": [
  {
   "cell_type": "markdown",
   "source": [
    "# Решение задачи прогнозирования открытия вклада\n"
   ],
   "metadata": {
    "id": "z79gbIw0bWJZ",
    "pycharm": {
     "name": "#%% md\n"
    }
   }
  },
  {
   "cell_type": "markdown",
   "source": [
    "Задача - по различным характеристикам спрогнозировать целевую переменную - открыл ли клиент вклад на предложенных ему условиях или нет."
   ],
   "metadata": {
    "id": "9VDkBu75nCLq",
    "pycharm": {
     "name": "#%% md\n"
    }
   }
  },
  {
   "cell_type": "markdown",
   "source": [
    "## <font color='green'>1. Загрузка данных и их первичный анализ</font>"
   ],
   "metadata": {
    "id": "cgXJLC1Yjpnm",
    "pycharm": {
     "name": "#%% md\n"
    }
   }
  },
  {
   "cell_type": "code",
   "source": [
    "import pandas as pd\n",
    "from matplotlib import pyplot as plt\n",
    "import numpy as np\n",
    "import warnings\n",
    "warnings.filterwarnings(\"ignore\")"
   ],
   "metadata": {
    "id": "7efd5Dz0jBYo",
    "pycharm": {
     "name": "#%%\n"
    }
   },
   "execution_count": 491,
   "outputs": []
  },
  {
   "cell_type": "code",
   "source": [
    "!mkdir -p ~/.postgresql && \\\n",
    "wget \"https://storage.yandexcloud.net/cloud-certs/CA.pem\" \\\n",
    "    --output-document ~/.postgresql/root.crt && \\\n",
    "chmod 0600 ~/.postgresql/root.crt"
   ],
   "metadata": {
    "id": "lsSsqybn-0Wn",
    "colab": {
     "base_uri": "https://localhost:8080/"
    },
    "outputId": "8314dfe0-d984-4798-be99-8d61fad96dae",
    "pycharm": {
     "name": "#%%\n"
    }
   },
   "execution_count": 492,
   "outputs": [
    {
     "output_type": "stream",
     "name": "stdout",
     "text": [
      "--2023-03-01 11:22:15--  https://storage.yandexcloud.net/cloud-certs/CA.pem\n",
      "Resolving storage.yandexcloud.net (storage.yandexcloud.net)... 213.180.193.243, 2a02:6b8::1d9\n",
      "Connecting to storage.yandexcloud.net (storage.yandexcloud.net)|213.180.193.243|:443... connected.\n",
      "HTTP request sent, awaiting response... 200 OK\n",
      "Length: 3579 (3.5K) [application/x-x509-ca-cert]\n",
      "Saving to: ‘/root/.postgresql/root.crt’\n",
      "\n",
      "/root/.postgresql/r 100%[===================>]   3.50K  --.-KB/s    in 0s      \n",
      "\n",
      "2023-03-01 11:22:15 (705 MB/s) - ‘/root/.postgresql/root.crt’ saved [3579/3579]\n",
      "\n"
     ]
    }
   ]
  },
  {
   "cell_type": "code",
   "source": [
    "!sudo apt update && sudo apt install --yes python3 python3-pip && \\\n",
    "!pip3 install psycopg2-binary"
   ],
   "metadata": {
    "id": "5FSpwWtT-07k",
    "colab": {
     "base_uri": "https://localhost:8080/"
    },
    "outputId": "4ab63707-10c1-4a2f-fae2-eaf6ee68f24f",
    "pycharm": {
     "name": "#%%\n"
    }
   },
   "execution_count": 493,
   "outputs": [
    {
     "output_type": "stream",
     "name": "stdout",
     "text": [
      "\u001B[33m\r0% [Working]\u001B[0m\r            \rHit:1 https://cloud.r-project.org/bin/linux/ubuntu focal-cran40/ InRelease\n",
      "\u001B[33m\r0% [Waiting for headers] [Waiting for headers] [Waiting for headers] [Waiting f\u001B[0m\r                                                                               \rIgn:2 https://developer.download.nvidia.com/compute/machine-learning/repos/ubuntu2004/x86_64  InRelease\n",
      "\u001B[33m\r0% [Waiting for headers] [Waiting for headers] [Waiting for headers] [Waiting f\u001B[0m\r                                                                               \rHit:3 https://developer.download.nvidia.com/compute/cuda/repos/ubuntu2004/x86_64  InRelease\n",
      "\u001B[33m\r                                                                               \r0% [Waiting for headers] [Waiting for headers] [Waiting for headers]\u001B[0m\r                                                                    \rHit:4 http://ppa.launchpad.net/c2d4u.team/c2d4u4.0+/ubuntu focal InRelease\n",
      "\u001B[33m\r0% [Waiting for headers] [Waiting for headers] [Waiting for headers] [Connectin\u001B[0m\r                                                                               \rHit:5 https://developer.download.nvidia.com/compute/machine-learning/repos/ubuntu2004/x86_64  Release\n",
      "\u001B[33m\r0% [Waiting for headers] [Waiting for headers] [Connecting to ppa.launchpad.net\u001B[0m\r                                                                               \rHit:6 http://security.ubuntu.com/ubuntu focal-security InRelease\n",
      "\u001B[33m\r                                                                               \r0% [Waiting for headers] [Connecting to ppa.launchpad.net (185.125.190.52)]\u001B[0m\r                                                                           \rHit:7 http://archive.ubuntu.com/ubuntu focal InRelease\n",
      "Hit:8 http://archive.ubuntu.com/ubuntu focal-updates InRelease\n",
      "Hit:9 http://ppa.launchpad.net/cran/libgit2/ubuntu focal InRelease\n",
      "Hit:10 http://archive.ubuntu.com/ubuntu focal-backports InRelease\n",
      "Hit:11 http://ppa.launchpad.net/deadsnakes/ppa/ubuntu focal InRelease\n",
      "Hit:13 http://ppa.launchpad.net/graphics-drivers/ppa/ubuntu focal InRelease\n",
      "Hit:14 http://ppa.launchpad.net/ubuntugis/ppa/ubuntu focal InRelease\n",
      "Reading package lists... Done\n",
      "Building dependency tree       \n",
      "Reading state information... Done\n",
      "52 packages can be upgraded. Run 'apt list --upgradable' to see them.\n",
      "Reading package lists... Done\n",
      "Building dependency tree       \n",
      "Reading state information... Done\n",
      "python3 is already the newest version (3.8.2-0ubuntu2).\n",
      "python3-pip is already the newest version (20.0.2-5ubuntu1.8).\n",
      "0 upgraded, 0 newly installed, 0 to remove and 52 not upgraded.\n",
      "/bin/bash: !pip3: command not found\n"
     ]
    }
   ]
  },
  {
   "cell_type": "code",
   "source": [
    "import psycopg2\n",
    "\n",
    "conn = psycopg2.connect(\"\"\"\n",
    "    host=rc1b-70q90cunwkzx49mj.mdb.yandexcloud.net\n",
    "    port=6432\n",
    "    sslmode=verify-full\n",
    "    dbname=db_clients\n",
    "    user=mlhs_student\n",
    "    password=mlhs_student\n",
    "    target_session_attrs=read-write\n",
    "\"\"\")"
   ],
   "metadata": {
    "id": "y53tm9hg-2aU",
    "pycharm": {
     "name": "#%%\n"
    }
   },
   "execution_count": 494,
   "outputs": []
  },
  {
   "cell_type": "code",
   "source": [
    "query = \"SELECT * from public.bank_deposit\"\n",
    "data = pd.read_sql_query(query, conn)\n",
    "\n",
    "conn.close()"
   ],
   "metadata": {
    "id": "8FTHOncvEX_A",
    "pycharm": {
     "name": "#%%\n"
    }
   },
   "execution_count": 495,
   "outputs": []
  },
  {
   "cell_type": "markdown",
   "source": [
    "Описание данных клиентов:\n",
    "* deposit, (yes/no). Открыл ли клиент срочный депозит?\n",
    "* age, numerical. Количество полных лет.\n",
    "* job, categorical. Тип занимаемой должности ('admin.','blue-collar','entrepreneur','housemaid','management','retired','self-employed','services','student','technician','unemployed','unknown').\n",
    "* marital, categorical. Cемейное положение ('divorced','married','single','unknown'; note: 'divorced' means divorced or widowed).\n",
    "* education, categorical. Образование ('secondary','tertiary','primary','unknown').\n",
    "* default, categorical. Имеется ли любой вид кредитования? ('no','yes','unknown').\n",
    "* housing, categorical. Имеется ли ипотека? ('no','yes','unknown').\n",
    "* loan, categorical. Имеется ли персональный кредит? ('no','yes','unknown')\n",
    "* contact, categorical. Вид контакта с клиентом ('cellular','telephone','unknown').\n",
    "* month, categorical. В каком месяце было сделано предыдущее предложение ('jan', 'feb', 'mar', ..., 'nov', 'dec').\n",
    "* day, categorical. День месяца в которое было сделано предыдущее предложение (от 1 до 31)\n",
    "* duration, numerical. Продолжительность предыдущего общения в секундах. Important note: this attribute highly affects the output target (e.g., if duration=0 then y='no'). Yet, the duration is not known before a call is performed. Also, after the end of the call y is obviously known. Thus, this input should only be included for benchmark purposes and should be discarded if the intention is to have a realistic predictive model.\n",
    "* campaign, numerical. Количество контактов по этой маркетинговой кампании с этим клиентов (includes last contact).\n",
    "* pdays, numerical. Количество дней, прошедших с предыдущего предложения (число; -1 означает, что раньше не предлагали).\n",
    "* previous, numerical. Количество контактов с этим клиентом в другие маркетинговые кампании.\n",
    "* poutcome, categorical. Результат предыдущего предложения ('failure','other','success','unknown').\n",
    "* balance, numerical. Закодированное название личной числовой характеристики клиента. (Кажется, это просто баланс на счете)\n",
    "\n",
    "\n"
   ],
   "metadata": {
    "id": "SW_Rpf6HRZH0",
    "pycharm": {
     "name": "#%% md\n"
    }
   }
  },
  {
   "cell_type": "code",
   "source": [
    "data.head()"
   ],
   "metadata": {
    "id": "3WWFMf7BRYFq",
    "colab": {
     "base_uri": "https://localhost:8080/",
     "height": 206
    },
    "outputId": "03935b88-ffc9-49ba-97b4-5d1470265f63",
    "pycharm": {
     "name": "#%%\n"
    }
   },
   "execution_count": 496,
   "outputs": [
    {
     "output_type": "execute_result",
     "data": {
      "text/plain": [
       "   age         job  marital  education default  balance housing loan  contact  \\\n",
       "0   59      admin.  married  secondary      no     2343     yes   no  unknown   \n",
       "1   56      admin.  married  secondary      no       45      no   no  unknown   \n",
       "2   41  technician  married  secondary      no     1270     yes   no  unknown   \n",
       "3   55    services  married  secondary      no     2476     yes   no  unknown   \n",
       "4   54      admin.  married   tertiary      no      184      no   no  unknown   \n",
       "\n",
       "   day month  duration  campaign  pdays  previous poutcome deposit  \n",
       "0    5   may      1042         1     -1         0  unknown     yes  \n",
       "1    5   may      1467         1     -1         0  unknown     yes  \n",
       "2    5   may      1389         1     -1         0  unknown     yes  \n",
       "3    5   may       579         1     -1         0  unknown     yes  \n",
       "4    5   may       673         2     -1         0  unknown     yes  "
      ],
      "text/html": [
       "\n",
       "  <div id=\"df-b12f24ec-7831-4e53-8832-69782a96639f\">\n",
       "    <div class=\"colab-df-container\">\n",
       "      <div>\n",
       "<style scoped>\n",
       "    .dataframe tbody tr th:only-of-type {\n",
       "        vertical-align: middle;\n",
       "    }\n",
       "\n",
       "    .dataframe tbody tr th {\n",
       "        vertical-align: top;\n",
       "    }\n",
       "\n",
       "    .dataframe thead th {\n",
       "        text-align: right;\n",
       "    }\n",
       "</style>\n",
       "<table border=\"1\" class=\"dataframe\">\n",
       "  <thead>\n",
       "    <tr style=\"text-align: right;\">\n",
       "      <th></th>\n",
       "      <th>age</th>\n",
       "      <th>job</th>\n",
       "      <th>marital</th>\n",
       "      <th>education</th>\n",
       "      <th>default</th>\n",
       "      <th>balance</th>\n",
       "      <th>housing</th>\n",
       "      <th>loan</th>\n",
       "      <th>contact</th>\n",
       "      <th>day</th>\n",
       "      <th>month</th>\n",
       "      <th>duration</th>\n",
       "      <th>campaign</th>\n",
       "      <th>pdays</th>\n",
       "      <th>previous</th>\n",
       "      <th>poutcome</th>\n",
       "      <th>deposit</th>\n",
       "    </tr>\n",
       "  </thead>\n",
       "  <tbody>\n",
       "    <tr>\n",
       "      <th>0</th>\n",
       "      <td>59</td>\n",
       "      <td>admin.</td>\n",
       "      <td>married</td>\n",
       "      <td>secondary</td>\n",
       "      <td>no</td>\n",
       "      <td>2343</td>\n",
       "      <td>yes</td>\n",
       "      <td>no</td>\n",
       "      <td>unknown</td>\n",
       "      <td>5</td>\n",
       "      <td>may</td>\n",
       "      <td>1042</td>\n",
       "      <td>1</td>\n",
       "      <td>-1</td>\n",
       "      <td>0</td>\n",
       "      <td>unknown</td>\n",
       "      <td>yes</td>\n",
       "    </tr>\n",
       "    <tr>\n",
       "      <th>1</th>\n",
       "      <td>56</td>\n",
       "      <td>admin.</td>\n",
       "      <td>married</td>\n",
       "      <td>secondary</td>\n",
       "      <td>no</td>\n",
       "      <td>45</td>\n",
       "      <td>no</td>\n",
       "      <td>no</td>\n",
       "      <td>unknown</td>\n",
       "      <td>5</td>\n",
       "      <td>may</td>\n",
       "      <td>1467</td>\n",
       "      <td>1</td>\n",
       "      <td>-1</td>\n",
       "      <td>0</td>\n",
       "      <td>unknown</td>\n",
       "      <td>yes</td>\n",
       "    </tr>\n",
       "    <tr>\n",
       "      <th>2</th>\n",
       "      <td>41</td>\n",
       "      <td>technician</td>\n",
       "      <td>married</td>\n",
       "      <td>secondary</td>\n",
       "      <td>no</td>\n",
       "      <td>1270</td>\n",
       "      <td>yes</td>\n",
       "      <td>no</td>\n",
       "      <td>unknown</td>\n",
       "      <td>5</td>\n",
       "      <td>may</td>\n",
       "      <td>1389</td>\n",
       "      <td>1</td>\n",
       "      <td>-1</td>\n",
       "      <td>0</td>\n",
       "      <td>unknown</td>\n",
       "      <td>yes</td>\n",
       "    </tr>\n",
       "    <tr>\n",
       "      <th>3</th>\n",
       "      <td>55</td>\n",
       "      <td>services</td>\n",
       "      <td>married</td>\n",
       "      <td>secondary</td>\n",
       "      <td>no</td>\n",
       "      <td>2476</td>\n",
       "      <td>yes</td>\n",
       "      <td>no</td>\n",
       "      <td>unknown</td>\n",
       "      <td>5</td>\n",
       "      <td>may</td>\n",
       "      <td>579</td>\n",
       "      <td>1</td>\n",
       "      <td>-1</td>\n",
       "      <td>0</td>\n",
       "      <td>unknown</td>\n",
       "      <td>yes</td>\n",
       "    </tr>\n",
       "    <tr>\n",
       "      <th>4</th>\n",
       "      <td>54</td>\n",
       "      <td>admin.</td>\n",
       "      <td>married</td>\n",
       "      <td>tertiary</td>\n",
       "      <td>no</td>\n",
       "      <td>184</td>\n",
       "      <td>no</td>\n",
       "      <td>no</td>\n",
       "      <td>unknown</td>\n",
       "      <td>5</td>\n",
       "      <td>may</td>\n",
       "      <td>673</td>\n",
       "      <td>2</td>\n",
       "      <td>-1</td>\n",
       "      <td>0</td>\n",
       "      <td>unknown</td>\n",
       "      <td>yes</td>\n",
       "    </tr>\n",
       "  </tbody>\n",
       "</table>\n",
       "</div>\n",
       "      <button class=\"colab-df-convert\" onclick=\"convertToInteractive('df-b12f24ec-7831-4e53-8832-69782a96639f')\"\n",
       "              title=\"Convert this dataframe to an interactive table.\"\n",
       "              style=\"display:none;\">\n",
       "        \n",
       "  <svg xmlns=\"http://www.w3.org/2000/svg\" height=\"24px\"viewBox=\"0 0 24 24\"\n",
       "       width=\"24px\">\n",
       "    <path d=\"M0 0h24v24H0V0z\" fill=\"none\"/>\n",
       "    <path d=\"M18.56 5.44l.94 2.06.94-2.06 2.06-.94-2.06-.94-.94-2.06-.94 2.06-2.06.94zm-11 1L8.5 8.5l.94-2.06 2.06-.94-2.06-.94L8.5 2.5l-.94 2.06-2.06.94zm10 10l.94 2.06.94-2.06 2.06-.94-2.06-.94-.94-2.06-.94 2.06-2.06.94z\"/><path d=\"M17.41 7.96l-1.37-1.37c-.4-.4-.92-.59-1.43-.59-.52 0-1.04.2-1.43.59L10.3 9.45l-7.72 7.72c-.78.78-.78 2.05 0 2.83L4 21.41c.39.39.9.59 1.41.59.51 0 1.02-.2 1.41-.59l7.78-7.78 2.81-2.81c.8-.78.8-2.07 0-2.86zM5.41 20L4 18.59l7.72-7.72 1.47 1.35L5.41 20z\"/>\n",
       "  </svg>\n",
       "      </button>\n",
       "      \n",
       "  <style>\n",
       "    .colab-df-container {\n",
       "      display:flex;\n",
       "      flex-wrap:wrap;\n",
       "      gap: 12px;\n",
       "    }\n",
       "\n",
       "    .colab-df-convert {\n",
       "      background-color: #E8F0FE;\n",
       "      border: none;\n",
       "      border-radius: 50%;\n",
       "      cursor: pointer;\n",
       "      display: none;\n",
       "      fill: #1967D2;\n",
       "      height: 32px;\n",
       "      padding: 0 0 0 0;\n",
       "      width: 32px;\n",
       "    }\n",
       "\n",
       "    .colab-df-convert:hover {\n",
       "      background-color: #E2EBFA;\n",
       "      box-shadow: 0px 1px 2px rgba(60, 64, 67, 0.3), 0px 1px 3px 1px rgba(60, 64, 67, 0.15);\n",
       "      fill: #174EA6;\n",
       "    }\n",
       "\n",
       "    [theme=dark] .colab-df-convert {\n",
       "      background-color: #3B4455;\n",
       "      fill: #D2E3FC;\n",
       "    }\n",
       "\n",
       "    [theme=dark] .colab-df-convert:hover {\n",
       "      background-color: #434B5C;\n",
       "      box-shadow: 0px 1px 3px 1px rgba(0, 0, 0, 0.15);\n",
       "      filter: drop-shadow(0px 1px 2px rgba(0, 0, 0, 0.3));\n",
       "      fill: #FFFFFF;\n",
       "    }\n",
       "  </style>\n",
       "\n",
       "      <script>\n",
       "        const buttonEl =\n",
       "          document.querySelector('#df-b12f24ec-7831-4e53-8832-69782a96639f button.colab-df-convert');\n",
       "        buttonEl.style.display =\n",
       "          google.colab.kernel.accessAllowed ? 'block' : 'none';\n",
       "\n",
       "        async function convertToInteractive(key) {\n",
       "          const element = document.querySelector('#df-b12f24ec-7831-4e53-8832-69782a96639f');\n",
       "          const dataTable =\n",
       "            await google.colab.kernel.invokeFunction('convertToInteractive',\n",
       "                                                     [key], {});\n",
       "          if (!dataTable) return;\n",
       "\n",
       "          const docLinkHtml = 'Like what you see? Visit the ' +\n",
       "            '<a target=\"_blank\" href=https://colab.research.google.com/notebooks/data_table.ipynb>data table notebook</a>'\n",
       "            + ' to learn more about interactive tables.';\n",
       "          element.innerHTML = '';\n",
       "          dataTable['output_type'] = 'display_data';\n",
       "          await google.colab.output.renderOutput(dataTable, element);\n",
       "          const docLink = document.createElement('div');\n",
       "          docLink.innerHTML = docLinkHtml;\n",
       "          element.appendChild(docLink);\n",
       "        }\n",
       "      </script>\n",
       "    </div>\n",
       "  </div>\n",
       "  "
      ]
     },
     "metadata": {},
     "execution_count": 496
    }
   ]
  },
  {
   "cell_type": "code",
   "source": [
    "data.shape"
   ],
   "metadata": {
    "id": "aX7cYQzN0k_Z",
    "colab": {
     "base_uri": "https://localhost:8080/"
    },
    "outputId": "740288e5-2b5b-4437-d95f-9c6b9c2373bc",
    "pycharm": {
     "name": "#%%\n"
    }
   },
   "execution_count": 497,
   "outputs": [
    {
     "output_type": "execute_result",
     "data": {
      "text/plain": [
       "(11162, 17)"
      ]
     },
     "metadata": {},
     "execution_count": 497
    }
   ]
  },
  {
   "cell_type": "code",
   "source": [
    "data.drop_duplicates()"
   ],
   "metadata": {
    "colab": {
     "base_uri": "https://localhost:8080/",
     "height": 423
    },
    "id": "0nI8gowk12_y",
    "outputId": "d638a120-b601-4113-935a-be7647ba9f92",
    "pycharm": {
     "name": "#%%\n"
    }
   },
   "execution_count": 498,
   "outputs": [
    {
     "output_type": "execute_result",
     "data": {
      "text/plain": [
       "       age          job  marital  education default  balance housing loan  \\\n",
       "0       59       admin.  married  secondary      no     2343     yes   no   \n",
       "1       56       admin.  married  secondary      no       45      no   no   \n",
       "2       41   technician  married  secondary      no     1270     yes   no   \n",
       "3       55     services  married  secondary      no     2476     yes   no   \n",
       "4       54       admin.  married   tertiary      no      184      no   no   \n",
       "...    ...          ...      ...        ...     ...      ...     ...  ...   \n",
       "11157   33  blue-collar   single    primary      no        1     yes   no   \n",
       "11158   39     services  married  secondary      no      733      no   no   \n",
       "11159   32   technician   single  secondary      no       29      no   no   \n",
       "11160   43   technician  married  secondary      no        0      no  yes   \n",
       "11161   34   technician  married  secondary      no        0      no   no   \n",
       "\n",
       "        contact  day month  duration  campaign  pdays  previous poutcome  \\\n",
       "0       unknown    5   may      1042         1     -1         0  unknown   \n",
       "1       unknown    5   may      1467         1     -1         0  unknown   \n",
       "2       unknown    5   may      1389         1     -1         0  unknown   \n",
       "3       unknown    5   may       579         1     -1         0  unknown   \n",
       "4       unknown    5   may       673         2     -1         0  unknown   \n",
       "...         ...  ...   ...       ...       ...    ...       ...      ...   \n",
       "11157  cellular   20   apr       257         1     -1         0  unknown   \n",
       "11158   unknown   16   jun        83         4     -1         0  unknown   \n",
       "11159  cellular   19   aug       156         2     -1         0  unknown   \n",
       "11160  cellular    8   may         9         2    172         5  failure   \n",
       "11161  cellular    9   jul       628         1     -1         0  unknown   \n",
       "\n",
       "      deposit  \n",
       "0         yes  \n",
       "1         yes  \n",
       "2         yes  \n",
       "3         yes  \n",
       "4         yes  \n",
       "...       ...  \n",
       "11157      no  \n",
       "11158      no  \n",
       "11159      no  \n",
       "11160      no  \n",
       "11161      no  \n",
       "\n",
       "[11162 rows x 17 columns]"
      ],
      "text/html": [
       "\n",
       "  <div id=\"df-1fb0fa1c-9915-4f27-b5ab-d57ab671c3ba\">\n",
       "    <div class=\"colab-df-container\">\n",
       "      <div>\n",
       "<style scoped>\n",
       "    .dataframe tbody tr th:only-of-type {\n",
       "        vertical-align: middle;\n",
       "    }\n",
       "\n",
       "    .dataframe tbody tr th {\n",
       "        vertical-align: top;\n",
       "    }\n",
       "\n",
       "    .dataframe thead th {\n",
       "        text-align: right;\n",
       "    }\n",
       "</style>\n",
       "<table border=\"1\" class=\"dataframe\">\n",
       "  <thead>\n",
       "    <tr style=\"text-align: right;\">\n",
       "      <th></th>\n",
       "      <th>age</th>\n",
       "      <th>job</th>\n",
       "      <th>marital</th>\n",
       "      <th>education</th>\n",
       "      <th>default</th>\n",
       "      <th>balance</th>\n",
       "      <th>housing</th>\n",
       "      <th>loan</th>\n",
       "      <th>contact</th>\n",
       "      <th>day</th>\n",
       "      <th>month</th>\n",
       "      <th>duration</th>\n",
       "      <th>campaign</th>\n",
       "      <th>pdays</th>\n",
       "      <th>previous</th>\n",
       "      <th>poutcome</th>\n",
       "      <th>deposit</th>\n",
       "    </tr>\n",
       "  </thead>\n",
       "  <tbody>\n",
       "    <tr>\n",
       "      <th>0</th>\n",
       "      <td>59</td>\n",
       "      <td>admin.</td>\n",
       "      <td>married</td>\n",
       "      <td>secondary</td>\n",
       "      <td>no</td>\n",
       "      <td>2343</td>\n",
       "      <td>yes</td>\n",
       "      <td>no</td>\n",
       "      <td>unknown</td>\n",
       "      <td>5</td>\n",
       "      <td>may</td>\n",
       "      <td>1042</td>\n",
       "      <td>1</td>\n",
       "      <td>-1</td>\n",
       "      <td>0</td>\n",
       "      <td>unknown</td>\n",
       "      <td>yes</td>\n",
       "    </tr>\n",
       "    <tr>\n",
       "      <th>1</th>\n",
       "      <td>56</td>\n",
       "      <td>admin.</td>\n",
       "      <td>married</td>\n",
       "      <td>secondary</td>\n",
       "      <td>no</td>\n",
       "      <td>45</td>\n",
       "      <td>no</td>\n",
       "      <td>no</td>\n",
       "      <td>unknown</td>\n",
       "      <td>5</td>\n",
       "      <td>may</td>\n",
       "      <td>1467</td>\n",
       "      <td>1</td>\n",
       "      <td>-1</td>\n",
       "      <td>0</td>\n",
       "      <td>unknown</td>\n",
       "      <td>yes</td>\n",
       "    </tr>\n",
       "    <tr>\n",
       "      <th>2</th>\n",
       "      <td>41</td>\n",
       "      <td>technician</td>\n",
       "      <td>married</td>\n",
       "      <td>secondary</td>\n",
       "      <td>no</td>\n",
       "      <td>1270</td>\n",
       "      <td>yes</td>\n",
       "      <td>no</td>\n",
       "      <td>unknown</td>\n",
       "      <td>5</td>\n",
       "      <td>may</td>\n",
       "      <td>1389</td>\n",
       "      <td>1</td>\n",
       "      <td>-1</td>\n",
       "      <td>0</td>\n",
       "      <td>unknown</td>\n",
       "      <td>yes</td>\n",
       "    </tr>\n",
       "    <tr>\n",
       "      <th>3</th>\n",
       "      <td>55</td>\n",
       "      <td>services</td>\n",
       "      <td>married</td>\n",
       "      <td>secondary</td>\n",
       "      <td>no</td>\n",
       "      <td>2476</td>\n",
       "      <td>yes</td>\n",
       "      <td>no</td>\n",
       "      <td>unknown</td>\n",
       "      <td>5</td>\n",
       "      <td>may</td>\n",
       "      <td>579</td>\n",
       "      <td>1</td>\n",
       "      <td>-1</td>\n",
       "      <td>0</td>\n",
       "      <td>unknown</td>\n",
       "      <td>yes</td>\n",
       "    </tr>\n",
       "    <tr>\n",
       "      <th>4</th>\n",
       "      <td>54</td>\n",
       "      <td>admin.</td>\n",
       "      <td>married</td>\n",
       "      <td>tertiary</td>\n",
       "      <td>no</td>\n",
       "      <td>184</td>\n",
       "      <td>no</td>\n",
       "      <td>no</td>\n",
       "      <td>unknown</td>\n",
       "      <td>5</td>\n",
       "      <td>may</td>\n",
       "      <td>673</td>\n",
       "      <td>2</td>\n",
       "      <td>-1</td>\n",
       "      <td>0</td>\n",
       "      <td>unknown</td>\n",
       "      <td>yes</td>\n",
       "    </tr>\n",
       "    <tr>\n",
       "      <th>...</th>\n",
       "      <td>...</td>\n",
       "      <td>...</td>\n",
       "      <td>...</td>\n",
       "      <td>...</td>\n",
       "      <td>...</td>\n",
       "      <td>...</td>\n",
       "      <td>...</td>\n",
       "      <td>...</td>\n",
       "      <td>...</td>\n",
       "      <td>...</td>\n",
       "      <td>...</td>\n",
       "      <td>...</td>\n",
       "      <td>...</td>\n",
       "      <td>...</td>\n",
       "      <td>...</td>\n",
       "      <td>...</td>\n",
       "      <td>...</td>\n",
       "    </tr>\n",
       "    <tr>\n",
       "      <th>11157</th>\n",
       "      <td>33</td>\n",
       "      <td>blue-collar</td>\n",
       "      <td>single</td>\n",
       "      <td>primary</td>\n",
       "      <td>no</td>\n",
       "      <td>1</td>\n",
       "      <td>yes</td>\n",
       "      <td>no</td>\n",
       "      <td>cellular</td>\n",
       "      <td>20</td>\n",
       "      <td>apr</td>\n",
       "      <td>257</td>\n",
       "      <td>1</td>\n",
       "      <td>-1</td>\n",
       "      <td>0</td>\n",
       "      <td>unknown</td>\n",
       "      <td>no</td>\n",
       "    </tr>\n",
       "    <tr>\n",
       "      <th>11158</th>\n",
       "      <td>39</td>\n",
       "      <td>services</td>\n",
       "      <td>married</td>\n",
       "      <td>secondary</td>\n",
       "      <td>no</td>\n",
       "      <td>733</td>\n",
       "      <td>no</td>\n",
       "      <td>no</td>\n",
       "      <td>unknown</td>\n",
       "      <td>16</td>\n",
       "      <td>jun</td>\n",
       "      <td>83</td>\n",
       "      <td>4</td>\n",
       "      <td>-1</td>\n",
       "      <td>0</td>\n",
       "      <td>unknown</td>\n",
       "      <td>no</td>\n",
       "    </tr>\n",
       "    <tr>\n",
       "      <th>11159</th>\n",
       "      <td>32</td>\n",
       "      <td>technician</td>\n",
       "      <td>single</td>\n",
       "      <td>secondary</td>\n",
       "      <td>no</td>\n",
       "      <td>29</td>\n",
       "      <td>no</td>\n",
       "      <td>no</td>\n",
       "      <td>cellular</td>\n",
       "      <td>19</td>\n",
       "      <td>aug</td>\n",
       "      <td>156</td>\n",
       "      <td>2</td>\n",
       "      <td>-1</td>\n",
       "      <td>0</td>\n",
       "      <td>unknown</td>\n",
       "      <td>no</td>\n",
       "    </tr>\n",
       "    <tr>\n",
       "      <th>11160</th>\n",
       "      <td>43</td>\n",
       "      <td>technician</td>\n",
       "      <td>married</td>\n",
       "      <td>secondary</td>\n",
       "      <td>no</td>\n",
       "      <td>0</td>\n",
       "      <td>no</td>\n",
       "      <td>yes</td>\n",
       "      <td>cellular</td>\n",
       "      <td>8</td>\n",
       "      <td>may</td>\n",
       "      <td>9</td>\n",
       "      <td>2</td>\n",
       "      <td>172</td>\n",
       "      <td>5</td>\n",
       "      <td>failure</td>\n",
       "      <td>no</td>\n",
       "    </tr>\n",
       "    <tr>\n",
       "      <th>11161</th>\n",
       "      <td>34</td>\n",
       "      <td>technician</td>\n",
       "      <td>married</td>\n",
       "      <td>secondary</td>\n",
       "      <td>no</td>\n",
       "      <td>0</td>\n",
       "      <td>no</td>\n",
       "      <td>no</td>\n",
       "      <td>cellular</td>\n",
       "      <td>9</td>\n",
       "      <td>jul</td>\n",
       "      <td>628</td>\n",
       "      <td>1</td>\n",
       "      <td>-1</td>\n",
       "      <td>0</td>\n",
       "      <td>unknown</td>\n",
       "      <td>no</td>\n",
       "    </tr>\n",
       "  </tbody>\n",
       "</table>\n",
       "<p>11162 rows × 17 columns</p>\n",
       "</div>\n",
       "      <button class=\"colab-df-convert\" onclick=\"convertToInteractive('df-1fb0fa1c-9915-4f27-b5ab-d57ab671c3ba')\"\n",
       "              title=\"Convert this dataframe to an interactive table.\"\n",
       "              style=\"display:none;\">\n",
       "        \n",
       "  <svg xmlns=\"http://www.w3.org/2000/svg\" height=\"24px\"viewBox=\"0 0 24 24\"\n",
       "       width=\"24px\">\n",
       "    <path d=\"M0 0h24v24H0V0z\" fill=\"none\"/>\n",
       "    <path d=\"M18.56 5.44l.94 2.06.94-2.06 2.06-.94-2.06-.94-.94-2.06-.94 2.06-2.06.94zm-11 1L8.5 8.5l.94-2.06 2.06-.94-2.06-.94L8.5 2.5l-.94 2.06-2.06.94zm10 10l.94 2.06.94-2.06 2.06-.94-2.06-.94-.94-2.06-.94 2.06-2.06.94z\"/><path d=\"M17.41 7.96l-1.37-1.37c-.4-.4-.92-.59-1.43-.59-.52 0-1.04.2-1.43.59L10.3 9.45l-7.72 7.72c-.78.78-.78 2.05 0 2.83L4 21.41c.39.39.9.59 1.41.59.51 0 1.02-.2 1.41-.59l7.78-7.78 2.81-2.81c.8-.78.8-2.07 0-2.86zM5.41 20L4 18.59l7.72-7.72 1.47 1.35L5.41 20z\"/>\n",
       "  </svg>\n",
       "      </button>\n",
       "      \n",
       "  <style>\n",
       "    .colab-df-container {\n",
       "      display:flex;\n",
       "      flex-wrap:wrap;\n",
       "      gap: 12px;\n",
       "    }\n",
       "\n",
       "    .colab-df-convert {\n",
       "      background-color: #E8F0FE;\n",
       "      border: none;\n",
       "      border-radius: 50%;\n",
       "      cursor: pointer;\n",
       "      display: none;\n",
       "      fill: #1967D2;\n",
       "      height: 32px;\n",
       "      padding: 0 0 0 0;\n",
       "      width: 32px;\n",
       "    }\n",
       "\n",
       "    .colab-df-convert:hover {\n",
       "      background-color: #E2EBFA;\n",
       "      box-shadow: 0px 1px 2px rgba(60, 64, 67, 0.3), 0px 1px 3px 1px rgba(60, 64, 67, 0.15);\n",
       "      fill: #174EA6;\n",
       "    }\n",
       "\n",
       "    [theme=dark] .colab-df-convert {\n",
       "      background-color: #3B4455;\n",
       "      fill: #D2E3FC;\n",
       "    }\n",
       "\n",
       "    [theme=dark] .colab-df-convert:hover {\n",
       "      background-color: #434B5C;\n",
       "      box-shadow: 0px 1px 3px 1px rgba(0, 0, 0, 0.15);\n",
       "      filter: drop-shadow(0px 1px 2px rgba(0, 0, 0, 0.3));\n",
       "      fill: #FFFFFF;\n",
       "    }\n",
       "  </style>\n",
       "\n",
       "      <script>\n",
       "        const buttonEl =\n",
       "          document.querySelector('#df-1fb0fa1c-9915-4f27-b5ab-d57ab671c3ba button.colab-df-convert');\n",
       "        buttonEl.style.display =\n",
       "          google.colab.kernel.accessAllowed ? 'block' : 'none';\n",
       "\n",
       "        async function convertToInteractive(key) {\n",
       "          const element = document.querySelector('#df-1fb0fa1c-9915-4f27-b5ab-d57ab671c3ba');\n",
       "          const dataTable =\n",
       "            await google.colab.kernel.invokeFunction('convertToInteractive',\n",
       "                                                     [key], {});\n",
       "          if (!dataTable) return;\n",
       "\n",
       "          const docLinkHtml = 'Like what you see? Visit the ' +\n",
       "            '<a target=\"_blank\" href=https://colab.research.google.com/notebooks/data_table.ipynb>data table notebook</a>'\n",
       "            + ' to learn more about interactive tables.';\n",
       "          element.innerHTML = '';\n",
       "          dataTable['output_type'] = 'display_data';\n",
       "          await google.colab.output.renderOutput(dataTable, element);\n",
       "          const docLink = document.createElement('div');\n",
       "          docLink.innerHTML = docLinkHtml;\n",
       "          element.appendChild(docLink);\n",
       "        }\n",
       "      </script>\n",
       "    </div>\n",
       "  </div>\n",
       "  "
      ]
     },
     "metadata": {},
     "execution_count": 498
    }
   ]
  },
  {
   "cell_type": "code",
   "source": [
    "data.dtypes"
   ],
   "metadata": {
    "id": "1FjpaGIa0mjt",
    "colab": {
     "base_uri": "https://localhost:8080/"
    },
    "outputId": "90ed9c28-5ad0-4b76-c802-3c9ed700b33b",
    "pycharm": {
     "name": "#%%\n"
    }
   },
   "execution_count": 499,
   "outputs": [
    {
     "output_type": "execute_result",
     "data": {
      "text/plain": [
       "age           int64\n",
       "job          object\n",
       "marital      object\n",
       "education    object\n",
       "default      object\n",
       "balance       int64\n",
       "housing      object\n",
       "loan         object\n",
       "contact      object\n",
       "day           int64\n",
       "month        object\n",
       "duration      int64\n",
       "campaign      int64\n",
       "pdays         int64\n",
       "previous      int64\n",
       "poutcome     object\n",
       "deposit      object\n",
       "dtype: object"
      ]
     },
     "metadata": {},
     "execution_count": 499
    }
   ]
  },
  {
   "cell_type": "markdown",
   "source": [
    "## <font color='green'>2. Разведочный анализ</font>\n",
    "\n",
    "\n",
    "\n"
   ],
   "metadata": {
    "id": "9u5kjESXjg-s",
    "pycharm": {
     "name": "#%% md\n"
    }
   }
  },
  {
   "cell_type": "markdown",
   "source": [
    "### Оценка качества данных\n",
    "* пропущенные значения\n",
    "* ошибочные значения"
   ],
   "metadata": {
    "id": "ORzwrTOrltqs",
    "pycharm": {
     "name": "#%% md\n"
    }
   }
  },
  {
   "cell_type": "code",
   "source": [
    "len(data)"
   ],
   "metadata": {
    "id": "NgePYC_PkkxM",
    "colab": {
     "base_uri": "https://localhost:8080/"
    },
    "outputId": "8bd2cf7e-9cd6-42fa-e90e-6d24858ea131",
    "pycharm": {
     "name": "#%%\n"
    }
   },
   "execution_count": 500,
   "outputs": [
    {
     "output_type": "execute_result",
     "data": {
      "text/plain": [
       "11162"
      ]
     },
     "metadata": {},
     "execution_count": 500
    }
   ]
  },
  {
   "cell_type": "markdown",
   "source": [
    "Посмотрим, есть ли в данных пропущенные значения."
   ],
   "metadata": {
    "id": "Eib6Vj3eUOWi",
    "pycharm": {
     "name": "#%% md\n"
    }
   }
  },
  {
   "cell_type": "code",
   "source": [
    "data.isna().sum()"
   ],
   "metadata": {
    "id": "rM92inoDURTx",
    "colab": {
     "base_uri": "https://localhost:8080/"
    },
    "outputId": "321858bc-4434-4f71-d93f-71db0fcd9758",
    "pycharm": {
     "name": "#%%\n"
    }
   },
   "execution_count": 501,
   "outputs": [
    {
     "output_type": "execute_result",
     "data": {
      "text/plain": [
       "age          0\n",
       "job          0\n",
       "marital      0\n",
       "education    0\n",
       "default      0\n",
       "balance      0\n",
       "housing      0\n",
       "loan         0\n",
       "contact      0\n",
       "day          0\n",
       "month        0\n",
       "duration     0\n",
       "campaign     0\n",
       "pdays        0\n",
       "previous     0\n",
       "poutcome     0\n",
       "deposit      0\n",
       "dtype: int64"
      ]
     },
     "metadata": {},
     "execution_count": 501
    }
   ]
  },
  {
   "cell_type": "markdown",
   "source": [
    "### Ошибочные значения"
   ],
   "metadata": {
    "id": "rzypjl5l3Q57",
    "pycharm": {
     "name": "#%% md\n"
    }
   }
  },
  {
   "cell_type": "markdown",
   "source": [
    "Проверка значений столбцов"
   ],
   "metadata": {
    "id": "ebpU4gvGCcYe",
    "pycharm": {
     "name": "#%% md\n"
    }
   }
  },
  {
   "cell_type": "code",
   "source": [
    "data['age'].value_counts()"
   ],
   "metadata": {
    "id": "pNb1Br9I1CMz",
    "colab": {
     "base_uri": "https://localhost:8080/"
    },
    "outputId": "e0124496-7018-472e-a8fb-4e8b5799870a",
    "pycharm": {
     "name": "#%%\n"
    }
   },
   "execution_count": 502,
   "outputs": [
    {
     "output_type": "execute_result",
     "data": {
      "text/plain": [
       "31    496\n",
       "32    477\n",
       "34    466\n",
       "33    464\n",
       "35    461\n",
       "     ... \n",
       "92      2\n",
       "93      2\n",
       "88      2\n",
       "95      1\n",
       "89      1\n",
       "Name: age, Length: 76, dtype: int64"
      ]
     },
     "metadata": {},
     "execution_count": 502
    }
   ]
  },
  {
   "cell_type": "code",
   "source": [
    "data['job'].value_counts()"
   ],
   "metadata": {
    "colab": {
     "base_uri": "https://localhost:8080/"
    },
    "id": "1MRuTZZnqHuc",
    "outputId": "f92ec7d0-13a3-4e35-da55-d5198688fe9e",
    "pycharm": {
     "name": "#%%\n"
    }
   },
   "execution_count": 503,
   "outputs": [
    {
     "output_type": "execute_result",
     "data": {
      "text/plain": [
       "management       2566\n",
       "blue-collar      1944\n",
       "technician       1823\n",
       "admin.           1334\n",
       "services          923\n",
       "retired           778\n",
       "self-employed     405\n",
       "student           360\n",
       "unemployed        357\n",
       "entrepreneur      328\n",
       "housemaid         274\n",
       "unknown            70\n",
       "Name: job, dtype: int64"
      ]
     },
     "metadata": {},
     "execution_count": 503
    }
   ]
  },
  {
   "cell_type": "code",
   "source": [
    "data['marital'].value_counts()"
   ],
   "metadata": {
    "colab": {
     "base_uri": "https://localhost:8080/"
    },
    "id": "zb2nHpUxqhrw",
    "outputId": "34840ed5-9c33-4e4f-b0d5-b31630cdaa24",
    "pycharm": {
     "name": "#%%\n"
    }
   },
   "execution_count": 504,
   "outputs": [
    {
     "output_type": "execute_result",
     "data": {
      "text/plain": [
       "married     6351\n",
       "single      3518\n",
       "divorced    1293\n",
       "Name: marital, dtype: int64"
      ]
     },
     "metadata": {},
     "execution_count": 504
    }
   ]
  },
  {
   "cell_type": "code",
   "source": [
    "data['education'].value_counts()"
   ],
   "metadata": {
    "colab": {
     "base_uri": "https://localhost:8080/"
    },
    "id": "jo03qG3PqoTu",
    "outputId": "d0a6e21b-7fcc-41ef-88d8-1fb792b7ee83",
    "pycharm": {
     "name": "#%%\n"
    }
   },
   "execution_count": 505,
   "outputs": [
    {
     "output_type": "execute_result",
     "data": {
      "text/plain": [
       "secondary    5476\n",
       "tertiary     3689\n",
       "primary      1500\n",
       "unknown       497\n",
       "Name: education, dtype: int64"
      ]
     },
     "metadata": {},
     "execution_count": 505
    }
   ]
  },
  {
   "cell_type": "code",
   "source": [
    "data['default'].value_counts()"
   ],
   "metadata": {
    "colab": {
     "base_uri": "https://localhost:8080/"
    },
    "id": "Nq4TDPb0rJ8H",
    "outputId": "4c663343-028c-4343-ba7e-6c7c5d752a16",
    "pycharm": {
     "name": "#%%\n"
    }
   },
   "execution_count": 506,
   "outputs": [
    {
     "output_type": "execute_result",
     "data": {
      "text/plain": [
       "no     10994\n",
       "yes      168\n",
       "Name: default, dtype: int64"
      ]
     },
     "metadata": {},
     "execution_count": 506
    }
   ]
  },
  {
   "cell_type": "code",
   "source": [
    "data['balance'].value_counts()"
   ],
   "metadata": {
    "colab": {
     "base_uri": "https://localhost:8080/"
    },
    "id": "WNyGWk8ArT6_",
    "outputId": "a0f8f259-6d5e-4484-e44f-126f75e385fb",
    "pycharm": {
     "name": "#%%\n"
    }
   },
   "execution_count": 507,
   "outputs": [
    {
     "output_type": "execute_result",
     "data": {
      "text/plain": [
       " 0       774\n",
       " 1        39\n",
       " 3        35\n",
       " 2        34\n",
       " 4        29\n",
       "        ... \n",
       " 5517      1\n",
       " 8332      1\n",
       " 4859      1\n",
       "-267       1\n",
       "-134       1\n",
       "Name: balance, Length: 3805, dtype: int64"
      ]
     },
     "metadata": {},
     "execution_count": 507
    }
   ]
  },
  {
   "cell_type": "code",
   "source": [
    "data['housing'].value_counts()"
   ],
   "metadata": {
    "colab": {
     "base_uri": "https://localhost:8080/"
    },
    "id": "-Tho1c_dtLvv",
    "outputId": "b18d34b1-99ad-4d57-a59d-964b44821e96",
    "pycharm": {
     "name": "#%%\n"
    }
   },
   "execution_count": 508,
   "outputs": [
    {
     "output_type": "execute_result",
     "data": {
      "text/plain": [
       "no     5881\n",
       "yes    5281\n",
       "Name: housing, dtype: int64"
      ]
     },
     "metadata": {},
     "execution_count": 508
    }
   ]
  },
  {
   "cell_type": "code",
   "source": [
    "data['loan'].value_counts()"
   ],
   "metadata": {
    "colab": {
     "base_uri": "https://localhost:8080/"
    },
    "id": "ZRr3entmtSQg",
    "outputId": "4461ea61-d2d3-4bc4-a463-877392eebefa",
    "pycharm": {
     "name": "#%%\n"
    }
   },
   "execution_count": 509,
   "outputs": [
    {
     "output_type": "execute_result",
     "data": {
      "text/plain": [
       "no     9702\n",
       "yes    1460\n",
       "Name: loan, dtype: int64"
      ]
     },
     "metadata": {},
     "execution_count": 509
    }
   ]
  },
  {
   "cell_type": "code",
   "source": [
    "data['contact'].value_counts()"
   ],
   "metadata": {
    "colab": {
     "base_uri": "https://localhost:8080/"
    },
    "id": "AaPFzm8auagh",
    "outputId": "22f2cf8a-460c-4c1a-cc94-ad7585b3b442",
    "pycharm": {
     "name": "#%%\n"
    }
   },
   "execution_count": 510,
   "outputs": [
    {
     "output_type": "execute_result",
     "data": {
      "text/plain": [
       "cellular     8042\n",
       "unknown      2346\n",
       "telephone     774\n",
       "Name: contact, dtype: int64"
      ]
     },
     "metadata": {},
     "execution_count": 510
    }
   ]
  },
  {
   "cell_type": "code",
   "source": [
    "data['day'].value_counts() "
   ],
   "metadata": {
    "colab": {
     "base_uri": "https://localhost:8080/"
    },
    "id": "qznMLX6RuqKE",
    "outputId": "0b4f4f3b-1997-46c0-ee60-572ff8fbdcf9",
    "pycharm": {
     "name": "#%%\n"
    }
   },
   "execution_count": 511,
   "outputs": [
    {
     "output_type": "execute_result",
     "data": {
      "text/plain": [
       "20    570\n",
       "18    548\n",
       "30    478\n",
       "5     477\n",
       "15    466\n",
       "14    463\n",
       "13    453\n",
       "21    452\n",
       "6     447\n",
       "12    445\n",
       "8     419\n",
       "17    411\n",
       "28    410\n",
       "4     402\n",
       "29    388\n",
       "19    384\n",
       "7     382\n",
       "11    373\n",
       "16    369\n",
       "9     364\n",
       "2     334\n",
       "3     306\n",
       "27    284\n",
       "22    269\n",
       "26    252\n",
       "23    245\n",
       "25    224\n",
       "10    163\n",
       "31    140\n",
       "24    122\n",
       "1     122\n",
       "Name: day, dtype: int64"
      ]
     },
     "metadata": {},
     "execution_count": 511
    }
   ]
  },
  {
   "cell_type": "code",
   "source": [
    "data['day'] = data['day'].astype('object')"
   ],
   "metadata": {
    "id": "WSA0bBJUhwwf",
    "pycharm": {
     "name": "#%%\n"
    }
   },
   "execution_count": 512,
   "outputs": []
  },
  {
   "cell_type": "code",
   "source": [
    "data['month'].value_counts() "
   ],
   "metadata": {
    "colab": {
     "base_uri": "https://localhost:8080/"
    },
    "id": "CT135YRGuwuY",
    "outputId": "f5417c94-e732-4e0f-e7d2-edd0ed9f31e0",
    "pycharm": {
     "name": "#%%\n"
    }
   },
   "execution_count": 513,
   "outputs": [
    {
     "output_type": "execute_result",
     "data": {
      "text/plain": [
       "may    2824\n",
       "aug    1519\n",
       "jul    1514\n",
       "jun    1222\n",
       "nov     943\n",
       "apr     923\n",
       "feb     776\n",
       "oct     392\n",
       "jan     344\n",
       "sep     319\n",
       "mar     276\n",
       "dec     110\n",
       "Name: month, dtype: int64"
      ]
     },
     "metadata": {},
     "execution_count": 513
    }
   ]
  },
  {
   "cell_type": "code",
   "source": [
    "data['duration'].value_counts() "
   ],
   "metadata": {
    "colab": {
     "base_uri": "https://localhost:8080/"
    },
    "id": "z4QQ4uD8u2y7",
    "outputId": "02bc6d79-4808-49d4-9ed7-c44ff58fd9bb",
    "pycharm": {
     "name": "#%%\n"
    }
   },
   "execution_count": 514,
   "outputs": [
    {
     "output_type": "execute_result",
     "data": {
      "text/plain": [
       "97      39\n",
       "161     38\n",
       "158     37\n",
       "119     37\n",
       "150     37\n",
       "        ..\n",
       "915      1\n",
       "2029     1\n",
       "1499     1\n",
       "1399     1\n",
       "1812     1\n",
       "Name: duration, Length: 1428, dtype: int64"
      ]
     },
     "metadata": {},
     "execution_count": 514
    }
   ]
  },
  {
   "cell_type": "code",
   "source": [
    "data['campaign'].value_counts() "
   ],
   "metadata": {
    "colab": {
     "base_uri": "https://localhost:8080/"
    },
    "id": "IPS8GRs4u-LD",
    "outputId": "a8550171-5027-4dfd-f768-1bb942e7d34d",
    "pycharm": {
     "name": "#%%\n"
    }
   },
   "execution_count": 515,
   "outputs": [
    {
     "output_type": "execute_result",
     "data": {
      "text/plain": [
       "1     4798\n",
       "2     3028\n",
       "3     1321\n",
       "4      771\n",
       "5      378\n",
       "6      265\n",
       "7      139\n",
       "8      128\n",
       "9       72\n",
       "10      52\n",
       "11      40\n",
       "13      30\n",
       "12      29\n",
       "14      15\n",
       "17      14\n",
       "15      13\n",
       "16       9\n",
       "18       8\n",
       "21       8\n",
       "20       5\n",
       "19       5\n",
       "24       5\n",
       "22       4\n",
       "30       4\n",
       "23       3\n",
       "25       3\n",
       "26       3\n",
       "32       2\n",
       "43       2\n",
       "29       2\n",
       "33       1\n",
       "28       1\n",
       "41       1\n",
       "27       1\n",
       "63       1\n",
       "31       1\n",
       "Name: campaign, dtype: int64"
      ]
     },
     "metadata": {},
     "execution_count": 515
    }
   ]
  },
  {
   "cell_type": "code",
   "source": [
    "data['pdays'].value_counts()"
   ],
   "metadata": {
    "colab": {
     "base_uri": "https://localhost:8080/"
    },
    "id": "9iJXP5dLvFwe",
    "outputId": "8cc6b451-d60d-4b99-a9ec-717e047bb768",
    "pycharm": {
     "name": "#%%\n"
    }
   },
   "execution_count": 516,
   "outputs": [
    {
     "output_type": "execute_result",
     "data": {
      "text/plain": [
       "-1      8324\n",
       " 92      106\n",
       " 182      89\n",
       " 91       84\n",
       " 181      81\n",
       "        ... \n",
       " 437       1\n",
       " 728       1\n",
       " 518       1\n",
       " 828       1\n",
       " 118       1\n",
       "Name: pdays, Length: 472, dtype: int64"
      ]
     },
     "metadata": {},
     "execution_count": 516
    }
   ]
  },
  {
   "cell_type": "code",
   "source": [
    "data['previous'].value_counts()"
   ],
   "metadata": {
    "colab": {
     "base_uri": "https://localhost:8080/"
    },
    "id": "pPHtIUtPvTtn",
    "outputId": "6cad084e-e4f1-433e-a319-2dbd3e18001d",
    "pycharm": {
     "name": "#%%\n"
    }
   },
   "execution_count": 517,
   "outputs": [
    {
     "output_type": "execute_result",
     "data": {
      "text/plain": [
       "0     8324\n",
       "1      887\n",
       "2      693\n",
       "3      435\n",
       "4      244\n",
       "5      165\n",
       "6      117\n",
       "7       77\n",
       "8       60\n",
       "9       34\n",
       "10      30\n",
       "11      23\n",
       "12      16\n",
       "13      11\n",
       "17      11\n",
       "14       6\n",
       "15       5\n",
       "19       4\n",
       "16       2\n",
       "20       2\n",
       "27       2\n",
       "23       2\n",
       "40       1\n",
       "41       1\n",
       "28       1\n",
       "18       1\n",
       "58       1\n",
       "55       1\n",
       "26       1\n",
       "21       1\n",
       "22       1\n",
       "30       1\n",
       "29       1\n",
       "37       1\n",
       "Name: previous, dtype: int64"
      ]
     },
     "metadata": {},
     "execution_count": 517
    }
   ]
  },
  {
   "cell_type": "code",
   "source": [
    "data['poutcome'].value_counts()"
   ],
   "metadata": {
    "colab": {
     "base_uri": "https://localhost:8080/"
    },
    "id": "iCeqwP3nvahX",
    "outputId": "2a0ef698-d65f-40da-b211-8d7d180576d5",
    "pycharm": {
     "name": "#%%\n"
    }
   },
   "execution_count": 518,
   "outputs": [
    {
     "output_type": "execute_result",
     "data": {
      "text/plain": [
       "unknown    8326\n",
       "failure    1228\n",
       "success    1071\n",
       "other       537\n",
       "Name: poutcome, dtype: int64"
      ]
     },
     "metadata": {},
     "execution_count": 518
    }
   ]
  },
  {
   "cell_type": "code",
   "source": [
    "data['deposit'].value_counts()"
   ],
   "metadata": {
    "colab": {
     "base_uri": "https://localhost:8080/"
    },
    "id": "VWjZYA4_vngr",
    "outputId": "fa054b70-93e1-46cf-f1b0-39faa3df7562",
    "pycharm": {
     "name": "#%%\n"
    }
   },
   "execution_count": 519,
   "outputs": [
    {
     "output_type": "execute_result",
     "data": {
      "text/plain": [
       "no     5873\n",
       "yes    5289\n",
       "Name: deposit, dtype: int64"
      ]
     },
     "metadata": {},
     "execution_count": 519
    }
   ]
  },
  {
   "cell_type": "code",
   "source": [
    "data['deposit'] = data['deposit'].replace('no', '')\n",
    "data['deposit'] = data['deposit'].replace('yes', '1')"
   ],
   "metadata": {
    "id": "19iZavm2yDdY",
    "pycharm": {
     "name": "#%%\n"
    }
   },
   "execution_count": 520,
   "outputs": []
  },
  {
   "cell_type": "code",
   "source": [
    "data['deposit'] = data['deposit'].astype('bool')"
   ],
   "metadata": {
    "id": "pL8OV1De0iOL",
    "pycharm": {
     "name": "#%%\n"
    }
   },
   "execution_count": 521,
   "outputs": []
  },
  {
   "cell_type": "code",
   "source": [
    "data['deposit'].value_counts()"
   ],
   "metadata": {
    "colab": {
     "base_uri": "https://localhost:8080/"
    },
    "id": "t49QguGrb9cn",
    "outputId": "ecd84581-06fa-4c72-9b66-cd9895008162",
    "pycharm": {
     "name": "#%%\n"
    }
   },
   "execution_count": 522,
   "outputs": [
    {
     "output_type": "execute_result",
     "data": {
      "text/plain": [
       "False    5873\n",
       "True     5289\n",
       "Name: deposit, dtype: int64"
      ]
     },
     "metadata": {},
     "execution_count": 522
    }
   ]
  },
  {
   "cell_type": "code",
   "source": [
    "data.dtypes"
   ],
   "metadata": {
    "colab": {
     "base_uri": "https://localhost:8080/"
    },
    "id": "BASiWivQySId",
    "outputId": "91282905-2f7b-47af-c2c5-af3c3664b2c5",
    "pycharm": {
     "name": "#%%\n"
    }
   },
   "execution_count": 523,
   "outputs": [
    {
     "output_type": "execute_result",
     "data": {
      "text/plain": [
       "age           int64\n",
       "job          object\n",
       "marital      object\n",
       "education    object\n",
       "default      object\n",
       "balance       int64\n",
       "housing      object\n",
       "loan         object\n",
       "contact      object\n",
       "day          object\n",
       "month        object\n",
       "duration      int64\n",
       "campaign      int64\n",
       "pdays         int64\n",
       "previous      int64\n",
       "poutcome     object\n",
       "deposit        bool\n",
       "dtype: object"
      ]
     },
     "metadata": {},
     "execution_count": 523
    }
   ]
  },
  {
   "cell_type": "markdown",
   "source": [
    "### Основные числовые характеристики"
   ],
   "metadata": {
    "id": "2nouWWLZl6oA",
    "pycharm": {
     "name": "#%% md\n"
    }
   }
  },
  {
   "cell_type": "code",
   "source": [
    "data['deposit'].value_counts()"
   ],
   "metadata": {
    "id": "EuBlDOeX5JM5",
    "colab": {
     "base_uri": "https://localhost:8080/"
    },
    "outputId": "7375f3bd-1335-4bab-f33c-98afd49067fe",
    "pycharm": {
     "name": "#%%\n"
    }
   },
   "execution_count": 524,
   "outputs": [
    {
     "output_type": "execute_result",
     "data": {
      "text/plain": [
       "False    5873\n",
       "True     5289\n",
       "Name: deposit, dtype: int64"
      ]
     },
     "metadata": {},
     "execution_count": 524
    }
   ]
  },
  {
   "cell_type": "code",
   "source": [
    "data.describe()"
   ],
   "metadata": {
    "id": "B5qadSUDl-vu",
    "colab": {
     "base_uri": "https://localhost:8080/",
     "height": 300
    },
    "outputId": "21f0a905-0acd-44bb-f42f-a508eadb8307",
    "pycharm": {
     "name": "#%%\n"
    }
   },
   "execution_count": 525,
   "outputs": [
    {
     "output_type": "execute_result",
     "data": {
      "text/plain": [
       "                age       balance      duration      campaign         pdays  \\\n",
       "count  11162.000000  11162.000000  11162.000000  11162.000000  11162.000000   \n",
       "mean      41.231948   1528.538524    371.993818      2.508421     51.330407   \n",
       "std       11.913369   3225.413326    347.128386      2.722077    108.758282   \n",
       "min       18.000000  -6847.000000      2.000000      1.000000     -1.000000   \n",
       "25%       32.000000    122.000000    138.000000      1.000000     -1.000000   \n",
       "50%       39.000000    550.000000    255.000000      2.000000     -1.000000   \n",
       "75%       49.000000   1708.000000    496.000000      3.000000     20.750000   \n",
       "max       95.000000  81204.000000   3881.000000     63.000000    854.000000   \n",
       "\n",
       "           previous  \n",
       "count  11162.000000  \n",
       "mean       0.832557  \n",
       "std        2.292007  \n",
       "min        0.000000  \n",
       "25%        0.000000  \n",
       "50%        0.000000  \n",
       "75%        1.000000  \n",
       "max       58.000000  "
      ],
      "text/html": [
       "\n",
       "  <div id=\"df-7f381ea2-41e9-4d42-a97a-504d3952172b\">\n",
       "    <div class=\"colab-df-container\">\n",
       "      <div>\n",
       "<style scoped>\n",
       "    .dataframe tbody tr th:only-of-type {\n",
       "        vertical-align: middle;\n",
       "    }\n",
       "\n",
       "    .dataframe tbody tr th {\n",
       "        vertical-align: top;\n",
       "    }\n",
       "\n",
       "    .dataframe thead th {\n",
       "        text-align: right;\n",
       "    }\n",
       "</style>\n",
       "<table border=\"1\" class=\"dataframe\">\n",
       "  <thead>\n",
       "    <tr style=\"text-align: right;\">\n",
       "      <th></th>\n",
       "      <th>age</th>\n",
       "      <th>balance</th>\n",
       "      <th>duration</th>\n",
       "      <th>campaign</th>\n",
       "      <th>pdays</th>\n",
       "      <th>previous</th>\n",
       "    </tr>\n",
       "  </thead>\n",
       "  <tbody>\n",
       "    <tr>\n",
       "      <th>count</th>\n",
       "      <td>11162.000000</td>\n",
       "      <td>11162.000000</td>\n",
       "      <td>11162.000000</td>\n",
       "      <td>11162.000000</td>\n",
       "      <td>11162.000000</td>\n",
       "      <td>11162.000000</td>\n",
       "    </tr>\n",
       "    <tr>\n",
       "      <th>mean</th>\n",
       "      <td>41.231948</td>\n",
       "      <td>1528.538524</td>\n",
       "      <td>371.993818</td>\n",
       "      <td>2.508421</td>\n",
       "      <td>51.330407</td>\n",
       "      <td>0.832557</td>\n",
       "    </tr>\n",
       "    <tr>\n",
       "      <th>std</th>\n",
       "      <td>11.913369</td>\n",
       "      <td>3225.413326</td>\n",
       "      <td>347.128386</td>\n",
       "      <td>2.722077</td>\n",
       "      <td>108.758282</td>\n",
       "      <td>2.292007</td>\n",
       "    </tr>\n",
       "    <tr>\n",
       "      <th>min</th>\n",
       "      <td>18.000000</td>\n",
       "      <td>-6847.000000</td>\n",
       "      <td>2.000000</td>\n",
       "      <td>1.000000</td>\n",
       "      <td>-1.000000</td>\n",
       "      <td>0.000000</td>\n",
       "    </tr>\n",
       "    <tr>\n",
       "      <th>25%</th>\n",
       "      <td>32.000000</td>\n",
       "      <td>122.000000</td>\n",
       "      <td>138.000000</td>\n",
       "      <td>1.000000</td>\n",
       "      <td>-1.000000</td>\n",
       "      <td>0.000000</td>\n",
       "    </tr>\n",
       "    <tr>\n",
       "      <th>50%</th>\n",
       "      <td>39.000000</td>\n",
       "      <td>550.000000</td>\n",
       "      <td>255.000000</td>\n",
       "      <td>2.000000</td>\n",
       "      <td>-1.000000</td>\n",
       "      <td>0.000000</td>\n",
       "    </tr>\n",
       "    <tr>\n",
       "      <th>75%</th>\n",
       "      <td>49.000000</td>\n",
       "      <td>1708.000000</td>\n",
       "      <td>496.000000</td>\n",
       "      <td>3.000000</td>\n",
       "      <td>20.750000</td>\n",
       "      <td>1.000000</td>\n",
       "    </tr>\n",
       "    <tr>\n",
       "      <th>max</th>\n",
       "      <td>95.000000</td>\n",
       "      <td>81204.000000</td>\n",
       "      <td>3881.000000</td>\n",
       "      <td>63.000000</td>\n",
       "      <td>854.000000</td>\n",
       "      <td>58.000000</td>\n",
       "    </tr>\n",
       "  </tbody>\n",
       "</table>\n",
       "</div>\n",
       "      <button class=\"colab-df-convert\" onclick=\"convertToInteractive('df-7f381ea2-41e9-4d42-a97a-504d3952172b')\"\n",
       "              title=\"Convert this dataframe to an interactive table.\"\n",
       "              style=\"display:none;\">\n",
       "        \n",
       "  <svg xmlns=\"http://www.w3.org/2000/svg\" height=\"24px\"viewBox=\"0 0 24 24\"\n",
       "       width=\"24px\">\n",
       "    <path d=\"M0 0h24v24H0V0z\" fill=\"none\"/>\n",
       "    <path d=\"M18.56 5.44l.94 2.06.94-2.06 2.06-.94-2.06-.94-.94-2.06-.94 2.06-2.06.94zm-11 1L8.5 8.5l.94-2.06 2.06-.94-2.06-.94L8.5 2.5l-.94 2.06-2.06.94zm10 10l.94 2.06.94-2.06 2.06-.94-2.06-.94-.94-2.06-.94 2.06-2.06.94z\"/><path d=\"M17.41 7.96l-1.37-1.37c-.4-.4-.92-.59-1.43-.59-.52 0-1.04.2-1.43.59L10.3 9.45l-7.72 7.72c-.78.78-.78 2.05 0 2.83L4 21.41c.39.39.9.59 1.41.59.51 0 1.02-.2 1.41-.59l7.78-7.78 2.81-2.81c.8-.78.8-2.07 0-2.86zM5.41 20L4 18.59l7.72-7.72 1.47 1.35L5.41 20z\"/>\n",
       "  </svg>\n",
       "      </button>\n",
       "      \n",
       "  <style>\n",
       "    .colab-df-container {\n",
       "      display:flex;\n",
       "      flex-wrap:wrap;\n",
       "      gap: 12px;\n",
       "    }\n",
       "\n",
       "    .colab-df-convert {\n",
       "      background-color: #E8F0FE;\n",
       "      border: none;\n",
       "      border-radius: 50%;\n",
       "      cursor: pointer;\n",
       "      display: none;\n",
       "      fill: #1967D2;\n",
       "      height: 32px;\n",
       "      padding: 0 0 0 0;\n",
       "      width: 32px;\n",
       "    }\n",
       "\n",
       "    .colab-df-convert:hover {\n",
       "      background-color: #E2EBFA;\n",
       "      box-shadow: 0px 1px 2px rgba(60, 64, 67, 0.3), 0px 1px 3px 1px rgba(60, 64, 67, 0.15);\n",
       "      fill: #174EA6;\n",
       "    }\n",
       "\n",
       "    [theme=dark] .colab-df-convert {\n",
       "      background-color: #3B4455;\n",
       "      fill: #D2E3FC;\n",
       "    }\n",
       "\n",
       "    [theme=dark] .colab-df-convert:hover {\n",
       "      background-color: #434B5C;\n",
       "      box-shadow: 0px 1px 3px 1px rgba(0, 0, 0, 0.15);\n",
       "      filter: drop-shadow(0px 1px 2px rgba(0, 0, 0, 0.3));\n",
       "      fill: #FFFFFF;\n",
       "    }\n",
       "  </style>\n",
       "\n",
       "      <script>\n",
       "        const buttonEl =\n",
       "          document.querySelector('#df-7f381ea2-41e9-4d42-a97a-504d3952172b button.colab-df-convert');\n",
       "        buttonEl.style.display =\n",
       "          google.colab.kernel.accessAllowed ? 'block' : 'none';\n",
       "\n",
       "        async function convertToInteractive(key) {\n",
       "          const element = document.querySelector('#df-7f381ea2-41e9-4d42-a97a-504d3952172b');\n",
       "          const dataTable =\n",
       "            await google.colab.kernel.invokeFunction('convertToInteractive',\n",
       "                                                     [key], {});\n",
       "          if (!dataTable) return;\n",
       "\n",
       "          const docLinkHtml = 'Like what you see? Visit the ' +\n",
       "            '<a target=\"_blank\" href=https://colab.research.google.com/notebooks/data_table.ipynb>data table notebook</a>'\n",
       "            + ' to learn more about interactive tables.';\n",
       "          element.innerHTML = '';\n",
       "          dataTable['output_type'] = 'display_data';\n",
       "          await google.colab.output.renderOutput(dataTable, element);\n",
       "          const docLink = document.createElement('div');\n",
       "          docLink.innerHTML = docLinkHtml;\n",
       "          element.appendChild(docLink);\n",
       "        }\n",
       "      </script>\n",
       "    </div>\n",
       "  </div>\n",
       "  "
      ]
     },
     "metadata": {},
     "execution_count": 525
    }
   ]
  },
  {
   "cell_type": "code",
   "source": [
    "data.describe(include='object') # категориальные колонки"
   ],
   "metadata": {
    "id": "oQYBiBdQxzqU",
    "colab": {
     "base_uri": "https://localhost:8080/",
     "height": 175
    },
    "outputId": "6460d19d-f456-4a8e-f22b-355da0b044a6",
    "pycharm": {
     "name": "#%%\n"
    }
   },
   "execution_count": 526,
   "outputs": [
    {
     "output_type": "execute_result",
     "data": {
      "text/plain": [
       "               job  marital  education default housing   loan   contact  \\\n",
       "count        11162    11162      11162   11162   11162  11162     11162   \n",
       "unique          12        3          4       2       2      2         3   \n",
       "top     management  married  secondary      no      no     no  cellular   \n",
       "freq          2566     6351       5476   10994    5881   9702      8042   \n",
       "\n",
       "          day  month poutcome  \n",
       "count   11162  11162    11162  \n",
       "unique     31     12        4  \n",
       "top        20    may  unknown  \n",
       "freq      570   2824     8326  "
      ],
      "text/html": [
       "\n",
       "  <div id=\"df-78b423d9-9ce2-4561-a490-93b54f6039c8\">\n",
       "    <div class=\"colab-df-container\">\n",
       "      <div>\n",
       "<style scoped>\n",
       "    .dataframe tbody tr th:only-of-type {\n",
       "        vertical-align: middle;\n",
       "    }\n",
       "\n",
       "    .dataframe tbody tr th {\n",
       "        vertical-align: top;\n",
       "    }\n",
       "\n",
       "    .dataframe thead th {\n",
       "        text-align: right;\n",
       "    }\n",
       "</style>\n",
       "<table border=\"1\" class=\"dataframe\">\n",
       "  <thead>\n",
       "    <tr style=\"text-align: right;\">\n",
       "      <th></th>\n",
       "      <th>job</th>\n",
       "      <th>marital</th>\n",
       "      <th>education</th>\n",
       "      <th>default</th>\n",
       "      <th>housing</th>\n",
       "      <th>loan</th>\n",
       "      <th>contact</th>\n",
       "      <th>day</th>\n",
       "      <th>month</th>\n",
       "      <th>poutcome</th>\n",
       "    </tr>\n",
       "  </thead>\n",
       "  <tbody>\n",
       "    <tr>\n",
       "      <th>count</th>\n",
       "      <td>11162</td>\n",
       "      <td>11162</td>\n",
       "      <td>11162</td>\n",
       "      <td>11162</td>\n",
       "      <td>11162</td>\n",
       "      <td>11162</td>\n",
       "      <td>11162</td>\n",
       "      <td>11162</td>\n",
       "      <td>11162</td>\n",
       "      <td>11162</td>\n",
       "    </tr>\n",
       "    <tr>\n",
       "      <th>unique</th>\n",
       "      <td>12</td>\n",
       "      <td>3</td>\n",
       "      <td>4</td>\n",
       "      <td>2</td>\n",
       "      <td>2</td>\n",
       "      <td>2</td>\n",
       "      <td>3</td>\n",
       "      <td>31</td>\n",
       "      <td>12</td>\n",
       "      <td>4</td>\n",
       "    </tr>\n",
       "    <tr>\n",
       "      <th>top</th>\n",
       "      <td>management</td>\n",
       "      <td>married</td>\n",
       "      <td>secondary</td>\n",
       "      <td>no</td>\n",
       "      <td>no</td>\n",
       "      <td>no</td>\n",
       "      <td>cellular</td>\n",
       "      <td>20</td>\n",
       "      <td>may</td>\n",
       "      <td>unknown</td>\n",
       "    </tr>\n",
       "    <tr>\n",
       "      <th>freq</th>\n",
       "      <td>2566</td>\n",
       "      <td>6351</td>\n",
       "      <td>5476</td>\n",
       "      <td>10994</td>\n",
       "      <td>5881</td>\n",
       "      <td>9702</td>\n",
       "      <td>8042</td>\n",
       "      <td>570</td>\n",
       "      <td>2824</td>\n",
       "      <td>8326</td>\n",
       "    </tr>\n",
       "  </tbody>\n",
       "</table>\n",
       "</div>\n",
       "      <button class=\"colab-df-convert\" onclick=\"convertToInteractive('df-78b423d9-9ce2-4561-a490-93b54f6039c8')\"\n",
       "              title=\"Convert this dataframe to an interactive table.\"\n",
       "              style=\"display:none;\">\n",
       "        \n",
       "  <svg xmlns=\"http://www.w3.org/2000/svg\" height=\"24px\"viewBox=\"0 0 24 24\"\n",
       "       width=\"24px\">\n",
       "    <path d=\"M0 0h24v24H0V0z\" fill=\"none\"/>\n",
       "    <path d=\"M18.56 5.44l.94 2.06.94-2.06 2.06-.94-2.06-.94-.94-2.06-.94 2.06-2.06.94zm-11 1L8.5 8.5l.94-2.06 2.06-.94-2.06-.94L8.5 2.5l-.94 2.06-2.06.94zm10 10l.94 2.06.94-2.06 2.06-.94-2.06-.94-.94-2.06-.94 2.06-2.06.94z\"/><path d=\"M17.41 7.96l-1.37-1.37c-.4-.4-.92-.59-1.43-.59-.52 0-1.04.2-1.43.59L10.3 9.45l-7.72 7.72c-.78.78-.78 2.05 0 2.83L4 21.41c.39.39.9.59 1.41.59.51 0 1.02-.2 1.41-.59l7.78-7.78 2.81-2.81c.8-.78.8-2.07 0-2.86zM5.41 20L4 18.59l7.72-7.72 1.47 1.35L5.41 20z\"/>\n",
       "  </svg>\n",
       "      </button>\n",
       "      \n",
       "  <style>\n",
       "    .colab-df-container {\n",
       "      display:flex;\n",
       "      flex-wrap:wrap;\n",
       "      gap: 12px;\n",
       "    }\n",
       "\n",
       "    .colab-df-convert {\n",
       "      background-color: #E8F0FE;\n",
       "      border: none;\n",
       "      border-radius: 50%;\n",
       "      cursor: pointer;\n",
       "      display: none;\n",
       "      fill: #1967D2;\n",
       "      height: 32px;\n",
       "      padding: 0 0 0 0;\n",
       "      width: 32px;\n",
       "    }\n",
       "\n",
       "    .colab-df-convert:hover {\n",
       "      background-color: #E2EBFA;\n",
       "      box-shadow: 0px 1px 2px rgba(60, 64, 67, 0.3), 0px 1px 3px 1px rgba(60, 64, 67, 0.15);\n",
       "      fill: #174EA6;\n",
       "    }\n",
       "\n",
       "    [theme=dark] .colab-df-convert {\n",
       "      background-color: #3B4455;\n",
       "      fill: #D2E3FC;\n",
       "    }\n",
       "\n",
       "    [theme=dark] .colab-df-convert:hover {\n",
       "      background-color: #434B5C;\n",
       "      box-shadow: 0px 1px 3px 1px rgba(0, 0, 0, 0.15);\n",
       "      filter: drop-shadow(0px 1px 2px rgba(0, 0, 0, 0.3));\n",
       "      fill: #FFFFFF;\n",
       "    }\n",
       "  </style>\n",
       "\n",
       "      <script>\n",
       "        const buttonEl =\n",
       "          document.querySelector('#df-78b423d9-9ce2-4561-a490-93b54f6039c8 button.colab-df-convert');\n",
       "        buttonEl.style.display =\n",
       "          google.colab.kernel.accessAllowed ? 'block' : 'none';\n",
       "\n",
       "        async function convertToInteractive(key) {\n",
       "          const element = document.querySelector('#df-78b423d9-9ce2-4561-a490-93b54f6039c8');\n",
       "          const dataTable =\n",
       "            await google.colab.kernel.invokeFunction('convertToInteractive',\n",
       "                                                     [key], {});\n",
       "          if (!dataTable) return;\n",
       "\n",
       "          const docLinkHtml = 'Like what you see? Visit the ' +\n",
       "            '<a target=\"_blank\" href=https://colab.research.google.com/notebooks/data_table.ipynb>data table notebook</a>'\n",
       "            + ' to learn more about interactive tables.';\n",
       "          element.innerHTML = '';\n",
       "          dataTable['output_type'] = 'display_data';\n",
       "          await google.colab.output.renderOutput(dataTable, element);\n",
       "          const docLink = document.createElement('div');\n",
       "          docLink.innerHTML = docLinkHtml;\n",
       "          element.appendChild(docLink);\n",
       "        }\n",
       "      </script>\n",
       "    </div>\n",
       "  </div>\n",
       "  "
      ]
     },
     "metadata": {},
     "execution_count": 526
    }
   ]
  },
  {
   "cell_type": "code",
   "source": [
    "corr = data.corr()\n",
    "corr.style.background_gradient(cmap='coolwarm')"
   ],
   "metadata": {
    "id": "ba6wxZGjx50Y",
    "colab": {
     "base_uri": "https://localhost:8080/",
     "height": 269
    },
    "outputId": "f20dc0eb-317b-4a60-bceb-272c1354afa1",
    "pycharm": {
     "name": "#%%\n"
    }
   },
   "execution_count": 527,
   "outputs": [
    {
     "output_type": "execute_result",
     "data": {
      "text/plain": [
       "<pandas.io.formats.style.Styler at 0x7f8999388700>"
      ],
      "text/html": [
       "<style type=\"text/css\">\n",
       "#T_4b780_row0_col0, #T_4b780_row1_col1, #T_4b780_row2_col2, #T_4b780_row3_col3, #T_4b780_row4_col4, #T_4b780_row5_col5, #T_4b780_row6_col6 {\n",
       "  background-color: #b40426;\n",
       "  color: #f1f1f1;\n",
       "}\n",
       "#T_4b780_row0_col1 {\n",
       "  background-color: #6180e9;\n",
       "  color: #f1f1f1;\n",
       "}\n",
       "#T_4b780_row0_col2, #T_4b780_row6_col0 {\n",
       "  background-color: #465ecf;\n",
       "  color: #f1f1f1;\n",
       "}\n",
       "#T_4b780_row0_col3, #T_4b780_row1_col4 {\n",
       "  background-color: #5b7ae5;\n",
       "  color: #f1f1f1;\n",
       "}\n",
       "#T_4b780_row0_col4 {\n",
       "  background-color: #5875e1;\n",
       "  color: #f1f1f1;\n",
       "}\n",
       "#T_4b780_row0_col5, #T_4b780_row2_col4, #T_4b780_row5_col3 {\n",
       "  background-color: #4f69d9;\n",
       "  color: #f1f1f1;\n",
       "}\n",
       "#T_4b780_row0_col6 {\n",
       "  background-color: #6788ee;\n",
       "  color: #f1f1f1;\n",
       "}\n",
       "#T_4b780_row1_col0 {\n",
       "  background-color: #5e7de7;\n",
       "  color: #f1f1f1;\n",
       "}\n",
       "#T_4b780_row1_col2 {\n",
       "  background-color: #4c66d6;\n",
       "  color: #f1f1f1;\n",
       "}\n",
       "#T_4b780_row1_col3 {\n",
       "  background-color: #5977e3;\n",
       "  color: #f1f1f1;\n",
       "}\n",
       "#T_4b780_row1_col5, #T_4b780_row2_col3 {\n",
       "  background-color: #516ddb;\n",
       "  color: #f1f1f1;\n",
       "}\n",
       "#T_4b780_row1_col6 {\n",
       "  background-color: #7699f6;\n",
       "  color: #f1f1f1;\n",
       "}\n",
       "#T_4b780_row2_col0 {\n",
       "  background-color: #3c4ec2;\n",
       "  color: #f1f1f1;\n",
       "}\n",
       "#T_4b780_row2_col1 {\n",
       "  background-color: #455cce;\n",
       "  color: #f1f1f1;\n",
       "}\n",
       "#T_4b780_row2_col5, #T_4b780_row4_col3 {\n",
       "  background-color: #4055c8;\n",
       "  color: #f1f1f1;\n",
       "}\n",
       "#T_4b780_row2_col6 {\n",
       "  background-color: #e0dbd8;\n",
       "  color: #000000;\n",
       "}\n",
       "#T_4b780_row3_col0, #T_4b780_row3_col1, #T_4b780_row3_col2, #T_4b780_row3_col4, #T_4b780_row3_col5, #T_4b780_row3_col6, #T_4b780_row6_col3 {\n",
       "  background-color: #3b4cc0;\n",
       "  color: #f1f1f1;\n",
       "}\n",
       "#T_4b780_row4_col0 {\n",
       "  background-color: #3d50c3;\n",
       "  color: #f1f1f1;\n",
       "}\n",
       "#T_4b780_row4_col1 {\n",
       "  background-color: #4358cb;\n",
       "  color: #f1f1f1;\n",
       "}\n",
       "#T_4b780_row4_col2, #T_4b780_row5_col2 {\n",
       "  background-color: #3e51c5;\n",
       "  color: #f1f1f1;\n",
       "}\n",
       "#T_4b780_row4_col5 {\n",
       "  background-color: #e4d9d2;\n",
       "  color: #000000;\n",
       "}\n",
       "#T_4b780_row4_col6 {\n",
       "  background-color: #8caffe;\n",
       "  color: #000000;\n",
       "}\n",
       "#T_4b780_row5_col0 {\n",
       "  background-color: #4257c9;\n",
       "  color: #f1f1f1;\n",
       "}\n",
       "#T_4b780_row5_col1 {\n",
       "  background-color: #485fd1;\n",
       "  color: #f1f1f1;\n",
       "}\n",
       "#T_4b780_row5_col4 {\n",
       "  background-color: #ead5c9;\n",
       "  color: #000000;\n",
       "}\n",
       "#T_4b780_row5_col6 {\n",
       "  background-color: #88abfd;\n",
       "  color: #000000;\n",
       "}\n",
       "#T_4b780_row6_col1 {\n",
       "  background-color: #5673e0;\n",
       "  color: #f1f1f1;\n",
       "}\n",
       "#T_4b780_row6_col2 {\n",
       "  background-color: #d6dce4;\n",
       "  color: #000000;\n",
       "}\n",
       "#T_4b780_row6_col4 {\n",
       "  background-color: #86a9fc;\n",
       "  color: #f1f1f1;\n",
       "}\n",
       "#T_4b780_row6_col5 {\n",
       "  background-color: #7597f6;\n",
       "  color: #f1f1f1;\n",
       "}\n",
       "</style>\n",
       "<table id=\"T_4b780_\" class=\"dataframe\">\n",
       "  <thead>\n",
       "    <tr>\n",
       "      <th class=\"blank level0\" >&nbsp;</th>\n",
       "      <th class=\"col_heading level0 col0\" >age</th>\n",
       "      <th class=\"col_heading level0 col1\" >balance</th>\n",
       "      <th class=\"col_heading level0 col2\" >duration</th>\n",
       "      <th class=\"col_heading level0 col3\" >campaign</th>\n",
       "      <th class=\"col_heading level0 col4\" >pdays</th>\n",
       "      <th class=\"col_heading level0 col5\" >previous</th>\n",
       "      <th class=\"col_heading level0 col6\" >deposit</th>\n",
       "    </tr>\n",
       "  </thead>\n",
       "  <tbody>\n",
       "    <tr>\n",
       "      <th id=\"T_4b780_level0_row0\" class=\"row_heading level0 row0\" >age</th>\n",
       "      <td id=\"T_4b780_row0_col0\" class=\"data row0 col0\" >1.000000</td>\n",
       "      <td id=\"T_4b780_row0_col1\" class=\"data row0 col1\" >0.112300</td>\n",
       "      <td id=\"T_4b780_row0_col2\" class=\"data row0 col2\" >0.000189</td>\n",
       "      <td id=\"T_4b780_row0_col3\" class=\"data row0 col3\" >-0.005278</td>\n",
       "      <td id=\"T_4b780_row0_col4\" class=\"data row0 col4\" >0.002774</td>\n",
       "      <td id=\"T_4b780_row0_col5\" class=\"data row0 col5\" >0.020169</td>\n",
       "      <td id=\"T_4b780_row0_col6\" class=\"data row0 col6\" >0.034901</td>\n",
       "    </tr>\n",
       "    <tr>\n",
       "      <th id=\"T_4b780_level0_row1\" class=\"row_heading level0 row1\" >balance</th>\n",
       "      <td id=\"T_4b780_row1_col0\" class=\"data row1 col0\" >0.112300</td>\n",
       "      <td id=\"T_4b780_row1_col1\" class=\"data row1 col1\" >1.000000</td>\n",
       "      <td id=\"T_4b780_row1_col2\" class=\"data row1 col2\" >0.022436</td>\n",
       "      <td id=\"T_4b780_row1_col3\" class=\"data row1 col3\" >-0.013894</td>\n",
       "      <td id=\"T_4b780_row1_col4\" class=\"data row1 col4\" >0.017411</td>\n",
       "      <td id=\"T_4b780_row1_col5\" class=\"data row1 col5\" >0.030805</td>\n",
       "      <td id=\"T_4b780_row1_col6\" class=\"data row1 col6\" >0.081129</td>\n",
       "    </tr>\n",
       "    <tr>\n",
       "      <th id=\"T_4b780_level0_row2\" class=\"row_heading level0 row2\" >duration</th>\n",
       "      <td id=\"T_4b780_row2_col0\" class=\"data row2 col0\" >0.000189</td>\n",
       "      <td id=\"T_4b780_row2_col1\" class=\"data row2 col1\" >0.022436</td>\n",
       "      <td id=\"T_4b780_row2_col2\" class=\"data row2 col2\" >1.000000</td>\n",
       "      <td id=\"T_4b780_row2_col3\" class=\"data row2 col3\" >-0.041557</td>\n",
       "      <td id=\"T_4b780_row2_col4\" class=\"data row2 col4\" >-0.027392</td>\n",
       "      <td id=\"T_4b780_row2_col5\" class=\"data row2 col5\" >-0.026716</td>\n",
       "      <td id=\"T_4b780_row2_col6\" class=\"data row2 col6\" >0.451919</td>\n",
       "    </tr>\n",
       "    <tr>\n",
       "      <th id=\"T_4b780_level0_row3\" class=\"row_heading level0 row3\" >campaign</th>\n",
       "      <td id=\"T_4b780_row3_col0\" class=\"data row3 col0\" >-0.005278</td>\n",
       "      <td id=\"T_4b780_row3_col1\" class=\"data row3 col1\" >-0.013894</td>\n",
       "      <td id=\"T_4b780_row3_col2\" class=\"data row3 col2\" >-0.041557</td>\n",
       "      <td id=\"T_4b780_row3_col3\" class=\"data row3 col3\" >1.000000</td>\n",
       "      <td id=\"T_4b780_row3_col4\" class=\"data row3 col4\" >-0.102726</td>\n",
       "      <td id=\"T_4b780_row3_col5\" class=\"data row3 col5\" >-0.049699</td>\n",
       "      <td id=\"T_4b780_row3_col6\" class=\"data row3 col6\" >-0.128081</td>\n",
       "    </tr>\n",
       "    <tr>\n",
       "      <th id=\"T_4b780_level0_row4\" class=\"row_heading level0 row4\" >pdays</th>\n",
       "      <td id=\"T_4b780_row4_col0\" class=\"data row4 col0\" >0.002774</td>\n",
       "      <td id=\"T_4b780_row4_col1\" class=\"data row4 col1\" >0.017411</td>\n",
       "      <td id=\"T_4b780_row4_col2\" class=\"data row4 col2\" >-0.027392</td>\n",
       "      <td id=\"T_4b780_row4_col3\" class=\"data row4 col3\" >-0.102726</td>\n",
       "      <td id=\"T_4b780_row4_col4\" class=\"data row4 col4\" >1.000000</td>\n",
       "      <td id=\"T_4b780_row4_col5\" class=\"data row4 col5\" >0.507272</td>\n",
       "      <td id=\"T_4b780_row4_col6\" class=\"data row4 col6\" >0.151593</td>\n",
       "    </tr>\n",
       "    <tr>\n",
       "      <th id=\"T_4b780_level0_row5\" class=\"row_heading level0 row5\" >previous</th>\n",
       "      <td id=\"T_4b780_row5_col0\" class=\"data row5 col0\" >0.020169</td>\n",
       "      <td id=\"T_4b780_row5_col1\" class=\"data row5 col1\" >0.030805</td>\n",
       "      <td id=\"T_4b780_row5_col2\" class=\"data row5 col2\" >-0.026716</td>\n",
       "      <td id=\"T_4b780_row5_col3\" class=\"data row5 col3\" >-0.049699</td>\n",
       "      <td id=\"T_4b780_row5_col4\" class=\"data row5 col4\" >0.507272</td>\n",
       "      <td id=\"T_4b780_row5_col5\" class=\"data row5 col5\" >1.000000</td>\n",
       "      <td id=\"T_4b780_row5_col6\" class=\"data row5 col6\" >0.139867</td>\n",
       "    </tr>\n",
       "    <tr>\n",
       "      <th id=\"T_4b780_level0_row6\" class=\"row_heading level0 row6\" >deposit</th>\n",
       "      <td id=\"T_4b780_row6_col0\" class=\"data row6 col0\" >0.034901</td>\n",
       "      <td id=\"T_4b780_row6_col1\" class=\"data row6 col1\" >0.081129</td>\n",
       "      <td id=\"T_4b780_row6_col2\" class=\"data row6 col2\" >0.451919</td>\n",
       "      <td id=\"T_4b780_row6_col3\" class=\"data row6 col3\" >-0.128081</td>\n",
       "      <td id=\"T_4b780_row6_col4\" class=\"data row6 col4\" >0.151593</td>\n",
       "      <td id=\"T_4b780_row6_col5\" class=\"data row6 col5\" >0.139867</td>\n",
       "      <td id=\"T_4b780_row6_col6\" class=\"data row6 col6\" >1.000000</td>\n",
       "    </tr>\n",
       "  </tbody>\n",
       "</table>\n"
      ]
     },
     "metadata": {},
     "execution_count": 527
    }
   ]
  },
  {
   "cell_type": "markdown",
   "source": [
    "### Визуализация данных"
   ],
   "metadata": {
    "id": "Ec9XDcmPl_Pt",
    "pycharm": {
     "name": "#%% md\n"
    }
   }
  },
  {
   "cell_type": "code",
   "source": [
    "plt.scatter(data['previous'], data['deposit'] + np.random.uniform(-0.4, 0.4, len(data['deposit'])), c=data['deposit'])\n",
    "plt.title('Deposit')\n",
    "plt.xlabel('previous')\n",
    "plt.ylabel('deposit Y/N')"
   ],
   "metadata": {
    "colab": {
     "base_uri": "https://localhost:8080/",
     "height": 312
    },
    "id": "-mnsx7ZhxECI",
    "outputId": "6398f324-b4d1-483e-f87f-22e20ec70702",
    "pycharm": {
     "name": "#%%\n"
    }
   },
   "execution_count": 528,
   "outputs": [
    {
     "output_type": "execute_result",
     "data": {
      "text/plain": [
       "Text(0, 0.5, 'deposit Y/N')"
      ]
     },
     "metadata": {},
     "execution_count": 528
    },
    {
     "output_type": "display_data",
     "data": {
      "text/plain": [
       "<Figure size 432x288 with 1 Axes>"
      ],
      "image/png": "[encoded data removed]"
     },
     "metadata": {
      "needs_background": "light"
     }
    }
   ]
  },
  {
   "cell_type": "code",
   "source": [
    "data.groupby('deposit')['previous'].mean()"
   ],
   "metadata": {
    "id": "MoGJ4MbW1d4S",
    "colab": {
     "base_uri": "https://localhost:8080/"
    },
    "outputId": "83a61d48-5a99-474f-ee07-f00875a5fc1c",
    "pycharm": {
     "name": "#%%\n"
    }
   },
   "execution_count": 529,
   "outputs": [
    {
     "output_type": "execute_result",
     "data": {
      "text/plain": [
       "deposit\n",
       "False    0.528350\n",
       "True     1.170354\n",
       "Name: previous, dtype: float64"
      ]
     },
     "metadata": {},
     "execution_count": 529
    }
   ]
  },
  {
   "cell_type": "code",
   "source": [
    "plt.scatter(data['duration'], data['deposit']+ np.random.uniform(-0.4, 0.4, len(data['deposit'])), c=data['deposit'])\n",
    "plt.title('Deposit duration')\n",
    "plt.xlabel('duration')\n",
    "plt.ylabel('deposit Y/N')"
   ],
   "metadata": {
    "id": "rU1lz1hh2RCr",
    "colab": {
     "base_uri": "https://localhost:8080/",
     "height": 312
    },
    "outputId": "bd41c038-ae96-41a8-c090-b23d87235b02",
    "pycharm": {
     "name": "#%%\n"
    }
   },
   "execution_count": 530,
   "outputs": [
    {
     "output_type": "execute_result",
     "data": {
      "text/plain": [
       "Text(0, 0.5, 'deposit Y/N')"
      ]
     },
     "metadata": {},
     "execution_count": 530
    },
    {
     "output_type": "display_data",
     "data": {
      "text/plain": [
       "<Figure size 432x288 with 1 Axes>"
      ],
      "image/png": "[encoded data removed]"
     },
     "metadata": {
      "needs_background": "light"
     }
    }
   ]
  },
  {
   "cell_type": "code",
   "source": [
    "data.groupby('deposit')['duration'].mean()"
   ],
   "metadata": {
    "id": "zfkk5g352RH6",
    "colab": {
     "base_uri": "https://localhost:8080/"
    },
    "outputId": "ae2f30c4-6d63-4c4c-ac8b-f5f5df56b4f0",
    "pycharm": {
     "name": "#%%\n"
    }
   },
   "execution_count": 531,
   "outputs": [
    {
     "output_type": "execute_result",
     "data": {
      "text/plain": [
       "deposit\n",
       "False    223.130257\n",
       "True     537.294574\n",
       "Name: duration, dtype: float64"
      ]
     },
     "metadata": {},
     "execution_count": 531
    }
   ]
  },
  {
   "cell_type": "markdown",
   "source": [
    "## <font color='green'>3.1. Обучение модели Логистическая регрессия без категориальных признаков</font>\n",
    "\n"
   ],
   "metadata": {
    "id": "YKqPYfZ3N1Bp",
    "pycharm": {
     "name": "#%% md\n"
    }
   }
  },
  {
   "cell_type": "markdown",
   "source": [
    "Сформируем матрицу X объект-признак и вектор y целевой переменной."
   ],
   "metadata": {
    "id": "YXUwlNSx49ZS",
    "pycharm": {
     "name": "#%% md\n"
    }
   }
  },
  {
   "cell_type": "code",
   "source": [
    "X = data.drop('deposit', axis=1)\n",
    "y = data['deposit']"
   ],
   "metadata": {
    "id": "cgetIc6vRgMi",
    "pycharm": {
     "name": "#%%\n"
    }
   },
   "execution_count": 532,
   "outputs": []
  },
  {
   "cell_type": "markdown",
   "metadata": {
    "id": "jk6JotAMhtwe",
    "pycharm": {
     "name": "#%% md\n"
    }
   },
   "source": [
    "Когда мы решаем задачу классификации, мы можем захотеть предсказывать не только классы, но и их вероятности. Для целей бизнеса, например, полезно знать, с какой вероятностью клиент вернет кредит (а не просто - вернет кредит или не вернет). Например, если клиент уйдет из банка с вероятностью 0.95, то это очень ненадежный клиент. А если с вероятностью 0.52  - этот клиент под вопросом. Но с точки зрения бинарной классификации для обоих клиентов модель предскажет, что они уйдут, так как стандартный порог перевода вероятности в классы - 0.5. \n",
    "\n",
    "* задача классификации, в которой модель предсказывает только классы - это **жесткая классификация**\n",
    "* если же классификатор предсказывает вероятности классов - это **мягкая классификация**"
   ]
  },
  {
   "cell_type": "markdown",
   "source": [
    "Давайте применим логистическую регрессию для определения возьмет ли клиент депозит или нет!\n",
    "\n",
    "Сначала выкинем нечисловые столбцы."
   ],
   "metadata": {
    "id": "kLfG720Fi4eh",
    "pycharm": {
     "name": "#%% md\n"
    }
   }
  },
  {
   "cell_type": "code",
   "source": [
    "X = X.drop(['job','marital','education','default','housing','loan','contact','month','poutcome','day'], axis=1)"
   ],
   "metadata": {
    "id": "eLjJi-Oi4Lir",
    "pycharm": {
     "name": "#%%\n"
    }
   },
   "execution_count": 533,
   "outputs": []
  },
  {
   "cell_type": "markdown",
   "source": [
    "Мы разбиваем данные на train и test, чтобы:\n",
    "* на тренировочных данных обучить модель\n",
    "* на тестовых применить обученную модель и затем проверить качество модели"
   ],
   "metadata": {
    "id": "lgyjOFNwR1p4",
    "pycharm": {
     "name": "#%% md\n"
    }
   }
  },
  {
   "cell_type": "code",
   "execution_count": 534,
   "metadata": {
    "id": "O4IcPGEOhtwe",
    "pycharm": {
     "name": "#%%\n"
    }
   },
   "outputs": [],
   "source": [
    "from sklearn.metrics import accuracy_score\n",
    "from sklearn.model_selection import train_test_split\n",
    "\n",
    "Xtrain, Xtest, ytrain, ytest = train_test_split(X, y, test_size=0.25, random_state=42)"
   ]
  },
  {
   "cell_type": "code",
   "source": [
    "X.head()\n"
   ],
   "metadata": {
    "id": "-_CoC8WwSK1d",
    "colab": {
     "base_uri": "https://localhost:8080/",
     "height": 206
    },
    "outputId": "97989ae5-253d-4cc8-d960-6052e95b5c99",
    "pycharm": {
     "name": "#%%\n"
    }
   },
   "execution_count": 535,
   "outputs": [
    {
     "output_type": "execute_result",
     "data": {
      "text/plain": [
       "   age  balance  duration  campaign  pdays  previous\n",
       "0   59     2343      1042         1     -1         0\n",
       "1   56       45      1467         1     -1         0\n",
       "2   41     1270      1389         1     -1         0\n",
       "3   55     2476       579         1     -1         0\n",
       "4   54      184       673         2     -1         0"
      ],
      "text/html": [
       "\n",
       "  <div id=\"df-a6800d4a-2243-4d6c-a576-00f49d2b8b5c\">\n",
       "    <div class=\"colab-df-container\">\n",
       "      <div>\n",
       "<style scoped>\n",
       "    .dataframe tbody tr th:only-of-type {\n",
       "        vertical-align: middle;\n",
       "    }\n",
       "\n",
       "    .dataframe tbody tr th {\n",
       "        vertical-align: top;\n",
       "    }\n",
       "\n",
       "    .dataframe thead th {\n",
       "        text-align: right;\n",
       "    }\n",
       "</style>\n",
       "<table border=\"1\" class=\"dataframe\">\n",
       "  <thead>\n",
       "    <tr style=\"text-align: right;\">\n",
       "      <th></th>\n",
       "      <th>age</th>\n",
       "      <th>balance</th>\n",
       "      <th>duration</th>\n",
       "      <th>campaign</th>\n",
       "      <th>pdays</th>\n",
       "      <th>previous</th>\n",
       "    </tr>\n",
       "  </thead>\n",
       "  <tbody>\n",
       "    <tr>\n",
       "      <th>0</th>\n",
       "      <td>59</td>\n",
       "      <td>2343</td>\n",
       "      <td>1042</td>\n",
       "      <td>1</td>\n",
       "      <td>-1</td>\n",
       "      <td>0</td>\n",
       "    </tr>\n",
       "    <tr>\n",
       "      <th>1</th>\n",
       "      <td>56</td>\n",
       "      <td>45</td>\n",
       "      <td>1467</td>\n",
       "      <td>1</td>\n",
       "      <td>-1</td>\n",
       "      <td>0</td>\n",
       "    </tr>\n",
       "    <tr>\n",
       "      <th>2</th>\n",
       "      <td>41</td>\n",
       "      <td>1270</td>\n",
       "      <td>1389</td>\n",
       "      <td>1</td>\n",
       "      <td>-1</td>\n",
       "      <td>0</td>\n",
       "    </tr>\n",
       "    <tr>\n",
       "      <th>3</th>\n",
       "      <td>55</td>\n",
       "      <td>2476</td>\n",
       "      <td>579</td>\n",
       "      <td>1</td>\n",
       "      <td>-1</td>\n",
       "      <td>0</td>\n",
       "    </tr>\n",
       "    <tr>\n",
       "      <th>4</th>\n",
       "      <td>54</td>\n",
       "      <td>184</td>\n",
       "      <td>673</td>\n",
       "      <td>2</td>\n",
       "      <td>-1</td>\n",
       "      <td>0</td>\n",
       "    </tr>\n",
       "  </tbody>\n",
       "</table>\n",
       "</div>\n",
       "      <button class=\"colab-df-convert\" onclick=\"convertToInteractive('df-a6800d4a-2243-4d6c-a576-00f49d2b8b5c')\"\n",
       "              title=\"Convert this dataframe to an interactive table.\"\n",
       "              style=\"display:none;\">\n",
       "        \n",
       "  <svg xmlns=\"http://www.w3.org/2000/svg\" height=\"24px\"viewBox=\"0 0 24 24\"\n",
       "       width=\"24px\">\n",
       "    <path d=\"M0 0h24v24H0V0z\" fill=\"none\"/>\n",
       "    <path d=\"M18.56 5.44l.94 2.06.94-2.06 2.06-.94-2.06-.94-.94-2.06-.94 2.06-2.06.94zm-11 1L8.5 8.5l.94-2.06 2.06-.94-2.06-.94L8.5 2.5l-.94 2.06-2.06.94zm10 10l.94 2.06.94-2.06 2.06-.94-2.06-.94-.94-2.06-.94 2.06-2.06.94z\"/><path d=\"M17.41 7.96l-1.37-1.37c-.4-.4-.92-.59-1.43-.59-.52 0-1.04.2-1.43.59L10.3 9.45l-7.72 7.72c-.78.78-.78 2.05 0 2.83L4 21.41c.39.39.9.59 1.41.59.51 0 1.02-.2 1.41-.59l7.78-7.78 2.81-2.81c.8-.78.8-2.07 0-2.86zM5.41 20L4 18.59l7.72-7.72 1.47 1.35L5.41 20z\"/>\n",
       "  </svg>\n",
       "      </button>\n",
       "      \n",
       "  <style>\n",
       "    .colab-df-container {\n",
       "      display:flex;\n",
       "      flex-wrap:wrap;\n",
       "      gap: 12px;\n",
       "    }\n",
       "\n",
       "    .colab-df-convert {\n",
       "      background-color: #E8F0FE;\n",
       "      border: none;\n",
       "      border-radius: 50%;\n",
       "      cursor: pointer;\n",
       "      display: none;\n",
       "      fill: #1967D2;\n",
       "      height: 32px;\n",
       "      padding: 0 0 0 0;\n",
       "      width: 32px;\n",
       "    }\n",
       "\n",
       "    .colab-df-convert:hover {\n",
       "      background-color: #E2EBFA;\n",
       "      box-shadow: 0px 1px 2px rgba(60, 64, 67, 0.3), 0px 1px 3px 1px rgba(60, 64, 67, 0.15);\n",
       "      fill: #174EA6;\n",
       "    }\n",
       "\n",
       "    [theme=dark] .colab-df-convert {\n",
       "      background-color: #3B4455;\n",
       "      fill: #D2E3FC;\n",
       "    }\n",
       "\n",
       "    [theme=dark] .colab-df-convert:hover {\n",
       "      background-color: #434B5C;\n",
       "      box-shadow: 0px 1px 3px 1px rgba(0, 0, 0, 0.15);\n",
       "      filter: drop-shadow(0px 1px 2px rgba(0, 0, 0, 0.3));\n",
       "      fill: #FFFFFF;\n",
       "    }\n",
       "  </style>\n",
       "\n",
       "      <script>\n",
       "        const buttonEl =\n",
       "          document.querySelector('#df-a6800d4a-2243-4d6c-a576-00f49d2b8b5c button.colab-df-convert');\n",
       "        buttonEl.style.display =\n",
       "          google.colab.kernel.accessAllowed ? 'block' : 'none';\n",
       "\n",
       "        async function convertToInteractive(key) {\n",
       "          const element = document.querySelector('#df-a6800d4a-2243-4d6c-a576-00f49d2b8b5c');\n",
       "          const dataTable =\n",
       "            await google.colab.kernel.invokeFunction('convertToInteractive',\n",
       "                                                     [key], {});\n",
       "          if (!dataTable) return;\n",
       "\n",
       "          const docLinkHtml = 'Like what you see? Visit the ' +\n",
       "            '<a target=\"_blank\" href=https://colab.research.google.com/notebooks/data_table.ipynb>data table notebook</a>'\n",
       "            + ' to learn more about interactive tables.';\n",
       "          element.innerHTML = '';\n",
       "          dataTable['output_type'] = 'display_data';\n",
       "          await google.colab.output.renderOutput(dataTable, element);\n",
       "          const docLink = document.createElement('div');\n",
       "          docLink.innerHTML = docLinkHtml;\n",
       "          element.appendChild(docLink);\n",
       "        }\n",
       "      </script>\n",
       "    </div>\n",
       "  </div>\n",
       "  "
      ]
     },
     "metadata": {},
     "execution_count": 535
    }
   ]
  },
  {
   "cell_type": "markdown",
   "source": [
    "Для линейных моделей очень важно масштабирование признаков. Поэтому отмасштабируем признаки при помощи StandardScaler, обучив метод на тренировочных данных и применив его и к трейну, и к тесту."
   ],
   "metadata": {
    "id": "GbuDWle1z2Uh",
    "pycharm": {
     "name": "#%% md\n"
    }
   }
  },
  {
   "cell_type": "code",
   "source": [
    "import pandas as pd\n",
    "from sklearn.preprocessing import StandardScaler\n",
    "\n",
    "ss = StandardScaler()\n",
    "ss.fit(Xtrain)\n",
    "\n",
    "Xtrain = pd.DataFrame(ss.transform(Xtrain), columns=X.columns)\n",
    "Xtest = pd.DataFrame(ss.transform(Xtest), columns=X.columns)\n",
    "\n",
    "Xtrain.head()"
   ],
   "metadata": {
    "id": "69H1fh7VzaZf",
    "colab": {
     "base_uri": "https://localhost:8080/",
     "height": 206
    },
    "outputId": "bce89747-8d3e-4dd4-ac1f-4934c14c86f2",
    "pycharm": {
     "name": "#%%\n"
    }
   },
   "execution_count": 536,
   "outputs": [
    {
     "output_type": "execute_result",
     "data": {
      "text/plain": [
       "        age   balance  duration  campaign     pdays  previous\n",
       "0  1.581951  2.083507 -0.785527  1.662174 -0.474357 -0.365571\n",
       "1  0.823300 -0.500178 -0.258692 -0.183877  1.979568  2.348973\n",
       "2 -1.115476 -0.812078  0.982105 -0.183877 -0.474357 -0.365571\n",
       "3 -0.946887  0.925652  0.561789  0.554543 -0.474357 -0.365571\n",
       "4 -0.862592  0.321128 -0.342179 -0.553088  1.225928  0.991701"
      ],
      "text/html": [
       "\n",
       "  <div id=\"df-e156c649-5b7c-4640-b824-3bba902590c6\">\n",
       "    <div class=\"colab-df-container\">\n",
       "      <div>\n",
       "<style scoped>\n",
       "    .dataframe tbody tr th:only-of-type {\n",
       "        vertical-align: middle;\n",
       "    }\n",
       "\n",
       "    .dataframe tbody tr th {\n",
       "        vertical-align: top;\n",
       "    }\n",
       "\n",
       "    .dataframe thead th {\n",
       "        text-align: right;\n",
       "    }\n",
       "</style>\n",
       "<table border=\"1\" class=\"dataframe\">\n",
       "  <thead>\n",
       "    <tr style=\"text-align: right;\">\n",
       "      <th></th>\n",
       "      <th>age</th>\n",
       "      <th>balance</th>\n",
       "      <th>duration</th>\n",
       "      <th>campaign</th>\n",
       "      <th>pdays</th>\n",
       "      <th>previous</th>\n",
       "    </tr>\n",
       "  </thead>\n",
       "  <tbody>\n",
       "    <tr>\n",
       "      <th>0</th>\n",
       "      <td>1.581951</td>\n",
       "      <td>2.083507</td>\n",
       "      <td>-0.785527</td>\n",
       "      <td>1.662174</td>\n",
       "      <td>-0.474357</td>\n",
       "      <td>-0.365571</td>\n",
       "    </tr>\n",
       "    <tr>\n",
       "      <th>1</th>\n",
       "      <td>0.823300</td>\n",
       "      <td>-0.500178</td>\n",
       "      <td>-0.258692</td>\n",
       "      <td>-0.183877</td>\n",
       "      <td>1.979568</td>\n",
       "      <td>2.348973</td>\n",
       "    </tr>\n",
       "    <tr>\n",
       "      <th>2</th>\n",
       "      <td>-1.115476</td>\n",
       "      <td>-0.812078</td>\n",
       "      <td>0.982105</td>\n",
       "      <td>-0.183877</td>\n",
       "      <td>-0.474357</td>\n",
       "      <td>-0.365571</td>\n",
       "    </tr>\n",
       "    <tr>\n",
       "      <th>3</th>\n",
       "      <td>-0.946887</td>\n",
       "      <td>0.925652</td>\n",
       "      <td>0.561789</td>\n",
       "      <td>0.554543</td>\n",
       "      <td>-0.474357</td>\n",
       "      <td>-0.365571</td>\n",
       "    </tr>\n",
       "    <tr>\n",
       "      <th>4</th>\n",
       "      <td>-0.862592</td>\n",
       "      <td>0.321128</td>\n",
       "      <td>-0.342179</td>\n",
       "      <td>-0.553088</td>\n",
       "      <td>1.225928</td>\n",
       "      <td>0.991701</td>\n",
       "    </tr>\n",
       "  </tbody>\n",
       "</table>\n",
       "</div>\n",
       "      <button class=\"colab-df-convert\" onclick=\"convertToInteractive('df-e156c649-5b7c-4640-b824-3bba902590c6')\"\n",
       "              title=\"Convert this dataframe to an interactive table.\"\n",
       "              style=\"display:none;\">\n",
       "        \n",
       "  <svg xmlns=\"http://www.w3.org/2000/svg\" height=\"24px\"viewBox=\"0 0 24 24\"\n",
       "       width=\"24px\">\n",
       "    <path d=\"M0 0h24v24H0V0z\" fill=\"none\"/>\n",
       "    <path d=\"M18.56 5.44l.94 2.06.94-2.06 2.06-.94-2.06-.94-.94-2.06-.94 2.06-2.06.94zm-11 1L8.5 8.5l.94-2.06 2.06-.94-2.06-.94L8.5 2.5l-.94 2.06-2.06.94zm10 10l.94 2.06.94-2.06 2.06-.94-2.06-.94-.94-2.06-.94 2.06-2.06.94z\"/><path d=\"M17.41 7.96l-1.37-1.37c-.4-.4-.92-.59-1.43-.59-.52 0-1.04.2-1.43.59L10.3 9.45l-7.72 7.72c-.78.78-.78 2.05 0 2.83L4 21.41c.39.39.9.59 1.41.59.51 0 1.02-.2 1.41-.59l7.78-7.78 2.81-2.81c.8-.78.8-2.07 0-2.86zM5.41 20L4 18.59l7.72-7.72 1.47 1.35L5.41 20z\"/>\n",
       "  </svg>\n",
       "      </button>\n",
       "      \n",
       "  <style>\n",
       "    .colab-df-container {\n",
       "      display:flex;\n",
       "      flex-wrap:wrap;\n",
       "      gap: 12px;\n",
       "    }\n",
       "\n",
       "    .colab-df-convert {\n",
       "      background-color: #E8F0FE;\n",
       "      border: none;\n",
       "      border-radius: 50%;\n",
       "      cursor: pointer;\n",
       "      display: none;\n",
       "      fill: #1967D2;\n",
       "      height: 32px;\n",
       "      padding: 0 0 0 0;\n",
       "      width: 32px;\n",
       "    }\n",
       "\n",
       "    .colab-df-convert:hover {\n",
       "      background-color: #E2EBFA;\n",
       "      box-shadow: 0px 1px 2px rgba(60, 64, 67, 0.3), 0px 1px 3px 1px rgba(60, 64, 67, 0.15);\n",
       "      fill: #174EA6;\n",
       "    }\n",
       "\n",
       "    [theme=dark] .colab-df-convert {\n",
       "      background-color: #3B4455;\n",
       "      fill: #D2E3FC;\n",
       "    }\n",
       "\n",
       "    [theme=dark] .colab-df-convert:hover {\n",
       "      background-color: #434B5C;\n",
       "      box-shadow: 0px 1px 3px 1px rgba(0, 0, 0, 0.15);\n",
       "      filter: drop-shadow(0px 1px 2px rgba(0, 0, 0, 0.3));\n",
       "      fill: #FFFFFF;\n",
       "    }\n",
       "  </style>\n",
       "\n",
       "      <script>\n",
       "        const buttonEl =\n",
       "          document.querySelector('#df-e156c649-5b7c-4640-b824-3bba902590c6 button.colab-df-convert');\n",
       "        buttonEl.style.display =\n",
       "          google.colab.kernel.accessAllowed ? 'block' : 'none';\n",
       "\n",
       "        async function convertToInteractive(key) {\n",
       "          const element = document.querySelector('#df-e156c649-5b7c-4640-b824-3bba902590c6');\n",
       "          const dataTable =\n",
       "            await google.colab.kernel.invokeFunction('convertToInteractive',\n",
       "                                                     [key], {});\n",
       "          if (!dataTable) return;\n",
       "\n",
       "          const docLinkHtml = 'Like what you see? Visit the ' +\n",
       "            '<a target=\"_blank\" href=https://colab.research.google.com/notebooks/data_table.ipynb>data table notebook</a>'\n",
       "            + ' to learn more about interactive tables.';\n",
       "          element.innerHTML = '';\n",
       "          dataTable['output_type'] = 'display_data';\n",
       "          await google.colab.output.renderOutput(dataTable, element);\n",
       "          const docLink = document.createElement('div');\n",
       "          docLink.innerHTML = docLinkHtml;\n",
       "          element.appendChild(docLink);\n",
       "        }\n",
       "      </script>\n",
       "    </div>\n",
       "  </div>\n",
       "  "
      ]
     },
     "metadata": {},
     "execution_count": 536
    }
   ]
  },
  {
   "cell_type": "markdown",
   "metadata": {
    "id": "jjPL8ZlJhtwf",
    "pycharm": {
     "name": "#%% md\n"
    }
   },
   "source": [
    "Обучим логистическую регрессию на train и сделаем предсказание на новых для нее данных (test)."
   ]
  },
  {
   "cell_type": "code",
   "execution_count": 537,
   "metadata": {
    "colab": {
     "base_uri": "https://localhost:8080/"
    },
    "id": "mmOb1h0Chtwf",
    "outputId": "4b878d13-3d14-4f1a-afac-79e669124402",
    "pycharm": {
     "name": "#%%\n"
    }
   },
   "outputs": [
    {
     "output_type": "execute_result",
     "data": {
      "text/plain": [
       "LogisticRegression()"
      ]
     },
     "metadata": {},
     "execution_count": 537
    }
   ],
   "source": [
    "from sklearn.linear_model import LogisticRegression\n",
    "\n",
    "model = LogisticRegression() # объявление модели\n",
    "model.fit(Xtrain, ytrain) # обучение модели"
   ]
  },
  {
   "cell_type": "code",
   "source": [
    "pred_test = model.predict(Xtest) # предсказание классов"
   ],
   "metadata": {
    "id": "zsk3tPv5ia4F",
    "pycharm": {
     "name": "#%%\n"
    }
   },
   "execution_count": 538,
   "outputs": []
  },
  {
   "cell_type": "markdown",
   "source": [
    "Посмотрим на предсказания модели и оценим ее качество."
   ],
   "metadata": {
    "id": "90VpLk2MjSUn",
    "pycharm": {
     "name": "#%% md\n"
    }
   }
  },
  {
   "cell_type": "code",
   "source": [
    "pred_test[:5]"
   ],
   "metadata": {
    "id": "QCnk94hwjUy7",
    "colab": {
     "base_uri": "https://localhost:8080/"
    },
    "outputId": "c28af273-9341-416e-817b-b70523f25067",
    "pycharm": {
     "name": "#%%\n"
    }
   },
   "execution_count": 539,
   "outputs": [
    {
     "output_type": "execute_result",
     "data": {
      "text/plain": [
       "array([False,  True,  True,  True, False])"
      ]
     },
     "metadata": {},
     "execution_count": 539
    }
   ]
  },
  {
   "cell_type": "code",
   "source": [
    "accuracy_score(ytest, pred_test)"
   ],
   "metadata": {
    "id": "cVaD2VwskQGY",
    "colab": {
     "base_uri": "https://localhost:8080/"
    },
    "outputId": "2212557e-41d0-4561-91ec-6f8742c1d777",
    "pycharm": {
     "name": "#%%\n"
    }
   },
   "execution_count": 540,
   "outputs": [
    {
     "output_type": "execute_result",
     "data": {
      "text/plain": [
       "0.7409530634181297"
      ]
     },
     "metadata": {},
     "execution_count": 540
    }
   ]
  },
  {
   "cell_type": "markdown",
   "source": [
    "Проверим, сбалансирована ли выборка."
   ],
   "metadata": {
    "id": "LzXLHJNGmNg6",
    "pycharm": {
     "name": "#%% md\n"
    }
   }
  },
  {
   "cell_type": "code",
   "source": [
    "y.value_counts()"
   ],
   "metadata": {
    "id": "NB4xFH1LiiSh",
    "colab": {
     "base_uri": "https://localhost:8080/"
    },
    "outputId": "a11af902-443d-4fa7-c713-2133ce7591e6",
    "pycharm": {
     "name": "#%%\n"
    }
   },
   "execution_count": 541,
   "outputs": [
    {
     "output_type": "execute_result",
     "data": {
      "text/plain": [
       "False    5873\n",
       "True     5289\n",
       "Name: deposit, dtype: int64"
      ]
     },
     "metadata": {},
     "execution_count": 541
    }
   ]
  },
  {
   "cell_type": "code",
   "source": [
    "pred_test[:20]"
   ],
   "metadata": {
    "id": "P-tUWOp9P99-",
    "colab": {
     "base_uri": "https://localhost:8080/"
    },
    "outputId": "b636838a-b3ad-40f2-b498-6160fb70cfb9",
    "pycharm": {
     "name": "#%%\n"
    }
   },
   "execution_count": 542,
   "outputs": [
    {
     "output_type": "execute_result",
     "data": {
      "text/plain": [
       "array([False,  True,  True,  True, False,  True, False, False, False,\n",
       "        True,  True, False, False,  True,  True, False, False,  True,\n",
       "       False, False])"
      ]
     },
     "metadata": {},
     "execution_count": 542
    }
   ]
  },
  {
   "cell_type": "markdown",
   "source": [
    "## <font color='green'>3.2. Валидация модели - Логистическая регрессия</font>\n",
    "\n",
    "Для оценки качества модели используются различные метрики качества. Давайте посмотрим, какие метрики полезно считать в задаче классификации, кроме accuracy.\n",
    "\n",
    "<font color='blue'>Для оценки качества моделей бинарной классификации полезно смотреть на **матрицу ошибок** (confusion matrix):</font>"
   ],
   "metadata": {
    "id": "0WKy0qt2QHw-",
    "pycharm": {
     "name": "#%% md\n"
    }
   }
  },
  {
   "cell_type": "code",
   "source": [
    "from sklearn.metrics import confusion_matrix\n",
    "\n",
    "confusion_matrix(ytest, pred_test)"
   ],
   "metadata": {
    "id": "P3XkIHpJQJjv",
    "colab": {
     "base_uri": "https://localhost:8080/"
    },
    "outputId": "0f37f526-e23b-409c-f1ab-541582effe8a",
    "pycharm": {
     "name": "#%%\n"
    }
   },
   "execution_count": 543,
   "outputs": [
    {
     "output_type": "execute_result",
     "data": {
      "text/plain": [
       "array([[1181,  269],\n",
       "       [ 454,  887]])"
      ]
     },
     "metadata": {},
     "execution_count": 543
    }
   ]
  },
  {
   "cell_type": "code",
   "source": [
    "ytest.value_counts()"
   ],
   "metadata": {
    "id": "cKHWNikM50Ys",
    "colab": {
     "base_uri": "https://localhost:8080/"
    },
    "outputId": "2ff58b30-eccd-4b70-fb03-1ad8febca530",
    "pycharm": {
     "name": "#%%\n"
    }
   },
   "execution_count": 544,
   "outputs": [
    {
     "output_type": "execute_result",
     "data": {
      "text/plain": [
       "False    1450\n",
       "True     1341\n",
       "Name: deposit, dtype: int64"
      ]
     },
     "metadata": {},
     "execution_count": 544
    }
   ]
  },
  {
   "cell_type": "markdown",
   "source": [
    "<font color='blue'>Также можно посмотреть на метрику **recall (полнота)** - она показывает, какую долю клиентов c депозитами (объектов положительного класса) нашла модель.</font>"
   ],
   "metadata": {
    "id": "xeBZEYHnPW34",
    "pycharm": {
     "name": "#%% md\n"
    }
   }
  },
  {
   "cell_type": "code",
   "source": [
    "from sklearn.metrics import recall_score\n",
    "\n",
    "recall_score(ytest, pred_test)"
   ],
   "metadata": {
    "id": "rs1crUP3Qvsh",
    "colab": {
     "base_uri": "https://localhost:8080/"
    },
    "outputId": "be8ad6f6-4a9b-4835-b0c1-9eb2c0b72e11",
    "pycharm": {
     "name": "#%%\n"
    }
   },
   "execution_count": 545,
   "outputs": [
    {
     "output_type": "execute_result",
     "data": {
      "text/plain": [
       "0.6614466815809098"
      ]
     },
     "metadata": {},
     "execution_count": 545
    }
   ]
  },
  {
   "cell_type": "code",
   "source": [
    "from sklearn.metrics import precision_score\n",
    "\n",
    "precision_score(ytest, pred_test)"
   ],
   "metadata": {
    "colab": {
     "base_uri": "https://localhost:8080/"
    },
    "id": "l4H5i0c2Abc8",
    "outputId": "e4fc719a-5b87-4e1a-c7bd-258a4e36a1c3",
    "pycharm": {
     "name": "#%%\n"
    }
   },
   "execution_count": 546,
   "outputs": [
    {
     "output_type": "execute_result",
     "data": {
      "text/plain": [
       "0.7673010380622838"
      ]
     },
     "metadata": {},
     "execution_count": 546
    }
   ]
  },
  {
   "cell_type": "code",
   "source": [
    "from sklearn.metrics import roc_auc_score\n",
    "\n",
    "roc_auc_score(ytest, probs[:,1])"
   ],
   "metadata": {
    "colab": {
     "base_uri": "https://localhost:8080/"
    },
    "id": "9GhigwhGjYV-",
    "outputId": "c7d0f20b-72f6-4ae3-ae21-300b0bd51072",
    "pycharm": {
     "name": "#%%\n"
    }
   },
   "execution_count": 559,
   "outputs": [
    {
     "output_type": "execute_result",
     "data": {
      "text/plain": [
       "0.8194767157808122"
      ]
     },
     "metadata": {},
     "execution_count": 559
    }
   ]
  },
  {
   "cell_type": "code",
   "source": [
    "probs = model.predict_proba(Xtest)\n",
    "\n",
    "probs[:10]"
   ],
   "metadata": {
    "id": "t7ASlwolO09n",
    "colab": {
     "base_uri": "https://localhost:8080/"
    },
    "outputId": "f1beccc4-7eff-45d8-f61b-95473a095604",
    "pycharm": {
     "name": "#%%\n"
    }
   },
   "execution_count": 560,
   "outputs": [
    {
     "output_type": "execute_result",
     "data": {
      "text/plain": [
       "array([[0.6892508 , 0.3107492 ],\n",
       "       [0.03596148, 0.96403852],\n",
       "       [0.21317059, 0.78682941],\n",
       "       [0.10762409, 0.89237591],\n",
       "       [0.83642308, 0.16357692],\n",
       "       [0.46465551, 0.53534449],\n",
       "       [0.51039573, 0.48960427],\n",
       "       [0.62441925, 0.37558075],\n",
       "       [0.54340207, 0.45659793],\n",
       "       [0.2687192 , 0.7312808 ]])"
      ]
     },
     "metadata": {},
     "execution_count": 560
    }
   ]
  },
  {
   "cell_type": "markdown",
   "source": [
    "<font color='blue'>Попробуем изменить **порог для перевода вероятности в классы** со стандартного 0.5 на порог поменьше.</blue>"
   ],
   "metadata": {
    "id": "MHF1dXxLQQlB",
    "pycharm": {
     "name": "#%% md\n"
    }
   }
  },
  {
   "cell_type": "code",
   "source": [
    "probs_deposit = probs[:,1]\n",
    "\n",
    "classes = probs_deposit > 0.4"
   ],
   "metadata": {
    "id": "JoDNJgZ_O609",
    "pycharm": {
     "name": "#%%\n"
    }
   },
   "execution_count": 561,
   "outputs": []
  },
  {
   "cell_type": "code",
   "source": [
    "confusion_matrix(ytest, classes)"
   ],
   "metadata": {
    "id": "EPmRIHIGO_I9",
    "colab": {
     "base_uri": "https://localhost:8080/"
    },
    "outputId": "b08c27da-1842-43bd-e280-8f3a4238dc13",
    "pycharm": {
     "name": "#%%\n"
    }
   },
   "execution_count": 562,
   "outputs": [
    {
     "output_type": "execute_result",
     "data": {
      "text/plain": [
       "array([[1030,  420],\n",
       "       [ 310, 1031]])"
      ]
     },
     "metadata": {},
     "execution_count": 562
    }
   ]
  },
  {
   "cell_type": "code",
   "source": [
    "ytest.value_counts()"
   ],
   "metadata": {
    "id": "AaduyCsc6Di_",
    "colab": {
     "base_uri": "https://localhost:8080/"
    },
    "outputId": "15becc8a-3aba-49dd-e6b4-3d8918010c0d",
    "pycharm": {
     "name": "#%%\n"
    }
   },
   "execution_count": 563,
   "outputs": [
    {
     "output_type": "execute_result",
     "data": {
      "text/plain": [
       "False    1450\n",
       "True     1341\n",
       "Name: deposit, dtype: int64"
      ]
     },
     "metadata": {},
     "execution_count": 563
    }
   ]
  },
  {
   "cell_type": "code",
   "source": [
    "recall_score(ytest, classes)"
   ],
   "metadata": {
    "id": "uBPFvMlGQ11c",
    "colab": {
     "base_uri": "https://localhost:8080/"
    },
    "outputId": "3fe208bd-714e-4c6c-c2cd-f672d9de2fb1",
    "pycharm": {
     "name": "#%%\n"
    }
   },
   "execution_count": 564,
   "outputs": [
    {
     "output_type": "execute_result",
     "data": {
      "text/plain": [
       "0.7688292319164802"
      ]
     },
     "metadata": {},
     "execution_count": 564
    }
   ]
  },
  {
   "cell_type": "code",
   "source": [
    "precision_score(ytest, classes)"
   ],
   "metadata": {
    "colab": {
     "base_uri": "https://localhost:8080/"
    },
    "id": "L0Z46mLCFPK7",
    "outputId": "56ac49b7-dc6a-4100-896d-f4c735a2abfd",
    "pycharm": {
     "name": "#%%\n"
    }
   },
   "execution_count": 565,
   "outputs": [
    {
     "output_type": "execute_result",
     "data": {
      "text/plain": [
       "0.7105444521019986"
      ]
     },
     "metadata": {},
     "execution_count": 565
    }
   ]
  },
  {
   "cell_type": "code",
   "source": [
    "roc_auc_score(ytest, probs[:,1])"
   ],
   "metadata": {
    "colab": {
     "base_uri": "https://localhost:8080/"
    },
    "id": "5LY1ZrgAj3WQ",
    "outputId": "bec0f9b2-5592-4dd7-d35a-d3e89f18ccfb",
    "pycharm": {
     "name": "#%%\n"
    }
   },
   "execution_count": 566,
   "outputs": [
    {
     "output_type": "execute_result",
     "data": {
      "text/plain": [
       "0.8194767157808122"
      ]
     },
     "metadata": {},
     "execution_count": 566
    }
   ]
  },
  {
   "cell_type": "markdown",
   "source": [
    "## <font color='green'>3.3. Интерпретация модели Логистической регрессии без категориальных признаков</font>\n",
    "\n",
    "После обучения модели можно посмотреть на её веса, то есть на коэффициенты при признаках, найденные моделью."
   ],
   "metadata": {
    "id": "N0qYwySGh9p_",
    "pycharm": {
     "name": "#%% md\n"
    }
   }
  },
  {
   "cell_type": "code",
   "source": [
    "model.coef_, model.intercept_"
   ],
   "metadata": {
    "colab": {
     "base_uri": "https://localhost:8080/"
    },
    "id": "MbBhMrg9h_5o",
    "outputId": "f73558d7-3136-46bd-bd87-14faf7efef59",
    "pycharm": {
     "name": "#%%\n"
    }
   },
   "execution_count": 555,
   "outputs": [
    {
     "output_type": "execute_result",
     "data": {
      "text/plain": [
       "(array([[ 0.05897378,  0.15343664,  1.60026528, -0.36559272,  0.23109457,\n",
       "          0.32158497]]), array([0.01828044]))"
      ]
     },
     "metadata": {},
     "execution_count": 555
    }
   ]
  },
  {
   "cell_type": "code",
   "source": [
    "import pandas as pd\n",
    "\n",
    "coef_table = pd.DataFrame({'features' : list(X.columns), 'weights' : list(model.coef_[0])})\n",
    "\n",
    "coef_table.sort_values(by='weights')"
   ],
   "metadata": {
    "colab": {
     "base_uri": "https://localhost:8080/",
     "height": 237
    },
    "id": "IaQlscwZiiUu",
    "outputId": "69132c95-3c5c-4cb1-cf90-65667b1397fa",
    "pycharm": {
     "name": "#%%\n"
    }
   },
   "execution_count": 556,
   "outputs": [
    {
     "output_type": "execute_result",
     "data": {
      "text/plain": [
       "   features   weights\n",
       "3  campaign -0.365593\n",
       "0       age  0.058974\n",
       "1   balance  0.153437\n",
       "4     pdays  0.231095\n",
       "5  previous  0.321585\n",
       "2  duration  1.600265"
      ],
      "text/html": [
       "\n",
       "  <div id=\"df-bad80196-e0c9-420b-888f-23c15452643c\">\n",
       "    <div class=\"colab-df-container\">\n",
       "      <div>\n",
       "<style scoped>\n",
       "    .dataframe tbody tr th:only-of-type {\n",
       "        vertical-align: middle;\n",
       "    }\n",
       "\n",
       "    .dataframe tbody tr th {\n",
       "        vertical-align: top;\n",
       "    }\n",
       "\n",
       "    .dataframe thead th {\n",
       "        text-align: right;\n",
       "    }\n",
       "</style>\n",
       "<table border=\"1\" class=\"dataframe\">\n",
       "  <thead>\n",
       "    <tr style=\"text-align: right;\">\n",
       "      <th></th>\n",
       "      <th>features</th>\n",
       "      <th>weights</th>\n",
       "    </tr>\n",
       "  </thead>\n",
       "  <tbody>\n",
       "    <tr>\n",
       "      <th>3</th>\n",
       "      <td>campaign</td>\n",
       "      <td>-0.365593</td>\n",
       "    </tr>\n",
       "    <tr>\n",
       "      <th>0</th>\n",
       "      <td>age</td>\n",
       "      <td>0.058974</td>\n",
       "    </tr>\n",
       "    <tr>\n",
       "      <th>1</th>\n",
       "      <td>balance</td>\n",
       "      <td>0.153437</td>\n",
       "    </tr>\n",
       "    <tr>\n",
       "      <th>4</th>\n",
       "      <td>pdays</td>\n",
       "      <td>0.231095</td>\n",
       "    </tr>\n",
       "    <tr>\n",
       "      <th>5</th>\n",
       "      <td>previous</td>\n",
       "      <td>0.321585</td>\n",
       "    </tr>\n",
       "    <tr>\n",
       "      <th>2</th>\n",
       "      <td>duration</td>\n",
       "      <td>1.600265</td>\n",
       "    </tr>\n",
       "  </tbody>\n",
       "</table>\n",
       "</div>\n",
       "      <button class=\"colab-df-convert\" onclick=\"convertToInteractive('df-bad80196-e0c9-420b-888f-23c15452643c')\"\n",
       "              title=\"Convert this dataframe to an interactive table.\"\n",
       "              style=\"display:none;\">\n",
       "        \n",
       "  <svg xmlns=\"http://www.w3.org/2000/svg\" height=\"24px\"viewBox=\"0 0 24 24\"\n",
       "       width=\"24px\">\n",
       "    <path d=\"M0 0h24v24H0V0z\" fill=\"none\"/>\n",
       "    <path d=\"M18.56 5.44l.94 2.06.94-2.06 2.06-.94-2.06-.94-.94-2.06-.94 2.06-2.06.94zm-11 1L8.5 8.5l.94-2.06 2.06-.94-2.06-.94L8.5 2.5l-.94 2.06-2.06.94zm10 10l.94 2.06.94-2.06 2.06-.94-2.06-.94-.94-2.06-.94 2.06-2.06.94z\"/><path d=\"M17.41 7.96l-1.37-1.37c-.4-.4-.92-.59-1.43-.59-.52 0-1.04.2-1.43.59L10.3 9.45l-7.72 7.72c-.78.78-.78 2.05 0 2.83L4 21.41c.39.39.9.59 1.41.59.51 0 1.02-.2 1.41-.59l7.78-7.78 2.81-2.81c.8-.78.8-2.07 0-2.86zM5.41 20L4 18.59l7.72-7.72 1.47 1.35L5.41 20z\"/>\n",
       "  </svg>\n",
       "      </button>\n",
       "      \n",
       "  <style>\n",
       "    .colab-df-container {\n",
       "      display:flex;\n",
       "      flex-wrap:wrap;\n",
       "      gap: 12px;\n",
       "    }\n",
       "\n",
       "    .colab-df-convert {\n",
       "      background-color: #E8F0FE;\n",
       "      border: none;\n",
       "      border-radius: 50%;\n",
       "      cursor: pointer;\n",
       "      display: none;\n",
       "      fill: #1967D2;\n",
       "      height: 32px;\n",
       "      padding: 0 0 0 0;\n",
       "      width: 32px;\n",
       "    }\n",
       "\n",
       "    .colab-df-convert:hover {\n",
       "      background-color: #E2EBFA;\n",
       "      box-shadow: 0px 1px 2px rgba(60, 64, 67, 0.3), 0px 1px 3px 1px rgba(60, 64, 67, 0.15);\n",
       "      fill: #174EA6;\n",
       "    }\n",
       "\n",
       "    [theme=dark] .colab-df-convert {\n",
       "      background-color: #3B4455;\n",
       "      fill: #D2E3FC;\n",
       "    }\n",
       "\n",
       "    [theme=dark] .colab-df-convert:hover {\n",
       "      background-color: #434B5C;\n",
       "      box-shadow: 0px 1px 3px 1px rgba(0, 0, 0, 0.15);\n",
       "      filter: drop-shadow(0px 1px 2px rgba(0, 0, 0, 0.3));\n",
       "      fill: #FFFFFF;\n",
       "    }\n",
       "  </style>\n",
       "\n",
       "      <script>\n",
       "        const buttonEl =\n",
       "          document.querySelector('#df-bad80196-e0c9-420b-888f-23c15452643c button.colab-df-convert');\n",
       "        buttonEl.style.display =\n",
       "          google.colab.kernel.accessAllowed ? 'block' : 'none';\n",
       "\n",
       "        async function convertToInteractive(key) {\n",
       "          const element = document.querySelector('#df-bad80196-e0c9-420b-888f-23c15452643c');\n",
       "          const dataTable =\n",
       "            await google.colab.kernel.invokeFunction('convertToInteractive',\n",
       "                                                     [key], {});\n",
       "          if (!dataTable) return;\n",
       "\n",
       "          const docLinkHtml = 'Like what you see? Visit the ' +\n",
       "            '<a target=\"_blank\" href=https://colab.research.google.com/notebooks/data_table.ipynb>data table notebook</a>'\n",
       "            + ' to learn more about interactive tables.';\n",
       "          element.innerHTML = '';\n",
       "          dataTable['output_type'] = 'display_data';\n",
       "          await google.colab.output.renderOutput(dataTable, element);\n",
       "          const docLink = document.createElement('div');\n",
       "          docLink.innerHTML = docLinkHtml;\n",
       "          element.appendChild(docLink);\n",
       "        }\n",
       "      </script>\n",
       "    </div>\n",
       "  </div>\n",
       "  "
      ]
     },
     "metadata": {},
     "execution_count": 556
    }
   ]
  },
  {
   "cell_type": "markdown",
   "source": [
    "Если вес у признака положительный, то признак вносит положительный вклад в ответ, то есть чем больше значение признака, тем больше это дает вклад в положительный класс объекта и наоборот."
   ],
   "metadata": {
    "id": "52qZjNAHix1M",
    "pycharm": {
     "name": "#%% md\n"
    }
   }
  },
  {
   "cell_type": "code",
   "source": [
    "pd.Series(model.coef_[0], index=Xtrain.columns).nlargest(6).plot(kind='barh',color='blue')\n",
    "plt.show()"
   ],
   "metadata": {
    "colab": {
     "base_uri": "https://localhost:8080/",
     "height": 265
    },
    "id": "4OZX5XvDkrzu",
    "outputId": "4a2f179d-b51e-49ad-8d0c-b5fbf7a377aa",
    "pycharm": {
     "name": "#%%\n"
    }
   },
   "execution_count": 557,
   "outputs": [
    {
     "output_type": "display_data",
     "data": {
      "text/plain": [
       "<Figure size 432x288 with 1 Axes>"
      ],
      "image/png": "[encoded data removed]"
     },
     "metadata": {
      "needs_background": "light"
     }
    }
   ]
  },
  {
   "cell_type": "markdown",
   "source": [
    "## <font color='green'>4. Сохранение результатов экспериментов</font>\n",
    "\n",
    "Что сохраняем?\n",
    "\n",
    "* Предсказания модели\n",
    "* Эксперименты\n",
    "* Модель"
   ],
   "metadata": {
    "id": "_ezdQM9tTcW6",
    "pycharm": {
     "name": "#%% md\n"
    }
   }
  },
  {
   "cell_type": "markdown",
   "source": [
    "Сначала сохраним предсказания модели в файл:"
   ],
   "metadata": {
    "id": "ACp_KXUatce-",
    "pycharm": {
     "name": "#%% md\n"
    }
   }
  },
  {
   "cell_type": "code",
   "source": [
    "Xtest['predictions'] = probs_deposit\n",
    "\n",
    "Xtest.to_csv(\"PredictionsDeposit.csv\", index=False)"
   ],
   "metadata": {
    "id": "ouz9PHNZtLnb",
    "pycharm": {
     "name": "#%%\n"
    }
   },
   "execution_count": null,
   "outputs": []
  },
  {
   "cell_type": "markdown",
   "source": [
    "Теперь сохраним саму модель:"
   ],
   "metadata": {
    "id": "oC9ZLJi0tftb",
    "pycharm": {
     "name": "#%% md\n"
    }
   }
  },
  {
   "cell_type": "code",
   "source": [
    "import pickle \n",
    "\n",
    "with open('model.pickle', 'wb') as f:\n",
    "    pickle.dump(model, f)\n",
    "\n",
    "# а так модель можно загрузить из файла:  \n",
    "# with open('filename.pickle', 'rb') as f:\n",
    "#     model = pickle.load(f)"
   ],
   "metadata": {
    "id": "3HBU7ogWtfP6",
    "pycharm": {
     "name": "#%%\n"
    }
   },
   "execution_count": null,
   "outputs": []
  },
  {
   "cell_type": "markdown",
   "source": [],
   "metadata": {
    "id": "Jj9zwt5ds8Eh",
    "pycharm": {
     "name": "#%% md\n"
    }
   }
  },
  {
   "cell_type": "markdown",
   "source": [
    "## <font color='green'>5. Градиентный бустинг без категориальных признаков</font>\n",
    "\n",
    "Мы поработали с линейными моделями. Они весьма и весьма простые — предполагают независимость признаков и линейную связь между каждым признаком и целевой переменной. Конечно, в наших данных вряд ли всё так просто. Можно пытаться усложнять линейные модели: добавлять нелинейные признаки, переходить в новое признаковое пространство. Но это всё полумеры.\n",
    "\n",
    "Сейчас мы поработаем с градиентным бустингом — одним из самых мощных подходов для работы с табличными данными."
   ],
   "metadata": {
    "id": "uEfHkqnRJZZK",
    "pycharm": {
     "name": "#%% md\n"
    }
   }
  },
  {
   "cell_type": "markdown",
   "source": [
    "Пока не ушли далеко — посчитаем и запомним качество логистической регрессии."
   ],
   "metadata": {
    "id": "As0QncNzJbxo",
    "pycharm": {
     "name": "#%% md\n"
    }
   }
  },
  {
   "cell_type": "code",
   "source": [
    "from sklearn import metrics\n",
    "\n",
    "print(\"LR quality:\")\n",
    "print(\"precision: \", metrics.precision_score(ytest, classes))\n",
    "print(\"recall: \", metrics.recall_score(ytest, classes))\n",
    "print(\"auc-roc: \", metrics.roc_auc_score(ytest, probs[:, 1]))"
   ],
   "metadata": {
    "colab": {
     "base_uri": "https://localhost:8080/"
    },
    "id": "RyEjdXuSJeWb",
    "outputId": "59efe23f-0a15-4a66-a764-b065ba599be4",
    "pycharm": {
     "name": "#%%\n"
    }
   },
   "execution_count": 567,
   "outputs": [
    {
     "output_type": "stream",
     "name": "stdout",
     "text": [
      "LR quality:\n",
      "precision:  0.7105444521019986\n",
      "recall:  0.7688292319164802\n",
      "auc-roc:  0.8194767157808122\n"
     ]
    }
   ]
  },
  {
   "cell_type": "markdown",
   "source": [
    "Есть много имплементаций градиентного бустинга. Мы будем пользоваться CatBoost — библиотекой от Яндекса, которая очень эффективно написана и широко используется в мире."
   ],
   "metadata": {
    "id": "qzeEmrDkJiHI",
    "pycharm": {
     "name": "#%% md\n"
    }
   }
  },
  {
   "cell_type": "code",
   "source": [
    "!pip install catboost"
   ],
   "metadata": {
    "colab": {
     "base_uri": "https://localhost:8080/"
    },
    "id": "LgReBvRcZtF8",
    "outputId": "14e58f57-0cda-40a1-8515-4c812f8f3081",
    "pycharm": {
     "name": "#%%\n"
    }
   },
   "execution_count": 568,
   "outputs": [
    {
     "output_type": "stream",
     "name": "stdout",
     "text": [
      "Looking in indexes: https://pypi.org/simple, https://us-python.pkg.dev/colab-wheels/public/simple/\n",
      "Requirement already satisfied: catboost in /usr/local/lib/python3.8/dist-packages (1.1.1)\n",
      "Requirement already satisfied: scipy in /usr/local/lib/python3.8/dist-packages (from catboost) (1.7.3)\n",
      "Requirement already satisfied: numpy>=1.16.0 in /usr/local/lib/python3.8/dist-packages (from catboost) (1.22.4)\n",
      "Requirement already satisfied: six in /usr/local/lib/python3.8/dist-packages (from catboost) (1.15.0)\n",
      "Requirement already satisfied: matplotlib in /usr/local/lib/python3.8/dist-packages (from catboost) (3.5.3)\n",
      "Requirement already satisfied: plotly in /usr/local/lib/python3.8/dist-packages (from catboost) (5.5.0)\n",
      "Requirement already satisfied: pandas>=0.24.0 in /usr/local/lib/python3.8/dist-packages (from catboost) (1.3.5)\n",
      "Requirement already satisfied: graphviz in /usr/local/lib/python3.8/dist-packages (from catboost) (0.10.1)\n",
      "Requirement already satisfied: pytz>=2017.3 in /usr/local/lib/python3.8/dist-packages (from pandas>=0.24.0->catboost) (2022.7.1)\n",
      "Requirement already satisfied: python-dateutil>=2.7.3 in /usr/local/lib/python3.8/dist-packages (from pandas>=0.24.0->catboost) (2.8.2)\n",
      "Requirement already satisfied: pillow>=6.2.0 in /usr/local/lib/python3.8/dist-packages (from matplotlib->catboost) (8.4.0)\n",
      "Requirement already satisfied: cycler>=0.10 in /usr/local/lib/python3.8/dist-packages (from matplotlib->catboost) (0.11.0)\n",
      "Requirement already satisfied: packaging>=20.0 in /usr/local/lib/python3.8/dist-packages (from matplotlib->catboost) (23.0)\n",
      "Requirement already satisfied: fonttools>=4.22.0 in /usr/local/lib/python3.8/dist-packages (from matplotlib->catboost) (4.38.0)\n",
      "Requirement already satisfied: pyparsing>=2.2.1 in /usr/local/lib/python3.8/dist-packages (from matplotlib->catboost) (3.0.9)\n",
      "Requirement already satisfied: kiwisolver>=1.0.1 in /usr/local/lib/python3.8/dist-packages (from matplotlib->catboost) (1.4.4)\n",
      "Requirement already satisfied: tenacity>=6.2.0 in /usr/local/lib/python3.8/dist-packages (from plotly->catboost) (8.2.1)\n"
     ]
    }
   ]
  },
  {
   "cell_type": "code",
   "source": [
    "from catboost import CatBoostClassifier, Pool"
   ],
   "metadata": {
    "id": "Ar8ox6FTJm21",
    "pycharm": {
     "name": "#%%\n"
    }
   },
   "execution_count": 569,
   "outputs": []
  },
  {
   "cell_type": "code",
   "source": [
    "train_set = Pool(Xtrain, ytrain)\n",
    "test_set = Pool(Xtest, ytest)"
   ],
   "metadata": {
    "id": "mlu4VEnmJoys",
    "pycharm": {
     "name": "#%%\n"
    }
   },
   "execution_count": 570,
   "outputs": []
  },
  {
   "cell_type": "code",
   "source": [
    "gbm = CatBoostClassifier(iterations=500, #сколько деревьев\n",
    "                          depth=2, #глубина каждого дерева\n",
    "                          learning_rate=0.1,\n",
    "                          loss_function='Logloss',\n",
    "                          eval_metric='AUC',\n",
    "                          verbose=False)\n",
    "gbm.fit(train_set, eval_set=test_set)\n",
    "gbm_preds = gbm.predict_proba(Xtest)"
   ],
   "metadata": {
    "id": "AUxJkJTtJp53",
    "pycharm": {
     "name": "#%%\n"
    }
   },
   "execution_count": 571,
   "outputs": []
  },
  {
   "cell_type": "code",
   "source": [
    "eval_metrics = gbm.get_evals_result()\n",
    "plt.plot(eval_metrics['validation']['AUC'])\n",
    "plt.xlabel('n_trees')\n",
    "plt.ylabel('AUC')\n",
    "plt.grid()"
   ],
   "metadata": {
    "id": "NAAjvSpFJrfv",
    "colab": {
     "base_uri": "https://localhost:8080/",
     "height": 280
    },
    "outputId": "540c611a-71c3-4bc6-a439-6fb413cfb75d",
    "pycharm": {
     "name": "#%%\n"
    }
   },
   "execution_count": 572,
   "outputs": [
    {
     "output_type": "display_data",
     "data": {
      "text/plain": [
       "<Figure size 432x288 with 1 Axes>"
      ],
      "image/png": "[encoded data removed]"
     },
     "metadata": {
      "needs_background": "light"
     }
    }
   ]
  },
  {
   "cell_type": "code",
   "source": [
    "gbm_classes = (gbm_preds[:, 1] > 0.4)\n",
    "print(\"precision: \", metrics.precision_score(ytest, gbm_classes))\n",
    "print(\"recall: \", metrics.recall_score(ytest, gbm_classes))\n",
    "print(\"auc-roc: \", metrics.roc_auc_score(ytest, gbm_preds[:, 1]))"
   ],
   "metadata": {
    "id": "aRaf3UMBJtIY",
    "colab": {
     "base_uri": "https://localhost:8080/"
    },
    "outputId": "c178fc82-06da-4133-cdc1-5e7e5c63efb8",
    "pycharm": {
     "name": "#%%\n"
    }
   },
   "execution_count": 573,
   "outputs": [
    {
     "output_type": "stream",
     "name": "stdout",
     "text": [
      "precision:  0.7493368700265252\n",
      "recall:  0.8426547352721849\n",
      "auc-roc:  0.8710560826969067\n"
     ]
    }
   ]
  },
  {
   "cell_type": "markdown",
   "source": [
    "Интерпретация модели"
   ],
   "metadata": {
    "id": "obEU8PccnHyT",
    "pycharm": {
     "name": "#%% md\n"
    }
   }
  },
  {
   "cell_type": "code",
   "source": [
    "coef_table = pd.DataFrame({'features' : list(X.columns), 'importances' : list(gbm.get_feature_importance())})\n",
    "\n",
    "coef_table.sort_values(by='importances')"
   ],
   "metadata": {
    "id": "ljXfI8YoJu0I",
    "colab": {
     "base_uri": "https://localhost:8080/",
     "height": 237
    },
    "outputId": "19efe411-b626-4c4c-bcda-907c754a80ca",
    "pycharm": {
     "name": "#%%\n"
    }
   },
   "execution_count": 574,
   "outputs": [
    {
     "output_type": "execute_result",
     "data": {
      "text/plain": [
       "   features  importances\n",
       "3  campaign     2.776676\n",
       "5  previous     6.668387\n",
       "1   balance     7.380136\n",
       "0       age     9.492366\n",
       "4     pdays    15.515252\n",
       "2  duration    58.167182"
      ],
      "text/html": [
       "\n",
       "  <div id=\"df-3e2b227e-2533-41bd-b489-a9ff786c6511\">\n",
       "    <div class=\"colab-df-container\">\n",
       "      <div>\n",
       "<style scoped>\n",
       "    .dataframe tbody tr th:only-of-type {\n",
       "        vertical-align: middle;\n",
       "    }\n",
       "\n",
       "    .dataframe tbody tr th {\n",
       "        vertical-align: top;\n",
       "    }\n",
       "\n",
       "    .dataframe thead th {\n",
       "        text-align: right;\n",
       "    }\n",
       "</style>\n",
       "<table border=\"1\" class=\"dataframe\">\n",
       "  <thead>\n",
       "    <tr style=\"text-align: right;\">\n",
       "      <th></th>\n",
       "      <th>features</th>\n",
       "      <th>importances</th>\n",
       "    </tr>\n",
       "  </thead>\n",
       "  <tbody>\n",
       "    <tr>\n",
       "      <th>3</th>\n",
       "      <td>campaign</td>\n",
       "      <td>2.776676</td>\n",
       "    </tr>\n",
       "    <tr>\n",
       "      <th>5</th>\n",
       "      <td>previous</td>\n",
       "      <td>6.668387</td>\n",
       "    </tr>\n",
       "    <tr>\n",
       "      <th>1</th>\n",
       "      <td>balance</td>\n",
       "      <td>7.380136</td>\n",
       "    </tr>\n",
       "    <tr>\n",
       "      <th>0</th>\n",
       "      <td>age</td>\n",
       "      <td>9.492366</td>\n",
       "    </tr>\n",
       "    <tr>\n",
       "      <th>4</th>\n",
       "      <td>pdays</td>\n",
       "      <td>15.515252</td>\n",
       "    </tr>\n",
       "    <tr>\n",
       "      <th>2</th>\n",
       "      <td>duration</td>\n",
       "      <td>58.167182</td>\n",
       "    </tr>\n",
       "  </tbody>\n",
       "</table>\n",
       "</div>\n",
       "      <button class=\"colab-df-convert\" onclick=\"convertToInteractive('df-3e2b227e-2533-41bd-b489-a9ff786c6511')\"\n",
       "              title=\"Convert this dataframe to an interactive table.\"\n",
       "              style=\"display:none;\">\n",
       "        \n",
       "  <svg xmlns=\"http://www.w3.org/2000/svg\" height=\"24px\"viewBox=\"0 0 24 24\"\n",
       "       width=\"24px\">\n",
       "    <path d=\"M0 0h24v24H0V0z\" fill=\"none\"/>\n",
       "    <path d=\"M18.56 5.44l.94 2.06.94-2.06 2.06-.94-2.06-.94-.94-2.06-.94 2.06-2.06.94zm-11 1L8.5 8.5l.94-2.06 2.06-.94-2.06-.94L8.5 2.5l-.94 2.06-2.06.94zm10 10l.94 2.06.94-2.06 2.06-.94-2.06-.94-.94-2.06-.94 2.06-2.06.94z\"/><path d=\"M17.41 7.96l-1.37-1.37c-.4-.4-.92-.59-1.43-.59-.52 0-1.04.2-1.43.59L10.3 9.45l-7.72 7.72c-.78.78-.78 2.05 0 2.83L4 21.41c.39.39.9.59 1.41.59.51 0 1.02-.2 1.41-.59l7.78-7.78 2.81-2.81c.8-.78.8-2.07 0-2.86zM5.41 20L4 18.59l7.72-7.72 1.47 1.35L5.41 20z\"/>\n",
       "  </svg>\n",
       "      </button>\n",
       "      \n",
       "  <style>\n",
       "    .colab-df-container {\n",
       "      display:flex;\n",
       "      flex-wrap:wrap;\n",
       "      gap: 12px;\n",
       "    }\n",
       "\n",
       "    .colab-df-convert {\n",
       "      background-color: #E8F0FE;\n",
       "      border: none;\n",
       "      border-radius: 50%;\n",
       "      cursor: pointer;\n",
       "      display: none;\n",
       "      fill: #1967D2;\n",
       "      height: 32px;\n",
       "      padding: 0 0 0 0;\n",
       "      width: 32px;\n",
       "    }\n",
       "\n",
       "    .colab-df-convert:hover {\n",
       "      background-color: #E2EBFA;\n",
       "      box-shadow: 0px 1px 2px rgba(60, 64, 67, 0.3), 0px 1px 3px 1px rgba(60, 64, 67, 0.15);\n",
       "      fill: #174EA6;\n",
       "    }\n",
       "\n",
       "    [theme=dark] .colab-df-convert {\n",
       "      background-color: #3B4455;\n",
       "      fill: #D2E3FC;\n",
       "    }\n",
       "\n",
       "    [theme=dark] .colab-df-convert:hover {\n",
       "      background-color: #434B5C;\n",
       "      box-shadow: 0px 1px 3px 1px rgba(0, 0, 0, 0.15);\n",
       "      filter: drop-shadow(0px 1px 2px rgba(0, 0, 0, 0.3));\n",
       "      fill: #FFFFFF;\n",
       "    }\n",
       "  </style>\n",
       "\n",
       "      <script>\n",
       "        const buttonEl =\n",
       "          document.querySelector('#df-3e2b227e-2533-41bd-b489-a9ff786c6511 button.colab-df-convert');\n",
       "        buttonEl.style.display =\n",
       "          google.colab.kernel.accessAllowed ? 'block' : 'none';\n",
       "\n",
       "        async function convertToInteractive(key) {\n",
       "          const element = document.querySelector('#df-3e2b227e-2533-41bd-b489-a9ff786c6511');\n",
       "          const dataTable =\n",
       "            await google.colab.kernel.invokeFunction('convertToInteractive',\n",
       "                                                     [key], {});\n",
       "          if (!dataTable) return;\n",
       "\n",
       "          const docLinkHtml = 'Like what you see? Visit the ' +\n",
       "            '<a target=\"_blank\" href=https://colab.research.google.com/notebooks/data_table.ipynb>data table notebook</a>'\n",
       "            + ' to learn more about interactive tables.';\n",
       "          element.innerHTML = '';\n",
       "          dataTable['output_type'] = 'display_data';\n",
       "          await google.colab.output.renderOutput(dataTable, element);\n",
       "          const docLink = document.createElement('div');\n",
       "          docLink.innerHTML = docLinkHtml;\n",
       "          element.appendChild(docLink);\n",
       "        }\n",
       "      </script>\n",
       "    </div>\n",
       "  </div>\n",
       "  "
      ]
     },
     "metadata": {},
     "execution_count": 574
    }
   ]
  },
  {
   "cell_type": "code",
   "source": [
    "pd.Series(gbm.feature_importances_, index=Xtrain.columns).nlargest(6).plot(kind='barh',color='blue')\n",
    "plt.show()"
   ],
   "metadata": {
    "colab": {
     "base_uri": "https://localhost:8080/",
     "height": 265
    },
    "id": "Sa7gK-HcnF-Y",
    "outputId": "004021a0-9e2d-4a46-ff38-b101d8d8a3b9",
    "pycharm": {
     "name": "#%%\n"
    }
   },
   "execution_count": 575,
   "outputs": [
    {
     "output_type": "display_data",
     "data": {
      "text/plain": [
       "<Figure size 432x288 with 1 Axes>"
      ],
      "image/png": "[encoded data removed]"
     },
     "metadata": {
      "needs_background": "light"
     }
    }
   ]
  },
  {
   "cell_type": "markdown",
   "source": [
    "## <font color='green'>6.1. Обработка категориальных признаков - Логистическая регрессия</font>"
   ],
   "metadata": {
    "id": "eBiOpVHgJzI0",
    "pycharm": {
     "name": "#%% md\n"
    }
   }
  },
  {
   "cell_type": "markdown",
   "source": [
    "Выше мы удаляли все категориальные столбцы:\n",
    "\n",
    "`X = X.drop(['job','marital','education','default','housing','loan','contact','month','poutcome','day'], axis=1)`\n",
    "\n",
    "А вдруг там содержится много полезной информации? Попробуем её сохранить."
   ],
   "metadata": {
    "id": "MqjAlhlMJzvS",
    "pycharm": {
     "name": "#%% md\n"
    }
   }
  },
  {
   "cell_type": "code",
   "source": [
    "X_full = data.drop('deposit', axis=1)"
   ],
   "metadata": {
    "id": "8UdAKSSoeJod",
    "pycharm": {
     "name": "#%%\n"
    }
   },
   "execution_count": 576,
   "outputs": []
  },
  {
   "cell_type": "code",
   "source": [
    "X_full.dtypes"
   ],
   "metadata": {
    "id": "XWtHYbjMeZHl",
    "colab": {
     "base_uri": "https://localhost:8080/"
    },
    "outputId": "d302962b-fdf7-414a-e087-a4cd7aab260d",
    "pycharm": {
     "name": "#%%\n"
    }
   },
   "execution_count": 577,
   "outputs": [
    {
     "output_type": "execute_result",
     "data": {
      "text/plain": [
       "age           int64\n",
       "job          object\n",
       "marital      object\n",
       "education    object\n",
       "default      object\n",
       "balance       int64\n",
       "housing      object\n",
       "loan         object\n",
       "contact      object\n",
       "day          object\n",
       "month        object\n",
       "duration      int64\n",
       "campaign      int64\n",
       "pdays         int64\n",
       "previous      int64\n",
       "poutcome     object\n",
       "dtype: object"
      ]
     },
     "metadata": {},
     "execution_count": 577
    }
   ]
  },
  {
   "cell_type": "code",
   "source": [
    "Xtrain, Xtest, ytrain, ytest = train_test_split(X_full, y, test_size=0.25, random_state=42)"
   ],
   "metadata": {
    "id": "dU6z3eNDJ2sn",
    "pycharm": {
     "name": "#%%\n"
    }
   },
   "execution_count": 578,
   "outputs": []
  },
  {
   "cell_type": "markdown",
   "source": [
    "Закодируем при помощи OneHot-encoding категориальные столбцы."
   ],
   "metadata": {
    "id": "fDb3jyttpBL1",
    "pycharm": {
     "name": "#%% md\n"
    }
   }
  },
  {
   "cell_type": "code",
   "source": [
    "categorical = ['job','marital','education','default','housing','loan','contact','month','poutcome','day']\n",
    "\n",
    "OH_encoder = OneHotEncoder(handle_unknown='ignore', sparse=False)\n",
    "\n",
    "Xtrain_ohe = pd.DataFrame(OH_encoder.fit_transform(Xtrain[categorical]), columns=OH_encoder.get_feature_names())\n",
    "Xtest_ohe = pd.DataFrame(OH_encoder.transform(Xtest[categorical]), columns=OH_encoder.get_feature_names())"
   ],
   "metadata": {
    "id": "Mr72tQT4c2kB",
    "pycharm": {
     "name": "#%%\n"
    }
   },
   "execution_count": 579,
   "outputs": []
  },
  {
   "cell_type": "code",
   "source": [
    "Xtrain_ohe.head()"
   ],
   "metadata": {
    "colab": {
     "base_uri": "https://localhost:8080/",
     "height": 317
    },
    "id": "bSQfciNadHeu",
    "outputId": "e24fb5cf-b9ee-4a4a-b4cb-7f3b18d950aa",
    "pycharm": {
     "name": "#%%\n"
    }
   },
   "execution_count": 580,
   "outputs": [
    {
     "output_type": "execute_result",
     "data": {
      "text/plain": [
       "   x0_admin.  x0_blue-collar  x0_entrepreneur  x0_housemaid  x0_management  \\\n",
       "0        0.0             0.0              0.0           0.0            0.0   \n",
       "1        0.0             0.0              0.0           0.0            1.0   \n",
       "2        0.0             0.0              0.0           0.0            0.0   \n",
       "3        1.0             0.0              0.0           0.0            0.0   \n",
       "4        0.0             0.0              0.0           0.0            0.0   \n",
       "\n",
       "   x0_retired  x0_self-employed  x0_services  x0_student  x0_technician  ...  \\\n",
       "0         1.0               0.0          0.0         0.0            0.0  ...   \n",
       "1         0.0               0.0          0.0         0.0            0.0  ...   \n",
       "2         0.0               0.0          0.0         0.0            1.0  ...   \n",
       "3         0.0               0.0          0.0         0.0            0.0  ...   \n",
       "4         0.0               0.0          0.0         0.0            1.0  ...   \n",
       "\n",
       "   x9_22  x9_23  x9_24  x9_25  x9_26  x9_27  x9_28  x9_29  x9_30  x9_31  \n",
       "0    0.0    0.0    0.0    0.0    0.0    0.0    0.0    0.0    0.0    0.0  \n",
       "1    0.0    0.0    0.0    0.0    0.0    0.0    0.0    0.0    0.0    0.0  \n",
       "2    0.0    0.0    0.0    0.0    0.0    0.0    0.0    0.0    0.0    0.0  \n",
       "3    0.0    0.0    0.0    0.0    0.0    0.0    0.0    0.0    0.0    0.0  \n",
       "4    0.0    0.0    0.0    0.0    0.0    0.0    0.0    0.0    0.0    0.0  \n",
       "\n",
       "[5 rows x 75 columns]"
      ],
      "text/html": [
       "\n",
       "  <div id=\"df-224b7084-6fef-45ff-80b4-99380e62dfe3\">\n",
       "    <div class=\"colab-df-container\">\n",
       "      <div>\n",
       "<style scoped>\n",
       "    .dataframe tbody tr th:only-of-type {\n",
       "        vertical-align: middle;\n",
       "    }\n",
       "\n",
       "    .dataframe tbody tr th {\n",
       "        vertical-align: top;\n",
       "    }\n",
       "\n",
       "    .dataframe thead th {\n",
       "        text-align: right;\n",
       "    }\n",
       "</style>\n",
       "<table border=\"1\" class=\"dataframe\">\n",
       "  <thead>\n",
       "    <tr style=\"text-align: right;\">\n",
       "      <th></th>\n",
       "      <th>x0_admin.</th>\n",
       "      <th>x0_blue-collar</th>\n",
       "      <th>x0_entrepreneur</th>\n",
       "      <th>x0_housemaid</th>\n",
       "      <th>x0_management</th>\n",
       "      <th>x0_retired</th>\n",
       "      <th>x0_self-employed</th>\n",
       "      <th>x0_services</th>\n",
       "      <th>x0_student</th>\n",
       "      <th>x0_technician</th>\n",
       "      <th>...</th>\n",
       "      <th>x9_22</th>\n",
       "      <th>x9_23</th>\n",
       "      <th>x9_24</th>\n",
       "      <th>x9_25</th>\n",
       "      <th>x9_26</th>\n",
       "      <th>x9_27</th>\n",
       "      <th>x9_28</th>\n",
       "      <th>x9_29</th>\n",
       "      <th>x9_30</th>\n",
       "      <th>x9_31</th>\n",
       "    </tr>\n",
       "  </thead>\n",
       "  <tbody>\n",
       "    <tr>\n",
       "      <th>0</th>\n",
       "      <td>0.0</td>\n",
       "      <td>0.0</td>\n",
       "      <td>0.0</td>\n",
       "      <td>0.0</td>\n",
       "      <td>0.0</td>\n",
       "      <td>1.0</td>\n",
       "      <td>0.0</td>\n",
       "      <td>0.0</td>\n",
       "      <td>0.0</td>\n",
       "      <td>0.0</td>\n",
       "      <td>...</td>\n",
       "      <td>0.0</td>\n",
       "      <td>0.0</td>\n",
       "      <td>0.0</td>\n",
       "      <td>0.0</td>\n",
       "      <td>0.0</td>\n",
       "      <td>0.0</td>\n",
       "      <td>0.0</td>\n",
       "      <td>0.0</td>\n",
       "      <td>0.0</td>\n",
       "      <td>0.0</td>\n",
       "    </tr>\n",
       "    <tr>\n",
       "      <th>1</th>\n",
       "      <td>0.0</td>\n",
       "      <td>0.0</td>\n",
       "      <td>0.0</td>\n",
       "      <td>0.0</td>\n",
       "      <td>1.0</td>\n",
       "      <td>0.0</td>\n",
       "      <td>0.0</td>\n",
       "      <td>0.0</td>\n",
       "      <td>0.0</td>\n",
       "      <td>0.0</td>\n",
       "      <td>...</td>\n",
       "      <td>0.0</td>\n",
       "      <td>0.0</td>\n",
       "      <td>0.0</td>\n",
       "      <td>0.0</td>\n",
       "      <td>0.0</td>\n",
       "      <td>0.0</td>\n",
       "      <td>0.0</td>\n",
       "      <td>0.0</td>\n",
       "      <td>0.0</td>\n",
       "      <td>0.0</td>\n",
       "    </tr>\n",
       "    <tr>\n",
       "      <th>2</th>\n",
       "      <td>0.0</td>\n",
       "      <td>0.0</td>\n",
       "      <td>0.0</td>\n",
       "      <td>0.0</td>\n",
       "      <td>0.0</td>\n",
       "      <td>0.0</td>\n",
       "      <td>0.0</td>\n",
       "      <td>0.0</td>\n",
       "      <td>0.0</td>\n",
       "      <td>1.0</td>\n",
       "      <td>...</td>\n",
       "      <td>0.0</td>\n",
       "      <td>0.0</td>\n",
       "      <td>0.0</td>\n",
       "      <td>0.0</td>\n",
       "      <td>0.0</td>\n",
       "      <td>0.0</td>\n",
       "      <td>0.0</td>\n",
       "      <td>0.0</td>\n",
       "      <td>0.0</td>\n",
       "      <td>0.0</td>\n",
       "    </tr>\n",
       "    <tr>\n",
       "      <th>3</th>\n",
       "      <td>1.0</td>\n",
       "      <td>0.0</td>\n",
       "      <td>0.0</td>\n",
       "      <td>0.0</td>\n",
       "      <td>0.0</td>\n",
       "      <td>0.0</td>\n",
       "      <td>0.0</td>\n",
       "      <td>0.0</td>\n",
       "      <td>0.0</td>\n",
       "      <td>0.0</td>\n",
       "      <td>...</td>\n",
       "      <td>0.0</td>\n",
       "      <td>0.0</td>\n",
       "      <td>0.0</td>\n",
       "      <td>0.0</td>\n",
       "      <td>0.0</td>\n",
       "      <td>0.0</td>\n",
       "      <td>0.0</td>\n",
       "      <td>0.0</td>\n",
       "      <td>0.0</td>\n",
       "      <td>0.0</td>\n",
       "    </tr>\n",
       "    <tr>\n",
       "      <th>4</th>\n",
       "      <td>0.0</td>\n",
       "      <td>0.0</td>\n",
       "      <td>0.0</td>\n",
       "      <td>0.0</td>\n",
       "      <td>0.0</td>\n",
       "      <td>0.0</td>\n",
       "      <td>0.0</td>\n",
       "      <td>0.0</td>\n",
       "      <td>0.0</td>\n",
       "      <td>1.0</td>\n",
       "      <td>...</td>\n",
       "      <td>0.0</td>\n",
       "      <td>0.0</td>\n",
       "      <td>0.0</td>\n",
       "      <td>0.0</td>\n",
       "      <td>0.0</td>\n",
       "      <td>0.0</td>\n",
       "      <td>0.0</td>\n",
       "      <td>0.0</td>\n",
       "      <td>0.0</td>\n",
       "      <td>0.0</td>\n",
       "    </tr>\n",
       "  </tbody>\n",
       "</table>\n",
       "<p>5 rows × 75 columns</p>\n",
       "</div>\n",
       "      <button class=\"colab-df-convert\" onclick=\"convertToInteractive('df-224b7084-6fef-45ff-80b4-99380e62dfe3')\"\n",
       "              title=\"Convert this dataframe to an interactive table.\"\n",
       "              style=\"display:none;\">\n",
       "        \n",
       "  <svg xmlns=\"http://www.w3.org/2000/svg\" height=\"24px\"viewBox=\"0 0 24 24\"\n",
       "       width=\"24px\">\n",
       "    <path d=\"M0 0h24v24H0V0z\" fill=\"none\"/>\n",
       "    <path d=\"M18.56 5.44l.94 2.06.94-2.06 2.06-.94-2.06-.94-.94-2.06-.94 2.06-2.06.94zm-11 1L8.5 8.5l.94-2.06 2.06-.94-2.06-.94L8.5 2.5l-.94 2.06-2.06.94zm10 10l.94 2.06.94-2.06 2.06-.94-2.06-.94-.94-2.06-.94 2.06-2.06.94z\"/><path d=\"M17.41 7.96l-1.37-1.37c-.4-.4-.92-.59-1.43-.59-.52 0-1.04.2-1.43.59L10.3 9.45l-7.72 7.72c-.78.78-.78 2.05 0 2.83L4 21.41c.39.39.9.59 1.41.59.51 0 1.02-.2 1.41-.59l7.78-7.78 2.81-2.81c.8-.78.8-2.07 0-2.86zM5.41 20L4 18.59l7.72-7.72 1.47 1.35L5.41 20z\"/>\n",
       "  </svg>\n",
       "      </button>\n",
       "      \n",
       "  <style>\n",
       "    .colab-df-container {\n",
       "      display:flex;\n",
       "      flex-wrap:wrap;\n",
       "      gap: 12px;\n",
       "    }\n",
       "\n",
       "    .colab-df-convert {\n",
       "      background-color: #E8F0FE;\n",
       "      border: none;\n",
       "      border-radius: 50%;\n",
       "      cursor: pointer;\n",
       "      display: none;\n",
       "      fill: #1967D2;\n",
       "      height: 32px;\n",
       "      padding: 0 0 0 0;\n",
       "      width: 32px;\n",
       "    }\n",
       "\n",
       "    .colab-df-convert:hover {\n",
       "      background-color: #E2EBFA;\n",
       "      box-shadow: 0px 1px 2px rgba(60, 64, 67, 0.3), 0px 1px 3px 1px rgba(60, 64, 67, 0.15);\n",
       "      fill: #174EA6;\n",
       "    }\n",
       "\n",
       "    [theme=dark] .colab-df-convert {\n",
       "      background-color: #3B4455;\n",
       "      fill: #D2E3FC;\n",
       "    }\n",
       "\n",
       "    [theme=dark] .colab-df-convert:hover {\n",
       "      background-color: #434B5C;\n",
       "      box-shadow: 0px 1px 3px 1px rgba(0, 0, 0, 0.15);\n",
       "      filter: drop-shadow(0px 1px 2px rgba(0, 0, 0, 0.3));\n",
       "      fill: #FFFFFF;\n",
       "    }\n",
       "  </style>\n",
       "\n",
       "      <script>\n",
       "        const buttonEl =\n",
       "          document.querySelector('#df-224b7084-6fef-45ff-80b4-99380e62dfe3 button.colab-df-convert');\n",
       "        buttonEl.style.display =\n",
       "          google.colab.kernel.accessAllowed ? 'block' : 'none';\n",
       "\n",
       "        async function convertToInteractive(key) {\n",
       "          const element = document.querySelector('#df-224b7084-6fef-45ff-80b4-99380e62dfe3');\n",
       "          const dataTable =\n",
       "            await google.colab.kernel.invokeFunction('convertToInteractive',\n",
       "                                                     [key], {});\n",
       "          if (!dataTable) return;\n",
       "\n",
       "          const docLinkHtml = 'Like what you see? Visit the ' +\n",
       "            '<a target=\"_blank\" href=https://colab.research.google.com/notebooks/data_table.ipynb>data table notebook</a>'\n",
       "            + ' to learn more about interactive tables.';\n",
       "          element.innerHTML = '';\n",
       "          dataTable['output_type'] = 'display_data';\n",
       "          await google.colab.output.renderOutput(dataTable, element);\n",
       "          const docLink = document.createElement('div');\n",
       "          docLink.innerHTML = docLinkHtml;\n",
       "          element.appendChild(docLink);\n",
       "        }\n",
       "      </script>\n",
       "    </div>\n",
       "  </div>\n",
       "  "
      ]
     },
     "metadata": {},
     "execution_count": 580
    }
   ]
  },
  {
   "cell_type": "markdown",
   "source": [
    "Масштабируем числовые столбцы."
   ],
   "metadata": {
    "id": "DN1cYEfPt8r_",
    "pycharm": {
     "name": "#%% md\n"
    }
   }
  },
  {
   "cell_type": "code",
   "source": [
    "numeric = [col for col in Xtrain.columns if col not in categorical]\n",
    "numeric"
   ],
   "metadata": {
    "colab": {
     "base_uri": "https://localhost:8080/"
    },
    "id": "t3PZ9ZEddLcz",
    "outputId": "2ec01a8d-6052-453e-94cd-cc37966538f6",
    "pycharm": {
     "name": "#%%\n"
    }
   },
   "execution_count": 581,
   "outputs": [
    {
     "output_type": "execute_result",
     "data": {
      "text/plain": [
       "['age', 'balance', 'duration', 'campaign', 'pdays', 'previous']"
      ]
     },
     "metadata": {},
     "execution_count": 581
    }
   ]
  },
  {
   "cell_type": "code",
   "source": [
    "from sklearn.preprocessing import MinMaxScaler\n",
    "\n",
    "Xtrain_num = Xtrain[numeric]\n",
    "Xtest_num = Xtest[numeric]\n",
    "\n",
    "scaler = MinMaxScaler()\n",
    "scaler.fit(Xtrain_num)\n",
    "\n",
    "Xtrain_num = pd.DataFrame(scaler.transform(Xtrain_num), columns=Xtrain_num.columns)\n",
    "Xtest_num = pd.DataFrame(scaler.transform(Xtest_num), columns=Xtest_num.columns)"
   ],
   "metadata": {
    "id": "5GGBk8b1dRbY",
    "pycharm": {
     "name": "#%%\n"
    }
   },
   "execution_count": 582,
   "outputs": []
  },
  {
   "cell_type": "markdown",
   "source": [
    "Собираем итоговые матрицы признаков."
   ],
   "metadata": {
    "id": "zslI6_xtuHK3",
    "pycharm": {
     "name": "#%% md\n"
    }
   }
  },
  {
   "cell_type": "code",
   "source": [
    "Xtrain_good = pd.concat([Xtrain_num, Xtrain_ohe], axis=1)\n",
    "Xtest_good = pd.concat([Xtest_num, Xtest_ohe], axis=1)"
   ],
   "metadata": {
    "id": "KrnjRPJ5dXIa",
    "pycharm": {
     "name": "#%%\n"
    }
   },
   "execution_count": 583,
   "outputs": []
  },
  {
   "cell_type": "code",
   "source": [
    "Xtrain_good.head()"
   ],
   "metadata": {
    "colab": {
     "base_uri": "https://localhost:8080/",
     "height": 279
    },
    "id": "E80Tvp6SdZmR",
    "outputId": "4872760d-4620-4cde-c556-66e4ba2c7977",
    "pycharm": {
     "name": "#%%\n"
    }
   },
   "execution_count": 584,
   "outputs": [
    {
     "output_type": "execute_result",
     "data": {
      "text/plain": [
       "        age   balance  duration  campaign     pdays  previous  x0_admin.  \\\n",
       "0  0.545455  0.132670  0.024749  0.096774  0.000000  0.000000        0.0   \n",
       "1  0.428571  0.035639  0.071926  0.016129  0.312281  0.103448        0.0   \n",
       "2  0.129870  0.023925  0.183037  0.016129  0.000000  0.000000        0.0   \n",
       "3  0.155844  0.089186  0.145398  0.048387  0.000000  0.000000        1.0   \n",
       "4  0.168831  0.066483  0.064450  0.000000  0.216374  0.051724        0.0   \n",
       "\n",
       "   x0_blue-collar  x0_entrepreneur  x0_housemaid  ...  x9_22  x9_23  x9_24  \\\n",
       "0             0.0              0.0           0.0  ...    0.0    0.0    0.0   \n",
       "1             0.0              0.0           0.0  ...    0.0    0.0    0.0   \n",
       "2             0.0              0.0           0.0  ...    0.0    0.0    0.0   \n",
       "3             0.0              0.0           0.0  ...    0.0    0.0    0.0   \n",
       "4             0.0              0.0           0.0  ...    0.0    0.0    0.0   \n",
       "\n",
       "   x9_25  x9_26  x9_27  x9_28  x9_29  x9_30  x9_31  \n",
       "0    0.0    0.0    0.0    0.0    0.0    0.0    0.0  \n",
       "1    0.0    0.0    0.0    0.0    0.0    0.0    0.0  \n",
       "2    0.0    0.0    0.0    0.0    0.0    0.0    0.0  \n",
       "3    0.0    0.0    0.0    0.0    0.0    0.0    0.0  \n",
       "4    0.0    0.0    0.0    0.0    0.0    0.0    0.0  \n",
       "\n",
       "[5 rows x 81 columns]"
      ],
      "text/html": [
       "\n",
       "  <div id=\"df-3823ee8e-64f3-4b61-ac2d-9088bf62a206\">\n",
       "    <div class=\"colab-df-container\">\n",
       "      <div>\n",
       "<style scoped>\n",
       "    .dataframe tbody tr th:only-of-type {\n",
       "        vertical-align: middle;\n",
       "    }\n",
       "\n",
       "    .dataframe tbody tr th {\n",
       "        vertical-align: top;\n",
       "    }\n",
       "\n",
       "    .dataframe thead th {\n",
       "        text-align: right;\n",
       "    }\n",
       "</style>\n",
       "<table border=\"1\" class=\"dataframe\">\n",
       "  <thead>\n",
       "    <tr style=\"text-align: right;\">\n",
       "      <th></th>\n",
       "      <th>age</th>\n",
       "      <th>balance</th>\n",
       "      <th>duration</th>\n",
       "      <th>campaign</th>\n",
       "      <th>pdays</th>\n",
       "      <th>previous</th>\n",
       "      <th>x0_admin.</th>\n",
       "      <th>x0_blue-collar</th>\n",
       "      <th>x0_entrepreneur</th>\n",
       "      <th>x0_housemaid</th>\n",
       "      <th>...</th>\n",
       "      <th>x9_22</th>\n",
       "      <th>x9_23</th>\n",
       "      <th>x9_24</th>\n",
       "      <th>x9_25</th>\n",
       "      <th>x9_26</th>\n",
       "      <th>x9_27</th>\n",
       "      <th>x9_28</th>\n",
       "      <th>x9_29</th>\n",
       "      <th>x9_30</th>\n",
       "      <th>x9_31</th>\n",
       "    </tr>\n",
       "  </thead>\n",
       "  <tbody>\n",
       "    <tr>\n",
       "      <th>0</th>\n",
       "      <td>0.545455</td>\n",
       "      <td>0.132670</td>\n",
       "      <td>0.024749</td>\n",
       "      <td>0.096774</td>\n",
       "      <td>0.000000</td>\n",
       "      <td>0.000000</td>\n",
       "      <td>0.0</td>\n",
       "      <td>0.0</td>\n",
       "      <td>0.0</td>\n",
       "      <td>0.0</td>\n",
       "      <td>...</td>\n",
       "      <td>0.0</td>\n",
       "      <td>0.0</td>\n",
       "      <td>0.0</td>\n",
       "      <td>0.0</td>\n",
       "      <td>0.0</td>\n",
       "      <td>0.0</td>\n",
       "      <td>0.0</td>\n",
       "      <td>0.0</td>\n",
       "      <td>0.0</td>\n",
       "      <td>0.0</td>\n",
       "    </tr>\n",
       "    <tr>\n",
       "      <th>1</th>\n",
       "      <td>0.428571</td>\n",
       "      <td>0.035639</td>\n",
       "      <td>0.071926</td>\n",
       "      <td>0.016129</td>\n",
       "      <td>0.312281</td>\n",
       "      <td>0.103448</td>\n",
       "      <td>0.0</td>\n",
       "      <td>0.0</td>\n",
       "      <td>0.0</td>\n",
       "      <td>0.0</td>\n",
       "      <td>...</td>\n",
       "      <td>0.0</td>\n",
       "      <td>0.0</td>\n",
       "      <td>0.0</td>\n",
       "      <td>0.0</td>\n",
       "      <td>0.0</td>\n",
       "      <td>0.0</td>\n",
       "      <td>0.0</td>\n",
       "      <td>0.0</td>\n",
       "      <td>0.0</td>\n",
       "      <td>0.0</td>\n",
       "    </tr>\n",
       "    <tr>\n",
       "      <th>2</th>\n",
       "      <td>0.129870</td>\n",
       "      <td>0.023925</td>\n",
       "      <td>0.183037</td>\n",
       "      <td>0.016129</td>\n",
       "      <td>0.000000</td>\n",
       "      <td>0.000000</td>\n",
       "      <td>0.0</td>\n",
       "      <td>0.0</td>\n",
       "      <td>0.0</td>\n",
       "      <td>0.0</td>\n",
       "      <td>...</td>\n",
       "      <td>0.0</td>\n",
       "      <td>0.0</td>\n",
       "      <td>0.0</td>\n",
       "      <td>0.0</td>\n",
       "      <td>0.0</td>\n",
       "      <td>0.0</td>\n",
       "      <td>0.0</td>\n",
       "      <td>0.0</td>\n",
       "      <td>0.0</td>\n",
       "      <td>0.0</td>\n",
       "    </tr>\n",
       "    <tr>\n",
       "      <th>3</th>\n",
       "      <td>0.155844</td>\n",
       "      <td>0.089186</td>\n",
       "      <td>0.145398</td>\n",
       "      <td>0.048387</td>\n",
       "      <td>0.000000</td>\n",
       "      <td>0.000000</td>\n",
       "      <td>1.0</td>\n",
       "      <td>0.0</td>\n",
       "      <td>0.0</td>\n",
       "      <td>0.0</td>\n",
       "      <td>...</td>\n",
       "      <td>0.0</td>\n",
       "      <td>0.0</td>\n",
       "      <td>0.0</td>\n",
       "      <td>0.0</td>\n",
       "      <td>0.0</td>\n",
       "      <td>0.0</td>\n",
       "      <td>0.0</td>\n",
       "      <td>0.0</td>\n",
       "      <td>0.0</td>\n",
       "      <td>0.0</td>\n",
       "    </tr>\n",
       "    <tr>\n",
       "      <th>4</th>\n",
       "      <td>0.168831</td>\n",
       "      <td>0.066483</td>\n",
       "      <td>0.064450</td>\n",
       "      <td>0.000000</td>\n",
       "      <td>0.216374</td>\n",
       "      <td>0.051724</td>\n",
       "      <td>0.0</td>\n",
       "      <td>0.0</td>\n",
       "      <td>0.0</td>\n",
       "      <td>0.0</td>\n",
       "      <td>...</td>\n",
       "      <td>0.0</td>\n",
       "      <td>0.0</td>\n",
       "      <td>0.0</td>\n",
       "      <td>0.0</td>\n",
       "      <td>0.0</td>\n",
       "      <td>0.0</td>\n",
       "      <td>0.0</td>\n",
       "      <td>0.0</td>\n",
       "      <td>0.0</td>\n",
       "      <td>0.0</td>\n",
       "    </tr>\n",
       "  </tbody>\n",
       "</table>\n",
       "<p>5 rows × 81 columns</p>\n",
       "</div>\n",
       "      <button class=\"colab-df-convert\" onclick=\"convertToInteractive('df-3823ee8e-64f3-4b61-ac2d-9088bf62a206')\"\n",
       "              title=\"Convert this dataframe to an interactive table.\"\n",
       "              style=\"display:none;\">\n",
       "        \n",
       "  <svg xmlns=\"http://www.w3.org/2000/svg\" height=\"24px\"viewBox=\"0 0 24 24\"\n",
       "       width=\"24px\">\n",
       "    <path d=\"M0 0h24v24H0V0z\" fill=\"none\"/>\n",
       "    <path d=\"M18.56 5.44l.94 2.06.94-2.06 2.06-.94-2.06-.94-.94-2.06-.94 2.06-2.06.94zm-11 1L8.5 8.5l.94-2.06 2.06-.94-2.06-.94L8.5 2.5l-.94 2.06-2.06.94zm10 10l.94 2.06.94-2.06 2.06-.94-2.06-.94-.94-2.06-.94 2.06-2.06.94z\"/><path d=\"M17.41 7.96l-1.37-1.37c-.4-.4-.92-.59-1.43-.59-.52 0-1.04.2-1.43.59L10.3 9.45l-7.72 7.72c-.78.78-.78 2.05 0 2.83L4 21.41c.39.39.9.59 1.41.59.51 0 1.02-.2 1.41-.59l7.78-7.78 2.81-2.81c.8-.78.8-2.07 0-2.86zM5.41 20L4 18.59l7.72-7.72 1.47 1.35L5.41 20z\"/>\n",
       "  </svg>\n",
       "      </button>\n",
       "      \n",
       "  <style>\n",
       "    .colab-df-container {\n",
       "      display:flex;\n",
       "      flex-wrap:wrap;\n",
       "      gap: 12px;\n",
       "    }\n",
       "\n",
       "    .colab-df-convert {\n",
       "      background-color: #E8F0FE;\n",
       "      border: none;\n",
       "      border-radius: 50%;\n",
       "      cursor: pointer;\n",
       "      display: none;\n",
       "      fill: #1967D2;\n",
       "      height: 32px;\n",
       "      padding: 0 0 0 0;\n",
       "      width: 32px;\n",
       "    }\n",
       "\n",
       "    .colab-df-convert:hover {\n",
       "      background-color: #E2EBFA;\n",
       "      box-shadow: 0px 1px 2px rgba(60, 64, 67, 0.3), 0px 1px 3px 1px rgba(60, 64, 67, 0.15);\n",
       "      fill: #174EA6;\n",
       "    }\n",
       "\n",
       "    [theme=dark] .colab-df-convert {\n",
       "      background-color: #3B4455;\n",
       "      fill: #D2E3FC;\n",
       "    }\n",
       "\n",
       "    [theme=dark] .colab-df-convert:hover {\n",
       "      background-color: #434B5C;\n",
       "      box-shadow: 0px 1px 3px 1px rgba(0, 0, 0, 0.15);\n",
       "      filter: drop-shadow(0px 1px 2px rgba(0, 0, 0, 0.3));\n",
       "      fill: #FFFFFF;\n",
       "    }\n",
       "  </style>\n",
       "\n",
       "      <script>\n",
       "        const buttonEl =\n",
       "          document.querySelector('#df-3823ee8e-64f3-4b61-ac2d-9088bf62a206 button.colab-df-convert');\n",
       "        buttonEl.style.display =\n",
       "          google.colab.kernel.accessAllowed ? 'block' : 'none';\n",
       "\n",
       "        async function convertToInteractive(key) {\n",
       "          const element = document.querySelector('#df-3823ee8e-64f3-4b61-ac2d-9088bf62a206');\n",
       "          const dataTable =\n",
       "            await google.colab.kernel.invokeFunction('convertToInteractive',\n",
       "                                                     [key], {});\n",
       "          if (!dataTable) return;\n",
       "\n",
       "          const docLinkHtml = 'Like what you see? Visit the ' +\n",
       "            '<a target=\"_blank\" href=https://colab.research.google.com/notebooks/data_table.ipynb>data table notebook</a>'\n",
       "            + ' to learn more about interactive tables.';\n",
       "          element.innerHTML = '';\n",
       "          dataTable['output_type'] = 'display_data';\n",
       "          await google.colab.output.renderOutput(dataTable, element);\n",
       "          const docLink = document.createElement('div');\n",
       "          docLink.innerHTML = docLinkHtml;\n",
       "          element.appendChild(docLink);\n",
       "        }\n",
       "      </script>\n",
       "    </div>\n",
       "  </div>\n",
       "  "
      ]
     },
     "metadata": {},
     "execution_count": 584
    }
   ]
  },
  {
   "cell_type": "markdown",
   "source": [
    "Обучение модели"
   ],
   "metadata": {
    "id": "bF12BYSbuOPL",
    "pycharm": {
     "name": "#%% md\n"
    }
   }
  },
  {
   "cell_type": "code",
   "source": [
    "model = LogisticRegression()\n",
    "model.fit(Xtrain_good, ytrain) \n",
    "\n",
    "probs = model.predict_proba(Xtest_good)"
   ],
   "metadata": {
    "id": "w__PQhBbddfV",
    "pycharm": {
     "name": "#%%\n"
    }
   },
   "execution_count": 585,
   "outputs": []
  },
  {
   "cell_type": "code",
   "source": [
    "classes = (probs[:, 1] > 0.45)\n",
    "recall_score(ytest, classes)"
   ],
   "metadata": {
    "colab": {
     "base_uri": "https://localhost:8080/"
    },
    "id": "Ara-ygxBubRn",
    "outputId": "e606962b-1fb9-4c06-ce3b-d75bc3b06bfd",
    "pycharm": {
     "name": "#%%\n"
    }
   },
   "execution_count": 586,
   "outputs": [
    {
     "output_type": "execute_result",
     "data": {
      "text/plain": [
       "0.8165548098434005"
      ]
     },
     "metadata": {},
     "execution_count": 586
    }
   ]
  },
  {
   "cell_type": "code",
   "source": [
    "precision_score(ytest, classes)"
   ],
   "metadata": {
    "colab": {
     "base_uri": "https://localhost:8080/"
    },
    "id": "nwuFgtCiubnv",
    "outputId": "38be1ce1-889e-408b-ad22-b25dbc180376",
    "pycharm": {
     "name": "#%%\n"
    }
   },
   "execution_count": 587,
   "outputs": [
    {
     "output_type": "execute_result",
     "data": {
      "text/plain": [
       "0.8141263940520446"
      ]
     },
     "metadata": {},
     "execution_count": 587
    }
   ]
  },
  {
   "cell_type": "code",
   "source": [
    "roc_auc_score(ytest, probs[:, 1])"
   ],
   "metadata": {
    "colab": {
     "base_uri": "https://localhost:8080/"
    },
    "id": "hZF-4TwEdgeo",
    "outputId": "47cbd705-1f6b-4945-971f-36f2d63c4493",
    "pycharm": {
     "name": "#%%\n"
    }
   },
   "execution_count": 588,
   "outputs": [
    {
     "output_type": "execute_result",
     "data": {
      "text/plain": [
       "0.9032492478592918"
      ]
     },
     "metadata": {},
     "execution_count": 588
    }
   ]
  },
  {
   "cell_type": "code",
   "source": [
    "coef_table = pd.DataFrame({'features' : list(Xtrain_good.columns), 'weights' : list(model.coef_[0])})\n",
    "\n",
    "coef_table.sort_values(by='weights')"
   ],
   "metadata": {
    "colab": {
     "base_uri": "https://localhost:8080/",
     "height": 423
    },
    "id": "O1V5-ObW1U5N",
    "outputId": "dd9c1d15-7c9a-4a26-e80f-1b431929689a",
    "pycharm": {
     "name": "#%%\n"
    }
   },
   "execution_count": 589,
   "outputs": [
    {
     "output_type": "execute_result",
     "data": {
      "text/plain": [
       "      features    weights\n",
       "3     campaign  -3.078442\n",
       "38      x7_jan  -1.142782\n",
       "39      x7_jul  -1.015553\n",
       "33  x6_unknown  -0.945081\n",
       "35      x7_aug  -0.911088\n",
       "..         ...        ...\n",
       "59       x9_10   1.079140\n",
       "36      x7_dec   1.291048\n",
       "48  x8_success   1.555130\n",
       "41      x7_mar   1.562249\n",
       "2     duration  17.159628\n",
       "\n",
       "[81 rows x 2 columns]"
      ],
      "text/html": [
       "\n",
       "  <div id=\"df-d326e01b-79a5-417a-adeb-33bc9bb2abc7\">\n",
       "    <div class=\"colab-df-container\">\n",
       "      <div>\n",
       "<style scoped>\n",
       "    .dataframe tbody tr th:only-of-type {\n",
       "        vertical-align: middle;\n",
       "    }\n",
       "\n",
       "    .dataframe tbody tr th {\n",
       "        vertical-align: top;\n",
       "    }\n",
       "\n",
       "    .dataframe thead th {\n",
       "        text-align: right;\n",
       "    }\n",
       "</style>\n",
       "<table border=\"1\" class=\"dataframe\">\n",
       "  <thead>\n",
       "    <tr style=\"text-align: right;\">\n",
       "      <th></th>\n",
       "      <th>features</th>\n",
       "      <th>weights</th>\n",
       "    </tr>\n",
       "  </thead>\n",
       "  <tbody>\n",
       "    <tr>\n",
       "      <th>3</th>\n",
       "      <td>campaign</td>\n",
       "      <td>-3.078442</td>\n",
       "    </tr>\n",
       "    <tr>\n",
       "      <th>38</th>\n",
       "      <td>x7_jan</td>\n",
       "      <td>-1.142782</td>\n",
       "    </tr>\n",
       "    <tr>\n",
       "      <th>39</th>\n",
       "      <td>x7_jul</td>\n",
       "      <td>-1.015553</td>\n",
       "    </tr>\n",
       "    <tr>\n",
       "      <th>33</th>\n",
       "      <td>x6_unknown</td>\n",
       "      <td>-0.945081</td>\n",
       "    </tr>\n",
       "    <tr>\n",
       "      <th>35</th>\n",
       "      <td>x7_aug</td>\n",
       "      <td>-0.911088</td>\n",
       "    </tr>\n",
       "    <tr>\n",
       "      <th>...</th>\n",
       "      <td>...</td>\n",
       "      <td>...</td>\n",
       "    </tr>\n",
       "    <tr>\n",
       "      <th>59</th>\n",
       "      <td>x9_10</td>\n",
       "      <td>1.079140</td>\n",
       "    </tr>\n",
       "    <tr>\n",
       "      <th>36</th>\n",
       "      <td>x7_dec</td>\n",
       "      <td>1.291048</td>\n",
       "    </tr>\n",
       "    <tr>\n",
       "      <th>48</th>\n",
       "      <td>x8_success</td>\n",
       "      <td>1.555130</td>\n",
       "    </tr>\n",
       "    <tr>\n",
       "      <th>41</th>\n",
       "      <td>x7_mar</td>\n",
       "      <td>1.562249</td>\n",
       "    </tr>\n",
       "    <tr>\n",
       "      <th>2</th>\n",
       "      <td>duration</td>\n",
       "      <td>17.159628</td>\n",
       "    </tr>\n",
       "  </tbody>\n",
       "</table>\n",
       "<p>81 rows × 2 columns</p>\n",
       "</div>\n",
       "      <button class=\"colab-df-convert\" onclick=\"convertToInteractive('df-d326e01b-79a5-417a-adeb-33bc9bb2abc7')\"\n",
       "              title=\"Convert this dataframe to an interactive table.\"\n",
       "              style=\"display:none;\">\n",
       "        \n",
       "  <svg xmlns=\"http://www.w3.org/2000/svg\" height=\"24px\"viewBox=\"0 0 24 24\"\n",
       "       width=\"24px\">\n",
       "    <path d=\"M0 0h24v24H0V0z\" fill=\"none\"/>\n",
       "    <path d=\"M18.56 5.44l.94 2.06.94-2.06 2.06-.94-2.06-.94-.94-2.06-.94 2.06-2.06.94zm-11 1L8.5 8.5l.94-2.06 2.06-.94-2.06-.94L8.5 2.5l-.94 2.06-2.06.94zm10 10l.94 2.06.94-2.06 2.06-.94-2.06-.94-.94-2.06-.94 2.06-2.06.94z\"/><path d=\"M17.41 7.96l-1.37-1.37c-.4-.4-.92-.59-1.43-.59-.52 0-1.04.2-1.43.59L10.3 9.45l-7.72 7.72c-.78.78-.78 2.05 0 2.83L4 21.41c.39.39.9.59 1.41.59.51 0 1.02-.2 1.41-.59l7.78-7.78 2.81-2.81c.8-.78.8-2.07 0-2.86zM5.41 20L4 18.59l7.72-7.72 1.47 1.35L5.41 20z\"/>\n",
       "  </svg>\n",
       "      </button>\n",
       "      \n",
       "  <style>\n",
       "    .colab-df-container {\n",
       "      display:flex;\n",
       "      flex-wrap:wrap;\n",
       "      gap: 12px;\n",
       "    }\n",
       "\n",
       "    .colab-df-convert {\n",
       "      background-color: #E8F0FE;\n",
       "      border: none;\n",
       "      border-radius: 50%;\n",
       "      cursor: pointer;\n",
       "      display: none;\n",
       "      fill: #1967D2;\n",
       "      height: 32px;\n",
       "      padding: 0 0 0 0;\n",
       "      width: 32px;\n",
       "    }\n",
       "\n",
       "    .colab-df-convert:hover {\n",
       "      background-color: #E2EBFA;\n",
       "      box-shadow: 0px 1px 2px rgba(60, 64, 67, 0.3), 0px 1px 3px 1px rgba(60, 64, 67, 0.15);\n",
       "      fill: #174EA6;\n",
       "    }\n",
       "\n",
       "    [theme=dark] .colab-df-convert {\n",
       "      background-color: #3B4455;\n",
       "      fill: #D2E3FC;\n",
       "    }\n",
       "\n",
       "    [theme=dark] .colab-df-convert:hover {\n",
       "      background-color: #434B5C;\n",
       "      box-shadow: 0px 1px 3px 1px rgba(0, 0, 0, 0.15);\n",
       "      filter: drop-shadow(0px 1px 2px rgba(0, 0, 0, 0.3));\n",
       "      fill: #FFFFFF;\n",
       "    }\n",
       "  </style>\n",
       "\n",
       "      <script>\n",
       "        const buttonEl =\n",
       "          document.querySelector('#df-d326e01b-79a5-417a-adeb-33bc9bb2abc7 button.colab-df-convert');\n",
       "        buttonEl.style.display =\n",
       "          google.colab.kernel.accessAllowed ? 'block' : 'none';\n",
       "\n",
       "        async function convertToInteractive(key) {\n",
       "          const element = document.querySelector('#df-d326e01b-79a5-417a-adeb-33bc9bb2abc7');\n",
       "          const dataTable =\n",
       "            await google.colab.kernel.invokeFunction('convertToInteractive',\n",
       "                                                     [key], {});\n",
       "          if (!dataTable) return;\n",
       "\n",
       "          const docLinkHtml = 'Like what you see? Visit the ' +\n",
       "            '<a target=\"_blank\" href=https://colab.research.google.com/notebooks/data_table.ipynb>data table notebook</a>'\n",
       "            + ' to learn more about interactive tables.';\n",
       "          element.innerHTML = '';\n",
       "          dataTable['output_type'] = 'display_data';\n",
       "          await google.colab.output.renderOutput(dataTable, element);\n",
       "          const docLink = document.createElement('div');\n",
       "          docLink.innerHTML = docLinkHtml;\n",
       "          element.appendChild(docLink);\n",
       "        }\n",
       "      </script>\n",
       "    </div>\n",
       "  </div>\n",
       "  "
      ]
     },
     "metadata": {},
     "execution_count": 589
    }
   ]
  },
  {
   "cell_type": "code",
   "source": [
    "pd.Series(model.coef_[0], index=Xtrain_good.columns).nlargest(5).plot(kind='barh',color='green')\n",
    "plt.show()\n",
    "pd.Series(model.coef_[0], index=Xtrain_good.columns).nsmallest(5).plot(kind='barh',color='red')\n",
    "plt.show()"
   ],
   "metadata": {
    "colab": {
     "base_uri": "https://localhost:8080/",
     "height": 513
    },
    "id": "U_M87iwEdldG",
    "outputId": "eb0d8782-0e1d-4809-d0b7-7721111dc564",
    "pycharm": {
     "name": "#%%\n"
    }
   },
   "execution_count": 590,
   "outputs": [
    {
     "output_type": "display_data",
     "data": {
      "text/plain": [
       "<Figure size 432x288 with 1 Axes>"
      ],
      "image/png": "[encoded data removed]"
     },
     "metadata": {
      "needs_background": "light"
     }
    },
    {
     "output_type": "display_data",
     "data": {
      "text/plain": [
       "<Figure size 432x288 with 1 Axes>"
      ],
      "image/png": "[encoded data removed]"
     },
     "metadata": {
      "needs_background": "light"
     }
    }
   ]
  },
  {
   "cell_type": "markdown",
   "source": [
    "## <font color='green'>6.2. Обработка категориальных признаков - бустинг</font>"
   ],
   "metadata": {
    "id": "1q_Yuqqh1_Uo",
    "pycharm": {
     "name": "#%% md\n"
    }
   }
  },
  {
   "cell_type": "code",
   "source": [
    "gbm = CatBoostClassifier(iterations=300, #сколько деревьев\n",
    "                          depth=2, #глубина каждого дерева\n",
    "                          learning_rate=0.1,\n",
    "                          loss_function='Logloss',\n",
    "                          eval_metric='AUC',\n",
    "                          verbose=False)\n",
    "\n",
    "gbm.fit(Xtrain_good, ytrain)\n",
    "gbm_preds = gbm.predict_proba(Xtest_good)"
   ],
   "metadata": {
    "id": "U4tdDKGNfVu2",
    "pycharm": {
     "name": "#%%\n"
    }
   },
   "execution_count": 591,
   "outputs": []
  },
  {
   "cell_type": "code",
   "source": [
    "gbm_classes = (gbm_preds[:, 1] > 0.5)\n",
    "recall_score(ytest, gbm_classes)"
   ],
   "metadata": {
    "colab": {
     "base_uri": "https://localhost:8080/"
    },
    "id": "Ji5AhqGP2N30",
    "outputId": "03d2ea64-0dde-49a2-fe92-1093964f6493",
    "pycharm": {
     "name": "#%%\n"
    }
   },
   "execution_count": 592,
   "outputs": [
    {
     "output_type": "execute_result",
     "data": {
      "text/plain": [
       "0.8284862043251305"
      ]
     },
     "metadata": {},
     "execution_count": 592
    }
   ]
  },
  {
   "cell_type": "code",
   "source": [
    "precision_score(ytest, gbm_classes)"
   ],
   "metadata": {
    "colab": {
     "base_uri": "https://localhost:8080/"
    },
    "id": "2NX7Ivma2WHR",
    "outputId": "891663be-1f61-4da7-82c4-1ba25e745b53",
    "pycharm": {
     "name": "#%%\n"
    }
   },
   "execution_count": 593,
   "outputs": [
    {
     "output_type": "execute_result",
     "data": {
      "text/plain": [
       "0.8260223048327138"
      ]
     },
     "metadata": {},
     "execution_count": 593
    }
   ]
  },
  {
   "cell_type": "code",
   "source": [
    "roc_auc_score(ytest, gbm_preds[:, 1])"
   ],
   "metadata": {
    "colab": {
     "base_uri": "https://localhost:8080/"
    },
    "id": "CRvTCDCZfYrH",
    "outputId": "5db03912-c321-4de6-87ce-1a60e9e1fa1c",
    "pycharm": {
     "name": "#%%\n"
    }
   },
   "execution_count": 594,
   "outputs": [
    {
     "output_type": "execute_result",
     "data": {
      "text/plain": [
       "0.9146437295893441"
      ]
     },
     "metadata": {},
     "execution_count": 594
    }
   ]
  },
  {
   "cell_type": "code",
   "source": [
    "pd.Series(gbm.feature_importances_, index=Xtrain_good.columns).nlargest(10).plot(kind='barh',color='blue')\n",
    "plt.show()"
   ],
   "metadata": {
    "colab": {
     "base_uri": "https://localhost:8080/",
     "height": 265
    },
    "id": "zVGYTkSufagp",
    "outputId": "16437567-2517-43b6-c94e-40ce02c64682",
    "pycharm": {
     "name": "#%%\n"
    }
   },
   "execution_count": 595,
   "outputs": [
    {
     "output_type": "display_data",
     "data": {
      "text/plain": [
       "<Figure size 432x288 with 1 Axes>"
      ],
      "image/png": "[encoded data removed]"
     },
     "metadata": {
      "needs_background": "light"
     }
    }
   ]
  },
  {
   "cell_type": "markdown",
   "source": [
    "## <font color='green'>6.3. Обработка категориальных признаков - внутреннее кодирование бустинга</font>"
   ],
   "metadata": {
    "id": "awKTEBC_3AYk",
    "pycharm": {
     "name": "#%% md\n"
    }
   }
  },
  {
   "cell_type": "code",
   "source": [
    "Xtrain.head()"
   ],
   "metadata": {
    "colab": {
     "base_uri": "https://localhost:8080/",
     "height": 206
    },
    "id": "oI_AMAnq3H60",
    "outputId": "991d14ed-afb8-4b44-f781-d5d2cb1e7415",
    "pycharm": {
     "name": "#%%\n"
    }
   },
   "execution_count": 596,
   "outputs": [
    {
     "output_type": "execute_result",
     "data": {
      "text/plain": [
       "      age         job  marital  education default  balance housing loan  \\\n",
       "5304   60     retired  married  secondary      no     8121     yes  yes   \n",
       "7512   51  management   single   tertiary     yes      -55     yes   no   \n",
       "4700   28  technician   single  secondary     yes    -1042     yes   no   \n",
       "4918   30      admin.  married  secondary      no     4457     yes   no   \n",
       "4450   31  technician   single  secondary      no     2544      no   no   \n",
       "\n",
       "       contact day month  duration  campaign  pdays  previous poutcome  \n",
       "5304  cellular  18   aug        98         7     -1         0  unknown  \n",
       "7512  cellular  11   may       281         2    266         6  failure  \n",
       "4700   unknown   6   jun       712         2     -1         0  unknown  \n",
       "4918  cellular  21   nov       566         4     -1         0  unknown  \n",
       "4450  cellular  15   jul       252         1    184         3  success  "
      ],
      "text/html": [
       "\n",
       "  <div id=\"df-ee63702a-3674-414a-b583-ab7c69c786e1\">\n",
       "    <div class=\"colab-df-container\">\n",
       "      <div>\n",
       "<style scoped>\n",
       "    .dataframe tbody tr th:only-of-type {\n",
       "        vertical-align: middle;\n",
       "    }\n",
       "\n",
       "    .dataframe tbody tr th {\n",
       "        vertical-align: top;\n",
       "    }\n",
       "\n",
       "    .dataframe thead th {\n",
       "        text-align: right;\n",
       "    }\n",
       "</style>\n",
       "<table border=\"1\" class=\"dataframe\">\n",
       "  <thead>\n",
       "    <tr style=\"text-align: right;\">\n",
       "      <th></th>\n",
       "      <th>age</th>\n",
       "      <th>job</th>\n",
       "      <th>marital</th>\n",
       "      <th>education</th>\n",
       "      <th>default</th>\n",
       "      <th>balance</th>\n",
       "      <th>housing</th>\n",
       "      <th>loan</th>\n",
       "      <th>contact</th>\n",
       "      <th>day</th>\n",
       "      <th>month</th>\n",
       "      <th>duration</th>\n",
       "      <th>campaign</th>\n",
       "      <th>pdays</th>\n",
       "      <th>previous</th>\n",
       "      <th>poutcome</th>\n",
       "    </tr>\n",
       "  </thead>\n",
       "  <tbody>\n",
       "    <tr>\n",
       "      <th>5304</th>\n",
       "      <td>60</td>\n",
       "      <td>retired</td>\n",
       "      <td>married</td>\n",
       "      <td>secondary</td>\n",
       "      <td>no</td>\n",
       "      <td>8121</td>\n",
       "      <td>yes</td>\n",
       "      <td>yes</td>\n",
       "      <td>cellular</td>\n",
       "      <td>18</td>\n",
       "      <td>aug</td>\n",
       "      <td>98</td>\n",
       "      <td>7</td>\n",
       "      <td>-1</td>\n",
       "      <td>0</td>\n",
       "      <td>unknown</td>\n",
       "    </tr>\n",
       "    <tr>\n",
       "      <th>7512</th>\n",
       "      <td>51</td>\n",
       "      <td>management</td>\n",
       "      <td>single</td>\n",
       "      <td>tertiary</td>\n",
       "      <td>yes</td>\n",
       "      <td>-55</td>\n",
       "      <td>yes</td>\n",
       "      <td>no</td>\n",
       "      <td>cellular</td>\n",
       "      <td>11</td>\n",
       "      <td>may</td>\n",
       "      <td>281</td>\n",
       "      <td>2</td>\n",
       "      <td>266</td>\n",
       "      <td>6</td>\n",
       "      <td>failure</td>\n",
       "    </tr>\n",
       "    <tr>\n",
       "      <th>4700</th>\n",
       "      <td>28</td>\n",
       "      <td>technician</td>\n",
       "      <td>single</td>\n",
       "      <td>secondary</td>\n",
       "      <td>yes</td>\n",
       "      <td>-1042</td>\n",
       "      <td>yes</td>\n",
       "      <td>no</td>\n",
       "      <td>unknown</td>\n",
       "      <td>6</td>\n",
       "      <td>jun</td>\n",
       "      <td>712</td>\n",
       "      <td>2</td>\n",
       "      <td>-1</td>\n",
       "      <td>0</td>\n",
       "      <td>unknown</td>\n",
       "    </tr>\n",
       "    <tr>\n",
       "      <th>4918</th>\n",
       "      <td>30</td>\n",
       "      <td>admin.</td>\n",
       "      <td>married</td>\n",
       "      <td>secondary</td>\n",
       "      <td>no</td>\n",
       "      <td>4457</td>\n",
       "      <td>yes</td>\n",
       "      <td>no</td>\n",
       "      <td>cellular</td>\n",
       "      <td>21</td>\n",
       "      <td>nov</td>\n",
       "      <td>566</td>\n",
       "      <td>4</td>\n",
       "      <td>-1</td>\n",
       "      <td>0</td>\n",
       "      <td>unknown</td>\n",
       "    </tr>\n",
       "    <tr>\n",
       "      <th>4450</th>\n",
       "      <td>31</td>\n",
       "      <td>technician</td>\n",
       "      <td>single</td>\n",
       "      <td>secondary</td>\n",
       "      <td>no</td>\n",
       "      <td>2544</td>\n",
       "      <td>no</td>\n",
       "      <td>no</td>\n",
       "      <td>cellular</td>\n",
       "      <td>15</td>\n",
       "      <td>jul</td>\n",
       "      <td>252</td>\n",
       "      <td>1</td>\n",
       "      <td>184</td>\n",
       "      <td>3</td>\n",
       "      <td>success</td>\n",
       "    </tr>\n",
       "  </tbody>\n",
       "</table>\n",
       "</div>\n",
       "      <button class=\"colab-df-convert\" onclick=\"convertToInteractive('df-ee63702a-3674-414a-b583-ab7c69c786e1')\"\n",
       "              title=\"Convert this dataframe to an interactive table.\"\n",
       "              style=\"display:none;\">\n",
       "        \n",
       "  <svg xmlns=\"http://www.w3.org/2000/svg\" height=\"24px\"viewBox=\"0 0 24 24\"\n",
       "       width=\"24px\">\n",
       "    <path d=\"M0 0h24v24H0V0z\" fill=\"none\"/>\n",
       "    <path d=\"M18.56 5.44l.94 2.06.94-2.06 2.06-.94-2.06-.94-.94-2.06-.94 2.06-2.06.94zm-11 1L8.5 8.5l.94-2.06 2.06-.94-2.06-.94L8.5 2.5l-.94 2.06-2.06.94zm10 10l.94 2.06.94-2.06 2.06-.94-2.06-.94-.94-2.06-.94 2.06-2.06.94z\"/><path d=\"M17.41 7.96l-1.37-1.37c-.4-.4-.92-.59-1.43-.59-.52 0-1.04.2-1.43.59L10.3 9.45l-7.72 7.72c-.78.78-.78 2.05 0 2.83L4 21.41c.39.39.9.59 1.41.59.51 0 1.02-.2 1.41-.59l7.78-7.78 2.81-2.81c.8-.78.8-2.07 0-2.86zM5.41 20L4 18.59l7.72-7.72 1.47 1.35L5.41 20z\"/>\n",
       "  </svg>\n",
       "      </button>\n",
       "      \n",
       "  <style>\n",
       "    .colab-df-container {\n",
       "      display:flex;\n",
       "      flex-wrap:wrap;\n",
       "      gap: 12px;\n",
       "    }\n",
       "\n",
       "    .colab-df-convert {\n",
       "      background-color: #E8F0FE;\n",
       "      border: none;\n",
       "      border-radius: 50%;\n",
       "      cursor: pointer;\n",
       "      display: none;\n",
       "      fill: #1967D2;\n",
       "      height: 32px;\n",
       "      padding: 0 0 0 0;\n",
       "      width: 32px;\n",
       "    }\n",
       "\n",
       "    .colab-df-convert:hover {\n",
       "      background-color: #E2EBFA;\n",
       "      box-shadow: 0px 1px 2px rgba(60, 64, 67, 0.3), 0px 1px 3px 1px rgba(60, 64, 67, 0.15);\n",
       "      fill: #174EA6;\n",
       "    }\n",
       "\n",
       "    [theme=dark] .colab-df-convert {\n",
       "      background-color: #3B4455;\n",
       "      fill: #D2E3FC;\n",
       "    }\n",
       "\n",
       "    [theme=dark] .colab-df-convert:hover {\n",
       "      background-color: #434B5C;\n",
       "      box-shadow: 0px 1px 3px 1px rgba(0, 0, 0, 0.15);\n",
       "      filter: drop-shadow(0px 1px 2px rgba(0, 0, 0, 0.3));\n",
       "      fill: #FFFFFF;\n",
       "    }\n",
       "  </style>\n",
       "\n",
       "      <script>\n",
       "        const buttonEl =\n",
       "          document.querySelector('#df-ee63702a-3674-414a-b583-ab7c69c786e1 button.colab-df-convert');\n",
       "        buttonEl.style.display =\n",
       "          google.colab.kernel.accessAllowed ? 'block' : 'none';\n",
       "\n",
       "        async function convertToInteractive(key) {\n",
       "          const element = document.querySelector('#df-ee63702a-3674-414a-b583-ab7c69c786e1');\n",
       "          const dataTable =\n",
       "            await google.colab.kernel.invokeFunction('convertToInteractive',\n",
       "                                                     [key], {});\n",
       "          if (!dataTable) return;\n",
       "\n",
       "          const docLinkHtml = 'Like what you see? Visit the ' +\n",
       "            '<a target=\"_blank\" href=https://colab.research.google.com/notebooks/data_table.ipynb>data table notebook</a>'\n",
       "            + ' to learn more about interactive tables.';\n",
       "          element.innerHTML = '';\n",
       "          dataTable['output_type'] = 'display_data';\n",
       "          await google.colab.output.renderOutput(dataTable, element);\n",
       "          const docLink = document.createElement('div');\n",
       "          docLink.innerHTML = docLinkHtml;\n",
       "          element.appendChild(docLink);\n",
       "        }\n",
       "      </script>\n",
       "    </div>\n",
       "  </div>\n",
       "  "
      ]
     },
     "metadata": {},
     "execution_count": 596
    }
   ]
  },
  {
   "cell_type": "code",
   "source": [
    "cat_list = [1, 2, 3, 4, 6, 7, 8, 9, 10, 15]"
   ],
   "metadata": {
    "id": "7ryBNOvs3KDm",
    "pycharm": {
     "name": "#%%\n"
    }
   },
   "execution_count": 597,
   "outputs": []
  },
  {
   "cell_type": "code",
   "source": [
    "gbm2 = CatBoostClassifier(iterations=300, #сколько деревьев\n",
    "                          depth=2, #глубина каждого дерева\n",
    "                          learning_rate=0.1,\n",
    "                          loss_function='Logloss',\n",
    "                          eval_metric='AUC',\n",
    "                          verbose=False)\n",
    "\n",
    "gbm2.fit(Xtrain, ytrain, cat_features=cat_list)\n",
    "\n",
    "gbm2_preds = gbm2.predict_proba(Xtest)"
   ],
   "metadata": {
    "id": "s96yNYYK3d1V",
    "pycharm": {
     "name": "#%%\n"
    }
   },
   "execution_count": 598,
   "outputs": []
  },
  {
   "cell_type": "code",
   "source": [
    "gbm2_classes = (gbm2_preds[:, 1] > 0.5)\n",
    "recall_score(ytest, gbm2_classes)"
   ],
   "metadata": {
    "colab": {
     "base_uri": "https://localhost:8080/"
    },
    "id": "MzVoiJfj3ggl",
    "outputId": "13854fe2-9e0a-43d4-eb61-8d27f8b27465",
    "pycharm": {
     "name": "#%%\n"
    }
   },
   "execution_count": 599,
   "outputs": [
    {
     "output_type": "execute_result",
     "data": {
      "text/plain": [
       "0.843400447427293"
      ]
     },
     "metadata": {},
     "execution_count": 599
    }
   ]
  },
  {
   "cell_type": "code",
   "source": [
    "precision_score(ytest, gbm2_classes)"
   ],
   "metadata": {
    "colab": {
     "base_uri": "https://localhost:8080/"
    },
    "id": "m6pIxRvX3k8W",
    "outputId": "21639bd8-9826-4083-ecf4-9345ace6e14f",
    "pycharm": {
     "name": "#%%\n"
    }
   },
   "execution_count": 600,
   "outputs": [
    {
     "output_type": "execute_result",
     "data": {
      "text/plain": [
       "0.8346863468634687"
      ]
     },
     "metadata": {},
     "execution_count": 600
    }
   ]
  },
  {
   "cell_type": "code",
   "source": [
    "roc_auc_score(ytest, gbm2_preds[:, 1])"
   ],
   "metadata": {
    "colab": {
     "base_uri": "https://localhost:8080/"
    },
    "id": "plQjDqVZ3ogd",
    "outputId": "b7b576ef-3c36-4f66-ca3e-9037e8865bdb",
    "pycharm": {
     "name": "#%%\n"
    }
   },
   "execution_count": 601,
   "outputs": [
    {
     "output_type": "execute_result",
     "data": {
      "text/plain": [
       "0.9224114788243463"
      ]
     },
     "metadata": {},
     "execution_count": 601
    }
   ]
  },
  {
   "cell_type": "code",
   "source": [
    "pd.Series(gbm2.feature_importances_, index=Xtrain.columns).nlargest(10).plot(kind='barh',color='blue')\n",
    "plt.show()"
   ],
   "metadata": {
    "colab": {
     "base_uri": "https://localhost:8080/",
     "height": 265
    },
    "id": "xmupVliX36-E",
    "outputId": "d2bf7886-c75f-485f-9869-80faa3a7d095",
    "pycharm": {
     "name": "#%%\n"
    }
   },
   "execution_count": 602,
   "outputs": [
    {
     "output_type": "display_data",
     "data": {
      "text/plain": [
       "<Figure size 432x288 with 1 Axes>"
      ],
      "image/png": "[encoded data removed]"
     },
     "metadata": {
      "needs_background": "light"
     }
    }
   ]
  },
  {
   "cell_type": "markdown",
   "source": [
    "## <font color='green'>7. Получение предсказаний на новых данных</font>"
   ],
   "metadata": {
    "id": "AkR4GMsP3_BI",
    "pycharm": {
     "name": "#%% md\n"
    }
   }
  },
  {
   "cell_type": "markdown",
   "source": [
    "Вручную добавим данные о новом клиенте."
   ],
   "metadata": {
    "id": "1q0GcKM84LE9",
    "pycharm": {
     "name": "#%% md\n"
    }
   }
  },
  {
   "cell_type": "code",
   "source": [
    "Xtrain.head()"
   ],
   "metadata": {
    "colab": {
     "base_uri": "https://localhost:8080/",
     "height": 206
    },
    "id": "-WudygeV4OEd",
    "outputId": "f355e6ad-6f3c-449c-af51-c98850ab482d",
    "pycharm": {
     "name": "#%%\n"
    }
   },
   "execution_count": 603,
   "outputs": [
    {
     "output_type": "execute_result",
     "data": {
      "text/plain": [
       "      age         job  marital  education default  balance housing loan  \\\n",
       "5304   60     retired  married  secondary      no     8121     yes  yes   \n",
       "7512   51  management   single   tertiary     yes      -55     yes   no   \n",
       "4700   28  technician   single  secondary     yes    -1042     yes   no   \n",
       "4918   30      admin.  married  secondary      no     4457     yes   no   \n",
       "4450   31  technician   single  secondary      no     2544      no   no   \n",
       "\n",
       "       contact day month  duration  campaign  pdays  previous poutcome  \n",
       "5304  cellular  18   aug        98         7     -1         0  unknown  \n",
       "7512  cellular  11   may       281         2    266         6  failure  \n",
       "4700   unknown   6   jun       712         2     -1         0  unknown  \n",
       "4918  cellular  21   nov       566         4     -1         0  unknown  \n",
       "4450  cellular  15   jul       252         1    184         3  success  "
      ],
      "text/html": [
       "\n",
       "  <div id=\"df-44e2a6ea-f200-4f43-a35b-f513d5c727f8\">\n",
       "    <div class=\"colab-df-container\">\n",
       "      <div>\n",
       "<style scoped>\n",
       "    .dataframe tbody tr th:only-of-type {\n",
       "        vertical-align: middle;\n",
       "    }\n",
       "\n",
       "    .dataframe tbody tr th {\n",
       "        vertical-align: top;\n",
       "    }\n",
       "\n",
       "    .dataframe thead th {\n",
       "        text-align: right;\n",
       "    }\n",
       "</style>\n",
       "<table border=\"1\" class=\"dataframe\">\n",
       "  <thead>\n",
       "    <tr style=\"text-align: right;\">\n",
       "      <th></th>\n",
       "      <th>age</th>\n",
       "      <th>job</th>\n",
       "      <th>marital</th>\n",
       "      <th>education</th>\n",
       "      <th>default</th>\n",
       "      <th>balance</th>\n",
       "      <th>housing</th>\n",
       "      <th>loan</th>\n",
       "      <th>contact</th>\n",
       "      <th>day</th>\n",
       "      <th>month</th>\n",
       "      <th>duration</th>\n",
       "      <th>campaign</th>\n",
       "      <th>pdays</th>\n",
       "      <th>previous</th>\n",
       "      <th>poutcome</th>\n",
       "    </tr>\n",
       "  </thead>\n",
       "  <tbody>\n",
       "    <tr>\n",
       "      <th>5304</th>\n",
       "      <td>60</td>\n",
       "      <td>retired</td>\n",
       "      <td>married</td>\n",
       "      <td>secondary</td>\n",
       "      <td>no</td>\n",
       "      <td>8121</td>\n",
       "      <td>yes</td>\n",
       "      <td>yes</td>\n",
       "      <td>cellular</td>\n",
       "      <td>18</td>\n",
       "      <td>aug</td>\n",
       "      <td>98</td>\n",
       "      <td>7</td>\n",
       "      <td>-1</td>\n",
       "      <td>0</td>\n",
       "      <td>unknown</td>\n",
       "    </tr>\n",
       "    <tr>\n",
       "      <th>7512</th>\n",
       "      <td>51</td>\n",
       "      <td>management</td>\n",
       "      <td>single</td>\n",
       "      <td>tertiary</td>\n",
       "      <td>yes</td>\n",
       "      <td>-55</td>\n",
       "      <td>yes</td>\n",
       "      <td>no</td>\n",
       "      <td>cellular</td>\n",
       "      <td>11</td>\n",
       "      <td>may</td>\n",
       "      <td>281</td>\n",
       "      <td>2</td>\n",
       "      <td>266</td>\n",
       "      <td>6</td>\n",
       "      <td>failure</td>\n",
       "    </tr>\n",
       "    <tr>\n",
       "      <th>4700</th>\n",
       "      <td>28</td>\n",
       "      <td>technician</td>\n",
       "      <td>single</td>\n",
       "      <td>secondary</td>\n",
       "      <td>yes</td>\n",
       "      <td>-1042</td>\n",
       "      <td>yes</td>\n",
       "      <td>no</td>\n",
       "      <td>unknown</td>\n",
       "      <td>6</td>\n",
       "      <td>jun</td>\n",
       "      <td>712</td>\n",
       "      <td>2</td>\n",
       "      <td>-1</td>\n",
       "      <td>0</td>\n",
       "      <td>unknown</td>\n",
       "    </tr>\n",
       "    <tr>\n",
       "      <th>4918</th>\n",
       "      <td>30</td>\n",
       "      <td>admin.</td>\n",
       "      <td>married</td>\n",
       "      <td>secondary</td>\n",
       "      <td>no</td>\n",
       "      <td>4457</td>\n",
       "      <td>yes</td>\n",
       "      <td>no</td>\n",
       "      <td>cellular</td>\n",
       "      <td>21</td>\n",
       "      <td>nov</td>\n",
       "      <td>566</td>\n",
       "      <td>4</td>\n",
       "      <td>-1</td>\n",
       "      <td>0</td>\n",
       "      <td>unknown</td>\n",
       "    </tr>\n",
       "    <tr>\n",
       "      <th>4450</th>\n",
       "      <td>31</td>\n",
       "      <td>technician</td>\n",
       "      <td>single</td>\n",
       "      <td>secondary</td>\n",
       "      <td>no</td>\n",
       "      <td>2544</td>\n",
       "      <td>no</td>\n",
       "      <td>no</td>\n",
       "      <td>cellular</td>\n",
       "      <td>15</td>\n",
       "      <td>jul</td>\n",
       "      <td>252</td>\n",
       "      <td>1</td>\n",
       "      <td>184</td>\n",
       "      <td>3</td>\n",
       "      <td>success</td>\n",
       "    </tr>\n",
       "  </tbody>\n",
       "</table>\n",
       "</div>\n",
       "      <button class=\"colab-df-convert\" onclick=\"convertToInteractive('df-44e2a6ea-f200-4f43-a35b-f513d5c727f8')\"\n",
       "              title=\"Convert this dataframe to an interactive table.\"\n",
       "              style=\"display:none;\">\n",
       "        \n",
       "  <svg xmlns=\"http://www.w3.org/2000/svg\" height=\"24px\"viewBox=\"0 0 24 24\"\n",
       "       width=\"24px\">\n",
       "    <path d=\"M0 0h24v24H0V0z\" fill=\"none\"/>\n",
       "    <path d=\"M18.56 5.44l.94 2.06.94-2.06 2.06-.94-2.06-.94-.94-2.06-.94 2.06-2.06.94zm-11 1L8.5 8.5l.94-2.06 2.06-.94-2.06-.94L8.5 2.5l-.94 2.06-2.06.94zm10 10l.94 2.06.94-2.06 2.06-.94-2.06-.94-.94-2.06-.94 2.06-2.06.94z\"/><path d=\"M17.41 7.96l-1.37-1.37c-.4-.4-.92-.59-1.43-.59-.52 0-1.04.2-1.43.59L10.3 9.45l-7.72 7.72c-.78.78-.78 2.05 0 2.83L4 21.41c.39.39.9.59 1.41.59.51 0 1.02-.2 1.41-.59l7.78-7.78 2.81-2.81c.8-.78.8-2.07 0-2.86zM5.41 20L4 18.59l7.72-7.72 1.47 1.35L5.41 20z\"/>\n",
       "  </svg>\n",
       "      </button>\n",
       "      \n",
       "  <style>\n",
       "    .colab-df-container {\n",
       "      display:flex;\n",
       "      flex-wrap:wrap;\n",
       "      gap: 12px;\n",
       "    }\n",
       "\n",
       "    .colab-df-convert {\n",
       "      background-color: #E8F0FE;\n",
       "      border: none;\n",
       "      border-radius: 50%;\n",
       "      cursor: pointer;\n",
       "      display: none;\n",
       "      fill: #1967D2;\n",
       "      height: 32px;\n",
       "      padding: 0 0 0 0;\n",
       "      width: 32px;\n",
       "    }\n",
       "\n",
       "    .colab-df-convert:hover {\n",
       "      background-color: #E2EBFA;\n",
       "      box-shadow: 0px 1px 2px rgba(60, 64, 67, 0.3), 0px 1px 3px 1px rgba(60, 64, 67, 0.15);\n",
       "      fill: #174EA6;\n",
       "    }\n",
       "\n",
       "    [theme=dark] .colab-df-convert {\n",
       "      background-color: #3B4455;\n",
       "      fill: #D2E3FC;\n",
       "    }\n",
       "\n",
       "    [theme=dark] .colab-df-convert:hover {\n",
       "      background-color: #434B5C;\n",
       "      box-shadow: 0px 1px 3px 1px rgba(0, 0, 0, 0.15);\n",
       "      filter: drop-shadow(0px 1px 2px rgba(0, 0, 0, 0.3));\n",
       "      fill: #FFFFFF;\n",
       "    }\n",
       "  </style>\n",
       "\n",
       "      <script>\n",
       "        const buttonEl =\n",
       "          document.querySelector('#df-44e2a6ea-f200-4f43-a35b-f513d5c727f8 button.colab-df-convert');\n",
       "        buttonEl.style.display =\n",
       "          google.colab.kernel.accessAllowed ? 'block' : 'none';\n",
       "\n",
       "        async function convertToInteractive(key) {\n",
       "          const element = document.querySelector('#df-44e2a6ea-f200-4f43-a35b-f513d5c727f8');\n",
       "          const dataTable =\n",
       "            await google.colab.kernel.invokeFunction('convertToInteractive',\n",
       "                                                     [key], {});\n",
       "          if (!dataTable) return;\n",
       "\n",
       "          const docLinkHtml = 'Like what you see? Visit the ' +\n",
       "            '<a target=\"_blank\" href=https://colab.research.google.com/notebooks/data_table.ipynb>data table notebook</a>'\n",
       "            + ' to learn more about interactive tables.';\n",
       "          element.innerHTML = '';\n",
       "          dataTable['output_type'] = 'display_data';\n",
       "          await google.colab.output.renderOutput(dataTable, element);\n",
       "          const docLink = document.createElement('div');\n",
       "          docLink.innerHTML = docLinkHtml;\n",
       "          element.appendChild(docLink);\n",
       "        }\n",
       "      </script>\n",
       "    </div>\n",
       "  </div>\n",
       "  "
      ]
     },
     "metadata": {},
     "execution_count": 603
    }
   ]
  },
  {
   "cell_type": "code",
   "source": [
    "NewData = pd.DataFrame(columns=Xtrain.columns)\n",
    "\n",
    "NewData = NewData.append({'age' : 30, \n",
    "                'job' : 'technician',\n",
    "                'marital' : 'married',\n",
    "                'education' : 'secondary',\n",
    "                'voicemailplan' : 'No',\n",
    "                'default': 'no',\n",
    "                'balance' : 100000, \n",
    "                'housing' : 'no',\n",
    "                'loan' : 'no',\n",
    "                'contact' : 'cellular',\n",
    "                'day' : '20',\n",
    "                'month' : 'mar',\n",
    "                'duration' : 300,\n",
    "                'campaign' : 1,\n",
    "                'pdays' : -1,\n",
    "                'previous' : 0,\n",
    "                'poutcome' : 'unknown'\n",
    "}, ignore_index=True)\n",
    "\n",
    "NewData.head()"
   ],
   "metadata": {
    "colab": {
     "base_uri": "https://localhost:8080/",
     "height": 81
    },
    "id": "FfVr5qzJ4Gat",
    "outputId": "02b48ee5-efba-4f1d-f486-dff42ac20ab5",
    "pycharm": {
     "name": "#%%\n"
    }
   },
   "execution_count": 604,
   "outputs": [
    {
     "output_type": "execute_result",
     "data": {
      "text/plain": [
       "  age         job  marital  education default balance housing loan   contact  \\\n",
       "0  30  technician  married  secondary      no  100000      no   no  cellular   \n",
       "\n",
       "  day month duration campaign pdays previous poutcome voicemailplan  \n",
       "0  20   mar      300        1    -1        0  unknown            No  "
      ],
      "text/html": [
       "\n",
       "  <div id=\"df-7c945d0f-b94a-4247-a258-f4d62313f425\">\n",
       "    <div class=\"colab-df-container\">\n",
       "      <div>\n",
       "<style scoped>\n",
       "    .dataframe tbody tr th:only-of-type {\n",
       "        vertical-align: middle;\n",
       "    }\n",
       "\n",
       "    .dataframe tbody tr th {\n",
       "        vertical-align: top;\n",
       "    }\n",
       "\n",
       "    .dataframe thead th {\n",
       "        text-align: right;\n",
       "    }\n",
       "</style>\n",
       "<table border=\"1\" class=\"dataframe\">\n",
       "  <thead>\n",
       "    <tr style=\"text-align: right;\">\n",
       "      <th></th>\n",
       "      <th>age</th>\n",
       "      <th>job</th>\n",
       "      <th>marital</th>\n",
       "      <th>education</th>\n",
       "      <th>default</th>\n",
       "      <th>balance</th>\n",
       "      <th>housing</th>\n",
       "      <th>loan</th>\n",
       "      <th>contact</th>\n",
       "      <th>day</th>\n",
       "      <th>month</th>\n",
       "      <th>duration</th>\n",
       "      <th>campaign</th>\n",
       "      <th>pdays</th>\n",
       "      <th>previous</th>\n",
       "      <th>poutcome</th>\n",
       "      <th>voicemailplan</th>\n",
       "    </tr>\n",
       "  </thead>\n",
       "  <tbody>\n",
       "    <tr>\n",
       "      <th>0</th>\n",
       "      <td>30</td>\n",
       "      <td>technician</td>\n",
       "      <td>married</td>\n",
       "      <td>secondary</td>\n",
       "      <td>no</td>\n",
       "      <td>100000</td>\n",
       "      <td>no</td>\n",
       "      <td>no</td>\n",
       "      <td>cellular</td>\n",
       "      <td>20</td>\n",
       "      <td>mar</td>\n",
       "      <td>300</td>\n",
       "      <td>1</td>\n",
       "      <td>-1</td>\n",
       "      <td>0</td>\n",
       "      <td>unknown</td>\n",
       "      <td>No</td>\n",
       "    </tr>\n",
       "  </tbody>\n",
       "</table>\n",
       "</div>\n",
       "      <button class=\"colab-df-convert\" onclick=\"convertToInteractive('df-7c945d0f-b94a-4247-a258-f4d62313f425')\"\n",
       "              title=\"Convert this dataframe to an interactive table.\"\n",
       "              style=\"display:none;\">\n",
       "        \n",
       "  <svg xmlns=\"http://www.w3.org/2000/svg\" height=\"24px\"viewBox=\"0 0 24 24\"\n",
       "       width=\"24px\">\n",
       "    <path d=\"M0 0h24v24H0V0z\" fill=\"none\"/>\n",
       "    <path d=\"M18.56 5.44l.94 2.06.94-2.06 2.06-.94-2.06-.94-.94-2.06-.94 2.06-2.06.94zm-11 1L8.5 8.5l.94-2.06 2.06-.94-2.06-.94L8.5 2.5l-.94 2.06-2.06.94zm10 10l.94 2.06.94-2.06 2.06-.94-2.06-.94-.94-2.06-.94 2.06-2.06.94z\"/><path d=\"M17.41 7.96l-1.37-1.37c-.4-.4-.92-.59-1.43-.59-.52 0-1.04.2-1.43.59L10.3 9.45l-7.72 7.72c-.78.78-.78 2.05 0 2.83L4 21.41c.39.39.9.59 1.41.59.51 0 1.02-.2 1.41-.59l7.78-7.78 2.81-2.81c.8-.78.8-2.07 0-2.86zM5.41 20L4 18.59l7.72-7.72 1.47 1.35L5.41 20z\"/>\n",
       "  </svg>\n",
       "      </button>\n",
       "      \n",
       "  <style>\n",
       "    .colab-df-container {\n",
       "      display:flex;\n",
       "      flex-wrap:wrap;\n",
       "      gap: 12px;\n",
       "    }\n",
       "\n",
       "    .colab-df-convert {\n",
       "      background-color: #E8F0FE;\n",
       "      border: none;\n",
       "      border-radius: 50%;\n",
       "      cursor: pointer;\n",
       "      display: none;\n",
       "      fill: #1967D2;\n",
       "      height: 32px;\n",
       "      padding: 0 0 0 0;\n",
       "      width: 32px;\n",
       "    }\n",
       "\n",
       "    .colab-df-convert:hover {\n",
       "      background-color: #E2EBFA;\n",
       "      box-shadow: 0px 1px 2px rgba(60, 64, 67, 0.3), 0px 1px 3px 1px rgba(60, 64, 67, 0.15);\n",
       "      fill: #174EA6;\n",
       "    }\n",
       "\n",
       "    [theme=dark] .colab-df-convert {\n",
       "      background-color: #3B4455;\n",
       "      fill: #D2E3FC;\n",
       "    }\n",
       "\n",
       "    [theme=dark] .colab-df-convert:hover {\n",
       "      background-color: #434B5C;\n",
       "      box-shadow: 0px 1px 3px 1px rgba(0, 0, 0, 0.15);\n",
       "      filter: drop-shadow(0px 1px 2px rgba(0, 0, 0, 0.3));\n",
       "      fill: #FFFFFF;\n",
       "    }\n",
       "  </style>\n",
       "\n",
       "      <script>\n",
       "        const buttonEl =\n",
       "          document.querySelector('#df-7c945d0f-b94a-4247-a258-f4d62313f425 button.colab-df-convert');\n",
       "        buttonEl.style.display =\n",
       "          google.colab.kernel.accessAllowed ? 'block' : 'none';\n",
       "\n",
       "        async function convertToInteractive(key) {\n",
       "          const element = document.querySelector('#df-7c945d0f-b94a-4247-a258-f4d62313f425');\n",
       "          const dataTable =\n",
       "            await google.colab.kernel.invokeFunction('convertToInteractive',\n",
       "                                                     [key], {});\n",
       "          if (!dataTable) return;\n",
       "\n",
       "          const docLinkHtml = 'Like what you see? Visit the ' +\n",
       "            '<a target=\"_blank\" href=https://colab.research.google.com/notebooks/data_table.ipynb>data table notebook</a>'\n",
       "            + ' to learn more about interactive tables.';\n",
       "          element.innerHTML = '';\n",
       "          dataTable['output_type'] = 'display_data';\n",
       "          await google.colab.output.renderOutput(dataTable, element);\n",
       "          const docLink = document.createElement('div');\n",
       "          docLink.innerHTML = docLinkHtml;\n",
       "          element.appendChild(docLink);\n",
       "        }\n",
       "      </script>\n",
       "    </div>\n",
       "  </div>\n",
       "  "
      ]
     },
     "metadata": {},
     "execution_count": 604
    }
   ]
  },
  {
   "cell_type": "markdown",
   "source": [
    "Обработаем данные так же, как делали это при обучении модели."
   ],
   "metadata": {
    "id": "5c8wy7Ow5bf2",
    "pycharm": {
     "name": "#%% md\n"
    }
   }
  },
  {
   "cell_type": "code",
   "source": [
    "NewData_ohe = pd.DataFrame(OH_encoder.transform(NewData[categorical]), columns=OH_encoder.get_feature_names())\n",
    "NewData_num = pd.DataFrame(scaler.transform(NewData[numeric]), columns=NewData[numeric].columns)\n",
    "\n",
    "NewData = pd.concat([NewData_num, NewData_ohe], axis=1)"
   ],
   "metadata": {
    "id": "6YSIUIAF5cDl",
    "pycharm": {
     "name": "#%%\n"
    }
   },
   "execution_count": 605,
   "outputs": []
  },
  {
   "cell_type": "markdown",
   "source": [
    "Делаем предсказание при помощи бустинга."
   ],
   "metadata": {
    "id": "pgeF3VFX5f7W",
    "pycharm": {
     "name": "#%% md\n"
    }
   }
  },
  {
   "cell_type": "code",
   "source": [
    "gbm_preds = gbm.predict_proba(NewData)[:,1]\n",
    "\n",
    "gbm_preds"
   ],
   "metadata": {
    "colab": {
     "base_uri": "https://localhost:8080/"
    },
    "id": "J76iPUCk5emg",
    "outputId": "43f8859d-b16f-44ee-d8f6-2c198ab49388",
    "pycharm": {
     "name": "#%%\n"
    }
   },
   "execution_count": 608,
   "outputs": [
    {
     "output_type": "execute_result",
     "data": {
      "text/plain": [
       "array([0.87752385])"
      ]
     },
     "metadata": {},
     "execution_count": 608
    }
   ]
  }
 ],
 "metadata": {
  "kernelspec": {
   "display_name": "Python 3",
   "language": "python",
   "name": "python3"
  },
  "language_info": {
   "codemirror_mode": {
    "name": "ipython",
    "version": 3
   },
   "file_extension": ".py",
   "mimetype": "text/x-python",
   "name": "python",
   "nbconvert_exporter": "python",
   "pygments_lexer": "ipython3",
   "version": "3.7.6"
  },
  "colab": {
   "provenance": [],
   "collapsed_sections": [
    "cgXJLC1Yjpnm",
    "ORzwrTOrltqs",
    "rzypjl5l3Q57",
    "2nouWWLZl6oA",
    "Ec9XDcmPl_Pt",
    "0WKy0qt2QHw-",
    "N0qYwySGh9p_",
    "_ezdQM9tTcW6",
    "uEfHkqnRJZZK",
    "eBiOpVHgJzI0",
    "1q_Yuqqh1_Uo",
    "awKTEBC_3AYk"
   ]
  }
 },
 "nbformat": 4,
 "nbformat_minor": 0
}